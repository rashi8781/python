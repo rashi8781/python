{
 "cells": [
  {
   "cell_type": "code",
   "execution_count": 1,
   "metadata": {},
   "outputs": [
    {
     "name": "stdout",
     "output_type": "stream",
     "text": [
      "['__doc__', '__name__', '__package__', 'acos', 'acosh', 'asin', 'asinh', 'atan', 'atan2', 'atanh', 'ceil', 'copysign', 'cos', 'cosh', 'degrees', 'e', 'erf', 'erfc', 'exp', 'expm1', 'fabs', 'factorial', 'floor', 'fmod', 'frexp', 'fsum', 'gamma', 'hypot', 'isinf', 'isnan', 'ldexp', 'lgamma', 'log', 'log10', 'log1p', 'modf', 'pi', 'pow', 'radians', 'sin', 'sinh', 'sqrt', 'tan', 'tanh', 'trunc']\n"
     ]
    }
   ],
   "source": [
    "import math\n",
    "\n",
    "print(dir(math))"
   ]
  },
  {
   "cell_type": "code",
   "execution_count": 2,
   "metadata": {},
   "outputs": [
    {
     "name": "stderr",
     "output_type": "stream",
     "text": [
      "'ls' is not recognized as an internal or external command,\n",
      "operable program or batch file.\n"
     ]
    }
   ],
   "source": [
    "!ls /"
   ]
  },
  {
   "cell_type": "code",
   "execution_count": 3,
   "metadata": {},
   "outputs": [
    {
     "data": {
      "text/plain": [
       "u'C:\\\\Users\\\\Ritesh Agarwal'"
      ]
     },
     "execution_count": 3,
     "metadata": {},
     "output_type": "execute_result"
    }
   ],
   "source": [
    "%pwd"
   ]
  },
  {
   "cell_type": "code",
   "execution_count": 4,
   "metadata": {},
   "outputs": [
    {
     "name": "stdout",
     "output_type": "stream",
     "text": [
      "C:\\Users\\Ritesh Agarwal\\Citrix\n"
     ]
    }
   ],
   "source": [
    "cd Citrix"
   ]
  },
  {
   "cell_type": "code",
   "execution_count": 5,
   "metadata": {},
   "outputs": [
    {
     "data": {
      "text/plain": [
       "u'C:\\\\Users\\\\Ritesh Agarwal\\\\Citrix'"
      ]
     },
     "execution_count": 5,
     "metadata": {},
     "output_type": "execute_result"
    }
   ],
   "source": [
    "%pwd"
   ]
  },
  {
   "cell_type": "code",
   "execution_count": 6,
   "metadata": {},
   "outputs": [
    {
     "name": "stdout",
     "output_type": "stream",
     "text": [
      "C:\\Users\\Ritesh Agarwal\n"
     ]
    }
   ],
   "source": [
    "cd .."
   ]
  },
  {
   "cell_type": "code",
   "execution_count": 7,
   "metadata": {},
   "outputs": [
    {
     "data": {
      "text/plain": [
       "u'C:\\\\Users\\\\Ritesh Agarwal'"
      ]
     },
     "execution_count": 7,
     "metadata": {},
     "output_type": "execute_result"
    }
   ],
   "source": [
    "%pwd"
   ]
  },
  {
   "cell_type": "code",
   "execution_count": 8,
   "metadata": {},
   "outputs": [
    {
     "name": "stdout",
     "output_type": "stream",
     "text": [
      "Help on built-in function log in module math:\n",
      "\n",
      "log(...)\n",
      "    log(x[, base])\n",
      "    \n",
      "    Return the logarithm of x to the given base.\n",
      "    If the base not specified, returns the natural logarithm (base e) of x.\n",
      "\n"
     ]
    }
   ],
   "source": [
    "help(math.log)"
   ]
  },
  {
   "cell_type": "code",
   "execution_count": 9,
   "metadata": {},
   "outputs": [
    {
     "name": "stdout",
     "output_type": "stream",
     "text": [
      "Help on built-in module math:\n",
      "\n",
      "NAME\n",
      "    math\n",
      "\n",
      "FILE\n",
      "    (built-in)\n",
      "\n",
      "DESCRIPTION\n",
      "    This module is always available.  It provides access to the\n",
      "    mathematical functions defined by the C standard.\n",
      "\n",
      "FUNCTIONS\n",
      "    acos(...)\n",
      "        acos(x)\n",
      "        \n",
      "        Return the arc cosine (measured in radians) of x.\n",
      "    \n",
      "    acosh(...)\n",
      "        acosh(x)\n",
      "        \n",
      "        Return the inverse hyperbolic cosine of x.\n",
      "    \n",
      "    asin(...)\n",
      "        asin(x)\n",
      "        \n",
      "        Return the arc sine (measured in radians) of x.\n",
      "    \n",
      "    asinh(...)\n",
      "        asinh(x)\n",
      "        \n",
      "        Return the inverse hyperbolic sine of x.\n",
      "    \n",
      "    atan(...)\n",
      "        atan(x)\n",
      "        \n",
      "        Return the arc tangent (measured in radians) of x.\n",
      "    \n",
      "    atan2(...)\n",
      "        atan2(y, x)\n",
      "        \n",
      "        Return the arc tangent (measured in radians) of y/x.\n",
      "        Unlike atan(y/x), the signs of both x and y are considered.\n",
      "    \n",
      "    atanh(...)\n",
      "        atanh(x)\n",
      "        \n",
      "        Return the inverse hyperbolic tangent of x.\n",
      "    \n",
      "    ceil(...)\n",
      "        ceil(x)\n",
      "        \n",
      "        Return the ceiling of x as a float.\n",
      "        This is the smallest integral value >= x.\n",
      "    \n",
      "    copysign(...)\n",
      "        copysign(x, y)\n",
      "        \n",
      "        Return x with the sign of y.\n",
      "    \n",
      "    cos(...)\n",
      "        cos(x)\n",
      "        \n",
      "        Return the cosine of x (measured in radians).\n",
      "    \n",
      "    cosh(...)\n",
      "        cosh(x)\n",
      "        \n",
      "        Return the hyperbolic cosine of x.\n",
      "    \n",
      "    degrees(...)\n",
      "        degrees(x)\n",
      "        \n",
      "        Convert angle x from radians to degrees.\n",
      "    \n",
      "    erf(...)\n",
      "        erf(x)\n",
      "        \n",
      "        Error function at x.\n",
      "    \n",
      "    erfc(...)\n",
      "        erfc(x)\n",
      "        \n",
      "        Complementary error function at x.\n",
      "    \n",
      "    exp(...)\n",
      "        exp(x)\n",
      "        \n",
      "        Return e raised to the power of x.\n",
      "    \n",
      "    expm1(...)\n",
      "        expm1(x)\n",
      "        \n",
      "        Return exp(x)-1.\n",
      "        This function avoids the loss of precision involved in the direct evaluation of exp(x)-1 for small x.\n",
      "    \n",
      "    fabs(...)\n",
      "        fabs(x)\n",
      "        \n",
      "        Return the absolute value of the float x.\n",
      "    \n",
      "    factorial(...)\n",
      "        factorial(x) -> Integral\n",
      "        \n",
      "        Find x!. Raise a ValueError if x is negative or non-integral.\n",
      "    \n",
      "    floor(...)\n",
      "        floor(x)\n",
      "        \n",
      "        Return the floor of x as a float.\n",
      "        This is the largest integral value <= x.\n",
      "    \n",
      "    fmod(...)\n",
      "        fmod(x, y)\n",
      "        \n",
      "        Return fmod(x, y), according to platform C.  x % y may differ.\n",
      "    \n",
      "    frexp(...)\n",
      "        frexp(x)\n",
      "        \n",
      "        Return the mantissa and exponent of x, as pair (m, e).\n",
      "        m is a float and e is an int, such that x = m * 2.**e.\n",
      "        If x is 0, m and e are both 0.  Else 0.5 <= abs(m) < 1.0.\n",
      "    \n",
      "    fsum(...)\n",
      "        fsum(iterable)\n",
      "        \n",
      "        Return an accurate floating point sum of values in the iterable.\n",
      "        Assumes IEEE-754 floating point arithmetic.\n",
      "    \n",
      "    gamma(...)\n",
      "        gamma(x)\n",
      "        \n",
      "        Gamma function at x.\n",
      "    \n",
      "    hypot(...)\n",
      "        hypot(x, y)\n",
      "        \n",
      "        Return the Euclidean distance, sqrt(x*x + y*y).\n",
      "    \n",
      "    isinf(...)\n",
      "        isinf(x) -> bool\n",
      "        \n",
      "        Check if float x is infinite (positive or negative).\n",
      "    \n",
      "    isnan(...)\n",
      "        isnan(x) -> bool\n",
      "        \n",
      "        Check if float x is not a number (NaN).\n",
      "    \n",
      "    ldexp(...)\n",
      "        ldexp(x, i)\n",
      "        \n",
      "        Return x * (2**i).\n",
      "    \n",
      "    lgamma(...)\n",
      "        lgamma(x)\n",
      "        \n",
      "        Natural logarithm of absolute value of Gamma function at x.\n",
      "    \n",
      "    log(...)\n",
      "        log(x[, base])\n",
      "        \n",
      "        Return the logarithm of x to the given base.\n",
      "        If the base not specified, returns the natural logarithm (base e) of x.\n",
      "    \n",
      "    log10(...)\n",
      "        log10(x)\n",
      "        \n",
      "        Return the base 10 logarithm of x.\n",
      "    \n",
      "    log1p(...)\n",
      "        log1p(x)\n",
      "        \n",
      "        Return the natural logarithm of 1+x (base e).\n",
      "        The result is computed in a way which is accurate for x near zero.\n",
      "    \n",
      "    modf(...)\n",
      "        modf(x)\n",
      "        \n",
      "        Return the fractional and integer parts of x.  Both results carry the sign\n",
      "        of x and are floats.\n",
      "    \n",
      "    pow(...)\n",
      "        pow(x, y)\n",
      "        \n",
      "        Return x**y (x to the power of y).\n",
      "    \n",
      "    radians(...)\n",
      "        radians(x)\n",
      "        \n",
      "        Convert angle x from degrees to radians.\n",
      "    \n",
      "    sin(...)\n",
      "        sin(x)\n",
      "        \n",
      "        Return the sine of x (measured in radians).\n",
      "    \n",
      "    sinh(...)\n",
      "        sinh(x)\n",
      "        \n",
      "        Return the hyperbolic sine of x.\n",
      "    \n",
      "    sqrt(...)\n",
      "        sqrt(x)\n",
      "        \n",
      "        Return the square root of x.\n",
      "    \n",
      "    tan(...)\n",
      "        tan(x)\n",
      "        \n",
      "        Return the tangent of x (measured in radians).\n",
      "    \n",
      "    tanh(...)\n",
      "        tanh(x)\n",
      "        \n",
      "        Return the hyperbolic tangent of x.\n",
      "    \n",
      "    trunc(...)\n",
      "        trunc(x:Real) -> Integral\n",
      "        \n",
      "        Truncates x to the nearest Integral toward 0. Uses the __trunc__ magic method.\n",
      "\n",
      "DATA\n",
      "    e = 2.718281828459045\n",
      "    pi = 3.141592653589793\n",
      "\n",
      "\n"
     ]
    }
   ],
   "source": [
    "help(math)"
   ]
  },
  {
   "cell_type": "code",
   "execution_count": 13,
   "metadata": {},
   "outputs": [
    {
     "name": "stdout",
     "output_type": "stream",
     "text": [
      "The first four digits of pi are 3.142\n"
     ]
    }
   ],
   "source": [
    "print 'The first four digits of pi are '+ str(3.142)"
   ]
  },
  {
   "cell_type": "code",
   "execution_count": 14,
   "metadata": {},
   "outputs": [
    {
     "name": "stdout",
     "output_type": "stream",
     "text": [
      "the first four digits of pi are 3.142\n"
     ]
    }
   ],
   "source": [
    "print 'the first four digits of pi are {}'.format(3.142)"
   ]
  },
  {
   "cell_type": "code",
   "execution_count": 17,
   "metadata": {},
   "outputs": [
    {
     "name": "stdout",
     "output_type": "stream",
     "text": [
      "the first four digits of pi are 3.142 and the value of e is 2.73\n"
     ]
    }
   ],
   "source": [
    " print 'the first four digits of pi are {} and the value of e is {}'.format(3.142,2.73)"
   ]
  },
  {
   "cell_type": "code",
   "execution_count": 20,
   "metadata": {},
   "outputs": [
    {
     "name": "stdout",
     "output_type": "stream",
     "text": [
      "True\n"
     ]
    }
   ],
   "source": [
    "i =1\n",
    "print isinstance (i,int)"
   ]
  },
  {
   "cell_type": "code",
   "execution_count": 22,
   "metadata": {},
   "outputs": [
    {
     "name": "stdout",
     "output_type": "stream",
     "text": [
      "False\n"
     ]
    }
   ],
   "source": [
    "x=4.3\n",
    "print isinstance (x, int)"
   ]
  },
  {
   "cell_type": "code",
   "execution_count": 28,
   "metadata": {},
   "outputs": [
    {
     "name": "stdout",
     "output_type": "stream",
     "text": [
      "True\n",
      "True\n"
     ]
    }
   ],
   "source": [
    "print type(i) == int\n",
    "print type(x) == float"
   ]
  },
  {
   "cell_type": "code",
   "execution_count": 33,
   "metadata": {},
   "outputs": [
    {
     "data": {
      "text/plain": [
       "bool"
      ]
     },
     "execution_count": 33,
     "metadata": {},
     "output_type": "execute_result"
    }
   ],
   "source": [
    "b1 = True\n",
    "type(b1)"
   ]
  },
  {
   "cell_type": "code",
   "execution_count": 32,
   "metadata": {},
   "outputs": [
    {
     "data": {
      "text/plain": [
       "bool"
      ]
     },
     "execution_count": 32,
     "metadata": {},
     "output_type": "execute_result"
    }
   ],
   "source": [
    "b1 = True\n",
    "b2 = False\n",
    "\n",
    "type(b1)"
   ]
  },
  {
   "cell_type": "code",
   "execution_count": 35,
   "metadata": {},
   "outputs": [
    {
     "data": {
      "text/plain": [
       "complex"
      ]
     },
     "execution_count": 35,
     "metadata": {},
     "output_type": "execute_result"
    }
   ],
   "source": [
    "comp=1.0 - 1.0j\n",
    "type(comp)"
   ]
  },
  {
   "cell_type": "code",
   "execution_count": 37,
   "metadata": {},
   "outputs": [
    {
     "name": "stdout",
     "output_type": "stream",
     "text": [
      "(1.0, -1.0)\n"
     ]
    }
   ],
   "source": [
    "print(comp.real, comp.imag)"
   ]
  },
  {
   "cell_type": "code",
   "execution_count": 43,
   "metadata": {},
   "outputs": [
    {
     "name": "stdout",
     "output_type": "stream",
     "text": [
      "True\n",
      "True\n",
      "True\n"
     ]
    }
   ],
   "source": [
    "x=1.0\n",
    "print isinstance(x,float)\n",
    "print type(x) == float\n",
    "print type(x) is float"
   ]
  },
  {
   "cell_type": "code",
   "execution_count": 45,
   "metadata": {},
   "outputs": [
    {
     "name": "stdout",
     "output_type": "stream",
     "text": [
      "(13.8, <type 'float'>)\n"
     ]
    }
   ],
   "source": [
    "y=13.8\n",
    "print (y, type(y))"
   ]
  },
  {
   "cell_type": "code",
   "execution_count": 46,
   "metadata": {},
   "outputs": [
    {
     "name": "stdout",
     "output_type": "stream",
     "text": [
      "(13, <type 'int'>)\n"
     ]
    }
   ],
   "source": [
    "y=int(y)\n",
    "print(y,type(y))"
   ]
  },
  {
   "cell_type": "code",
   "execution_count": 47,
   "metadata": {},
   "outputs": [
    {
     "name": "stdout",
     "output_type": "stream",
     "text": [
      "16.0\n"
     ]
    }
   ],
   "source": [
    "z=16\n",
    "z=float(z)\n",
    "print(z)"
   ]
  },
  {
   "cell_type": "code",
   "execution_count": 63,
   "metadata": {},
   "outputs": [
    {
     "name": "stdout",
     "output_type": "stream",
     "text": [
      "((13+0j), <type 'complex'>)\n"
     ]
    }
   ],
   "source": [
    "z1=complex(y)\n",
    "print(z1, type(z1))"
   ]
  },
  {
   "cell_type": "code",
   "execution_count": 60,
   "metadata": {},
   "outputs": [
    {
     "name": "stdout",
     "output_type": "stream",
     "text": [
      "13\n"
     ]
    }
   ],
   "source": [
    "z1=int(z1.real)\n",
    "print(z1)"
   ]
  },
  {
   "cell_type": "code",
   "execution_count": 64,
   "metadata": {},
   "outputs": [
    {
     "name": "stdout",
     "output_type": "stream",
     "text": [
      "(13.0, True, <type 'bool'>)\n"
     ]
    }
   ],
   "source": [
    "z2=bool(z1.real)\n",
    "print (z1.real,z2,type(z2))"
   ]
  },
  {
   "cell_type": "code",
   "execution_count": 65,
   "metadata": {},
   "outputs": [
    {
     "name": "stdout",
     "output_type": "stream",
     "text": [
      "(0.0, False, <type 'bool'>)\n"
     ]
    }
   ],
   "source": [
    "z3=bool(z1.imag)\n",
    "print (z1.imag,z3, type(z3))"
   ]
  },
  {
   "cell_type": "code",
   "execution_count": 66,
   "metadata": {},
   "outputs": [
    {
     "data": {
      "text/plain": [
       "1"
      ]
     },
     "execution_count": 66,
     "metadata": {},
     "output_type": "execute_result"
    }
   ],
   "source": [
    "3//2"
   ]
  },
  {
   "cell_type": "code",
   "execution_count": 67,
   "metadata": {},
   "outputs": [
    {
     "data": {
      "text/plain": [
       "1"
      ]
     },
     "execution_count": 67,
     "metadata": {},
     "output_type": "execute_result"
    }
   ],
   "source": [
    "3/2"
   ]
  },
  {
   "cell_type": "code",
   "execution_count": 68,
   "metadata": {},
   "outputs": [
    {
     "data": {
      "text/plain": [
       "0"
      ]
     },
     "execution_count": 68,
     "metadata": {},
     "output_type": "execute_result"
    }
   ],
   "source": [
    "1/2"
   ]
  },
  {
   "cell_type": "code",
   "execution_count": 69,
   "metadata": {},
   "outputs": [
    {
     "data": {
      "text/plain": [
       "0.5"
      ]
     },
     "execution_count": 69,
     "metadata": {},
     "output_type": "execute_result"
    }
   ],
   "source": [
    "1.0/2"
   ]
  },
  {
   "cell_type": "code",
   "execution_count": 70,
   "metadata": {},
   "outputs": [
    {
     "data": {
      "text/plain": [
       "0"
      ]
     },
     "execution_count": 70,
     "metadata": {},
     "output_type": "execute_result"
    }
   ],
   "source": [
    "1//2"
   ]
  },
  {
   "cell_type": "code",
   "execution_count": 71,
   "metadata": {},
   "outputs": [
    {
     "data": {
      "text/plain": [
       "0.0"
      ]
     },
     "execution_count": 71,
     "metadata": {},
     "output_type": "execute_result"
    }
   ],
   "source": [
    "1.0//2"
   ]
  },
  {
   "cell_type": "code",
   "execution_count": 2,
   "metadata": {},
   "outputs": [
    {
     "name": "stdout",
     "output_type": "stream",
     "text": [
      "this is my school\n"
     ]
    }
   ],
   "source": [
    "s1= \"this is my school\"\n",
    "print(s1)"
   ]
  },
  {
   "cell_type": "code",
   "execution_count": 6,
   "metadata": {},
   "outputs": [
    {
     "name": "stdout",
     "output_type": "stream",
     "text": [
      "this is my school this is my school this is my school this is my school this is my school \n"
     ]
    }
   ],
   "source": [
    "print (s1 + \" \" )* 5"
   ]
  },
  {
   "cell_type": "code",
   "execution_count": 12,
   "metadata": {},
   "outputs": [
    {
     "name": "stdout",
     "output_type": "stream",
     "text": [
      "value1 = 3.14, value2 = 1\n"
     ]
    }
   ],
   "source": [
    "s1= \"value1 = %.2f, value2 = %d\" %(3.142,1.5)\n",
    "print s1"
   ]
  },
  {
   "cell_type": "code",
   "execution_count": 15,
   "metadata": {},
   "outputs": [
    {
     "name": "stdout",
     "output_type": "stream",
     "text": [
      "value1=10,value2=3.142\n"
     ]
    }
   ],
   "source": [
    "s2= 'value1={},value2={}'.format(3.142,10)\n",
    "print(s2)"
   ]
  },
  {
   "cell_type": "code",
   "execution_count": 17,
   "metadata": {},
   "outputs": [
    {
     "name": "stdout",
     "output_type": "stream",
     "text": [
      "value1=10, value2=3.142 \n"
     ]
    }
   ],
   "source": [
    "s2= \"value1={1}, value2={0}\".format(3.142,10)\n",
    "print(s2)"
   ]
  },
  {
   "cell_type": "code",
   "execution_count": 25,
   "metadata": {},
   "outputs": [
    {
     "name": "stdout",
     "output_type": "stream",
     "text": [
      "[10, 12, 14, 16, 18]\n"
     ]
    }
   ],
   "source": [
    "\n",
    "l=list(range(10,20,2))\n",
    "print l"
   ]
  },
  {
   "cell_type": "code",
   "execution_count": 20,
   "metadata": {},
   "outputs": [
    {
     "data": {
      "text/plain": [
       "list"
      ]
     },
     "execution_count": 20,
     "metadata": {},
     "output_type": "execute_result"
    }
   ],
   "source": [
    "type(range(10,20,2))"
   ]
  },
  {
   "cell_type": "code",
   "execution_count": 28,
   "metadata": {},
   "outputs": [
    {
     "name": "stdout",
     "output_type": "stream",
     "text": [
      "[18, 16, 14, 12, 10]\n",
      "[10, 12, 14, 16, 18]\n"
     ]
    }
   ],
   "source": [
    "l.reverse()\n",
    "print(l)\n",
    "l.sort()\n",
    "print(l)"
   ]
  },
  {
   "cell_type": "code",
   "execution_count": 6,
   "metadata": {},
   "outputs": [
    {
     "data": {
      "text/plain": [
       "{1, 3, 5, 7, 'a', 'c', 'r'}"
      ]
     },
     "execution_count": 6,
     "metadata": {},
     "output_type": "execute_result"
    }
   ],
   "source": [
    "t1=set([1,3,5,7,'a','r','c'])\n",
    "t1"
   ]
  },
  {
   "cell_type": "code",
   "execution_count": 7,
   "metadata": {},
   "outputs": [],
   "source": [
    "t1.add(2)\n",
    "t1.add('d')"
   ]
  },
  {
   "cell_type": "code",
   "execution_count": 8,
   "metadata": {},
   "outputs": [
    {
     "data": {
      "text/plain": [
       "{1, 2, 3, 5, 7, 'a', 'c', 'd', 'r'}"
      ]
     },
     "execution_count": 8,
     "metadata": {},
     "output_type": "execute_result"
    }
   ],
   "source": [
    "t1"
   ]
  },
  {
   "cell_type": "code",
   "execution_count": 9,
   "metadata": {},
   "outputs": [
    {
     "data": {
      "text/plain": [
       "{1, 2, 3, 5, 7, 'a', 'c', 'd', 'f', 'r', 'w'}"
      ]
     },
     "execution_count": 9,
     "metadata": {},
     "output_type": "execute_result"
    }
   ],
   "source": [
    "t1.union(['r','f','w'])"
   ]
  },
  {
   "cell_type": "code",
   "execution_count": 10,
   "metadata": {},
   "outputs": [
    {
     "data": {
      "text/plain": [
       "{1, 2, 3, 'a'}"
      ]
     },
     "execution_count": 10,
     "metadata": {},
     "output_type": "execute_result"
    }
   ],
   "source": [
    "t1.intersection([1,2,3,4,'a'])"
   ]
  },
  {
   "cell_type": "code",
   "execution_count": 11,
   "metadata": {},
   "outputs": [],
   "source": [
    "t2=set([1,2,6,7,'b','d'])"
   ]
  },
  {
   "cell_type": "code",
   "execution_count": 13,
   "metadata": {},
   "outputs": [
    {
     "data": {
      "text/plain": [
       "{1, 2, 3, 5, 6, 7, 'a', 'b', 'c', 'd', 'r'}"
      ]
     },
     "execution_count": 13,
     "metadata": {},
     "output_type": "execute_result"
    }
   ],
   "source": [
    "t1.union(t2)"
   ]
  },
  {
   "cell_type": "code",
   "execution_count": 14,
   "metadata": {},
   "outputs": [
    {
     "data": {
      "text/plain": [
       "{1, 2, 7, 'd'}"
      ]
     },
     "execution_count": 14,
     "metadata": {},
     "output_type": "execute_result"
    }
   ],
   "source": [
    "t1.intersection(t2)"
   ]
  },
  {
   "cell_type": "code",
   "execution_count": 25,
   "metadata": {},
   "outputs": [
    {
     "name": "stdout",
     "output_type": "stream",
     "text": [
      "both statements are incorrect\n"
     ]
    }
   ],
   "source": [
    "x=4\n",
    "if x//3==0:\n",
    "    print (\"stmt1 s true\")\n",
    "elif x%3==0:\n",
    "    print (\"stmt2is true\")\n",
    "else:\n",
    "    print (\"both statements are incorrect\")"
   ]
  },
  {
   "cell_type": "code",
   "execution_count": 19,
   "metadata": {},
   "outputs": [
    {
     "name": "stdout",
     "output_type": "stream",
     "text": [
      "stmt1 and stmt2 are false\n"
     ]
    }
   ],
   "source": [
    "stmt1=False\n",
    "stmt2=False\n",
    "\n",
    "if stmt1:\n",
    "    print(\"stmt1 is true\")\n",
    "elif stmt2:\n",
    "    print(\"stmt2 is true\")\n",
    "else:\n",
    "    print(\"stmt1 and stmt2 are false\")"
   ]
  },
  {
   "cell_type": "code",
   "execution_count": 61,
   "metadata": {},
   "outputs": [
    {
     "name": "stdout",
     "output_type": "stream",
     "text": [
      "young\n"
     ]
    }
   ],
   "source": [
    "age=30\n",
    "if (age>10) | (age<40):\n",
    "    print(\"young\")\n",
    "else:\n",
    "    print(\"baby\")"
   ]
  },
  {
   "cell_type": "code",
   "execution_count": 67,
   "metadata": {},
   "outputs": [
    {
     "name": "stdout",
     "output_type": "stream",
     "text": [
      "young\n"
     ]
    }
   ],
   "source": [
    "age=3\n",
    "if age>10 or age<40:\n",
    "    print(\"young\")\n",
    "else:\n",
    "    print(\"baby\")"
   ]
  },
  {
   "cell_type": "code",
   "execution_count": 40,
   "metadata": {},
   "outputs": [
    {
     "data": {
      "text/plain": [
       "'baby'"
      ]
     },
     "execution_count": 40,
     "metadata": {},
     "output_type": "execute_result"
    }
   ],
   "source": [
    "\"Adult\" if (age>10) else \"baby\""
   ]
  },
  {
   "cell_type": "code",
   "execution_count": 69,
   "metadata": {},
   "outputs": [
    {
     "data": {
      "text/plain": [
       "'baby'"
      ]
     },
     "execution_count": 69,
     "metadata": {},
     "output_type": "execute_result"
    }
   ],
   "source": [
    "\"Adult\" if (age>10) else \"baby\" if (age<5) else \"young\""
   ]
  },
  {
   "cell_type": "code",
   "execution_count": 65,
   "metadata": {},
   "outputs": [
    {
     "name": "stdout",
     "output_type": "stream",
     "text": [
      "baby\n"
     ]
    }
   ],
   "source": [
    "age=3\n",
    "if age>10 and age<40:\n",
    "    print(\"young\")\n",
    "else:\n",
    "    print(\"baby\")"
   ]
  },
  {
   "cell_type": "code",
   "execution_count": 70,
   "metadata": {},
   "outputs": [
    {
     "ename": "NameError",
     "evalue": "name 'condition' is not defined",
     "output_type": "error",
     "traceback": [
      "\u001b[1;31m---------------------------------------------------------------------------\u001b[0m",
      "\u001b[1;31mNameError\u001b[0m                                 Traceback (most recent call last)",
      "\u001b[1;32m<ipython-input-70-de36fec315e7>\u001b[0m in \u001b[0;36m<module>\u001b[1;34m()\u001b[0m\n\u001b[1;32m----> 1\u001b[1;33m \u001b[1;34m\"yes value\"\u001b[0m \u001b[1;32mif\u001b[0m \u001b[1;33m(\u001b[0m\u001b[0mcondition\u001b[0m\u001b[1;33m)\u001b[0m \u001b[1;32melse\u001b[0m \u001b[1;34m\"yes value\"\u001b[0m \u001b[1;32mif\u001b[0m \u001b[1;33m(\u001b[0m\u001b[0mcondition\u001b[0m\u001b[1;33m)\u001b[0m \u001b[1;32melse\u001b[0m \u001b[1;34m\"value\"\u001b[0m\u001b[1;33m\u001b[0m\u001b[0m\n\u001b[0m",
      "\u001b[1;31mNameError\u001b[0m: name 'condition' is not defined"
     ]
    }
   ],
   "source": [
    "\"yes value\" if (condition) else \"yes value\" if (condition) else \"value\""
   ]
  },
  {
   "cell_type": "code",
   "execution_count": 71,
   "metadata": {},
   "outputs": [
    {
     "name": "stdout",
     "output_type": "stream",
     "text": [
      "not matched\n"
     ]
    }
   ],
   "source": [
    "name='Joe'\n",
    "if name=='chandra':\n",
    "        print\"names matched\"\n",
    "else:\n",
    "        print\"not matched\""
   ]
  },
  {
   "cell_type": "code",
   "execution_count": 74,
   "metadata": {},
   "outputs": [
    {
     "name": "stdout",
     "output_type": "stream",
     "text": [
      "y criteria not matched\n"
     ]
    }
   ],
   "source": [
    "x=1\n",
    "y=3\n",
    "if x==1:\n",
    "    if y==2:\n",
    "        print \"statements are correct\"\n",
    "    else:\n",
    "        print \"y criteria not matched\"\n",
    "else:\n",
    "    print \"both criteria not matched\""
   ]
  },
  {
   "cell_type": "code",
   "execution_count": 75,
   "metadata": {},
   "outputs": [],
   "source": [
    "#repeat a process for known no. of times ---for loop--always happens(iterates) over a list\n",
    "#repeat a process for till a condition is met --  while loop"
   ]
  },
  {
   "cell_type": "code",
   "execution_count": 79,
   "metadata": {},
   "outputs": [
    {
     "name": "stdout",
     "output_type": "stream",
     "text": [
      "0\n",
      "0\n",
      "done loop no 0\n",
      "1\n",
      "1\n",
      "done loop no 1\n",
      "2\n",
      "4\n",
      "done loop no 2\n",
      "3\n",
      "9\n",
      "done loop no 3\n"
     ]
    }
   ],
   "source": [
    "for x in (range (4)):\n",
    "    print(x)\n",
    "    print(x**2)\n",
    "    print \"done loop no \" + str(x)"
   ]
  },
  {
   "cell_type": "code",
   "execution_count": 78,
   "metadata": {},
   "outputs": [
    {
     "name": "stdout",
     "output_type": "stream",
     "text": [
      "1\n",
      "2\n",
      "3\n",
      "4\n"
     ]
    }
   ],
   "source": [
    "for x in [1,2,3,4]:\n",
    "    print(x)"
   ]
  },
  {
   "cell_type": "code",
   "execution_count": 80,
   "metadata": {},
   "outputs": [
    {
     "name": "stdout",
     "output_type": "stream",
     "text": [
      "a\n",
      "b\n",
      "c\n",
      "d\n"
     ]
    }
   ],
   "source": [
    "for y in list(\"abcd\"):\n",
    "    print(y)"
   ]
  },
  {
   "cell_type": "code",
   "execution_count": 81,
   "metadata": {},
   "outputs": [],
   "source": [
    "#range --all integers\n",
    "#arange -- will give decimal numbers as well ..function inside numpy package\n",
    "#linspace --equidistant cuts in given range..just specify how many cuts u want --part of numpy package"
   ]
  },
  {
   "cell_type": "code",
   "execution_count": 6,
   "metadata": {},
   "outputs": [
    {
     "data": {
      "text/plain": [
       "'i love analytics'"
      ]
     },
     "execution_count": 6,
     "metadata": {},
     "output_type": "execute_result"
    }
   ],
   "source": [
    "s1=\"i love analytics\"\n",
    "s1"
   ]
  },
  {
   "cell_type": "code",
   "execution_count": 7,
   "metadata": {},
   "outputs": [
    {
     "data": {
      "text/plain": [
       "['i', 'love', 'analytics']"
      ]
     },
     "execution_count": 7,
     "metadata": {},
     "output_type": "execute_result"
    }
   ],
   "source": [
    "s2=s1.split()\n",
    "s2"
   ]
  },
  {
   "cell_type": "code",
   "execution_count": 5,
   "metadata": {},
   "outputs": [
    {
     "data": {
      "text/plain": [
       "'i love analytics'"
      ]
     },
     "execution_count": 5,
     "metadata": {},
     "output_type": "execute_result"
    }
   ],
   "source": [
    "\" \".join(s2)"
   ]
  },
  {
   "cell_type": "code",
   "execution_count": 8,
   "metadata": {},
   "outputs": [
    {
     "name": "stdout",
     "output_type": "stream",
     "text": [
      "i\n",
      "love\n",
      "analytics\n"
     ]
    }
   ],
   "source": [
    "for s3 in s2:\n",
    "    print(s3)"
   ]
  },
  {
   "cell_type": "code",
   "execution_count": 87,
   "metadata": {},
   "outputs": [
    {
     "data": {
      "text/plain": [
       "['a', 'b', 'c', 'd']"
      ]
     },
     "execution_count": 87,
     "metadata": {},
     "output_type": "execute_result"
    }
   ],
   "source": [
    "c1=list(\"abcd\")\n",
    "c1"
   ]
  },
  {
   "cell_type": "code",
   "execution_count": 91,
   "metadata": {},
   "outputs": [
    {
     "data": {
      "text/plain": [
       "['abcd']"
      ]
     },
     "execution_count": 91,
     "metadata": {},
     "output_type": "execute_result"
    }
   ],
   "source": [
    "c1=list([\"abcd\"])\n",
    "c1"
   ]
  },
  {
   "cell_type": "code",
   "execution_count": 9,
   "metadata": {},
   "outputs": [
    {
     "name": "stdout",
     "output_type": "stream",
     "text": [
      "0\n",
      "2\n",
      "4\n",
      "done\n"
     ]
    }
   ],
   "source": [
    "i=0\n",
    "while i<5:\n",
    "    print (i)\n",
    "    i+=2\n",
    "print(\"done\")"
   ]
  },
  {
   "cell_type": "code",
   "execution_count": 10,
   "metadata": {},
   "outputs": [],
   "source": [
    "def abc(a):\n",
    "    v=a**2"
   ]
  },
  {
   "cell_type": "code",
   "execution_count": 21,
   "metadata": {},
   "outputs": [
    {
     "name": "stdout",
     "output_type": "stream",
     "text": [
      "[2002, 2009, 2016, 2023, 2037, 2044, 2051, 2058, 2072, 2079, 2086, 2093, 2107, 2114, 2121, 2128, 2142, 2149, 2156, 2163, 2177, 2184, 2191, 2198, 2212, 2219, 2226, 2233, 2247, 2254, 2261, 2268, 2282, 2289, 2296, 2303, 2317, 2324, 2331, 2338, 2352, 2359, 2366, 2373, 2387, 2394, 2401, 2408, 2422, 2429, 2436, 2443, 2457, 2464, 2471, 2478, 2492, 2499, 2506, 2513, 2527, 2534, 2541, 2548, 2562, 2569, 2576, 2583, 2597, 2604, 2611, 2618, 2632, 2639, 2646, 2653, 2667, 2674, 2681, 2688, 2702, 2709, 2716, 2723, 2737, 2744, 2751, 2758, 2772, 2779, 2786, 2793, 2807, 2814, 2821, 2828, 2842, 2849, 2856, 2863, 2877, 2884, 2891, 2898, 2912, 2919, 2926, 2933, 2947, 2954, 2961, 2968, 2982, 2989, 2996, 3003, 3017, 3024, 3031, 3038, 3052, 3059, 3066, 3073, 3087, 3094, 3101, 3108, 3122, 3129, 3136, 3143, 3157, 3164, 3171, 3178, 3192, 3199]\n"
     ]
    }
   ],
   "source": [
    "l1=range(2000,3201)\n",
    "l2=[]\n",
    "for x in l1:\n",
    "    if (x%7==0) & (x%5!=0):\n",
    "        l2.append(x)\n",
    "print l2"
   ]
  },
  {
   "cell_type": "code",
   "execution_count": 22,
   "metadata": {},
   "outputs": [],
   "source": [
    "def abc(x):\n",
    "    y=x**2+x*2+4\n",
    "    return y"
   ]
  },
  {
   "cell_type": "code",
   "execution_count": 24,
   "metadata": {},
   "outputs": [
    {
     "data": {
      "text/plain": [
       "12"
      ]
     },
     "execution_count": 24,
     "metadata": {},
     "output_type": "execute_result"
    }
   ],
   "source": [
    "abc(2)"
   ]
  },
  {
   "cell_type": "markdown",
   "metadata": {},
   "source": []
  },
  {
   "cell_type": "code",
   "execution_count": 27,
   "metadata": {},
   "outputs": [],
   "source": [
    "def func_len(s):\n",
    "    \"\"\"\n",
    "    Print a string and its total length\n",
    "    \"\"\"\n",
    "    print (s + \" has \" + str(len(s)) + \" length\")\n",
    "    "
   ]
  },
  {
   "cell_type": "code",
   "execution_count": 29,
   "metadata": {},
   "outputs": [
    {
     "name": "stdout",
     "output_type": "stream",
     "text": [
      "test has 4 length\n"
     ]
    }
   ],
   "source": [
    "func_len(\"test\")"
   ]
  },
  {
   "cell_type": "code",
   "execution_count": 30,
   "metadata": {},
   "outputs": [],
   "source": [
    "func_len?"
   ]
  },
  {
   "cell_type": "code",
   "execution_count": 31,
   "metadata": {},
   "outputs": [
    {
     "name": "stdout",
     "output_type": "stream",
     "text": [
      "Help on function func_len in module __main__:\n",
      "\n",
      "func_len(s)\n",
      "    Print a string and its total length\n",
      "\n"
     ]
    }
   ],
   "source": [
    "help(func_len)"
   ]
  },
  {
   "cell_type": "code",
   "execution_count": 32,
   "metadata": {},
   "outputs": [
    {
     "data": {
      "text/plain": [
       "[8, 7, 6, 5, 4, 3, 2]"
      ]
     },
     "execution_count": 32,
     "metadata": {},
     "output_type": "execute_result"
    }
   ],
   "source": [
    "range(8,1,-1)"
   ]
  },
  {
   "cell_type": "code",
   "execution_count": 33,
   "metadata": {},
   "outputs": [],
   "source": [
    "def func_def(x,y=3):\n",
    "    return x+y,x*3"
   ]
  },
  {
   "cell_type": "code",
   "execution_count": 36,
   "metadata": {},
   "outputs": [
    {
     "data": {
      "text/plain": [
       "(4, 6)"
      ]
     },
     "execution_count": 36,
     "metadata": {},
     "output_type": "execute_result"
    }
   ],
   "source": [
    "func_def(2,2)"
   ]
  },
  {
   "cell_type": "code",
   "execution_count": 38,
   "metadata": {},
   "outputs": [],
   "source": [
    "def myfunc(x,p=2,debug=False):\n",
    "    if debug:\n",
    "        print (\"evaluating myfunc for x= \" +str(x) + \" using exponent p = \" +str(p))\n",
    "    return x**p"
   ]
  },
  {
   "cell_type": "code",
   "execution_count": 39,
   "metadata": {},
   "outputs": [
    {
     "name": "stdout",
     "output_type": "stream",
     "text": [
      "evaluating myfunc for x= 4 using exponent p = 3\n"
     ]
    },
    {
     "data": {
      "text/plain": [
       "64"
      ]
     },
     "execution_count": 39,
     "metadata": {},
     "output_type": "execute_result"
    }
   ],
   "source": [
    "myfunc(4,3,True)"
   ]
  },
  {
   "cell_type": "code",
   "execution_count": 40,
   "metadata": {},
   "outputs": [
    {
     "data": {
      "text/plain": [
       "25"
      ]
     },
     "execution_count": 40,
     "metadata": {},
     "output_type": "execute_result"
    }
   ],
   "source": [
    "myfunc(5)"
   ]
  },
  {
   "cell_type": "code",
   "execution_count": 41,
   "metadata": {},
   "outputs": [],
   "source": [
    "def func_square(x):\n",
    "    \"\"\"\n",
    "    Return square of a value x\n",
    "    \"\"\"\n",
    "    return x**2"
   ]
  },
  {
   "cell_type": "code",
   "execution_count": 42,
   "metadata": {},
   "outputs": [
    {
     "data": {
      "text/plain": [
       "16"
      ]
     },
     "execution_count": 42,
     "metadata": {},
     "output_type": "execute_result"
    }
   ],
   "source": [
    "func_square(4)"
   ]
  },
  {
   "cell_type": "code",
   "execution_count": 43,
   "metadata": {},
   "outputs": [],
   "source": [
    "def func_powers(x):\n",
    "    \"\"\"\n",
    "    return powers od variable x\n",
    "    \"\"\"\n",
    "    return x**2,x**3,x**4"
   ]
  },
  {
   "cell_type": "code",
   "execution_count": 44,
   "metadata": {},
   "outputs": [
    {
     "data": {
      "text/plain": [
       "(25, 125, 625)"
      ]
     },
     "execution_count": 44,
     "metadata": {},
     "output_type": "execute_result"
    }
   ],
   "source": [
    "func_powers(5)"
   ]
  },
  {
   "cell_type": "code",
   "execution_count": 47,
   "metadata": {},
   "outputs": [],
   "source": [
    "f1=lambda x:x**2\n",
    "\n",
    "def f2(x):\n",
    "    return x**2"
   ]
  },
  {
   "cell_type": "code",
   "execution_count": 48,
   "metadata": {},
   "outputs": [
    {
     "data": {
      "text/plain": [
       "(4, 4)"
      ]
     },
     "execution_count": 48,
     "metadata": {},
     "output_type": "execute_result"
    }
   ],
   "source": [
    "f1(2),f2(2)"
   ]
  },
  {
   "cell_type": "code",
   "execution_count": 49,
   "metadata": {},
   "outputs": [
    {
     "data": {
      "text/plain": [
       "[1, 4, 225, 256]"
      ]
     },
     "execution_count": 49,
     "metadata": {},
     "output_type": "execute_result"
    }
   ],
   "source": [
    "map(lambda x:x**2,[1,2,15,16])"
   ]
  },
  {
   "cell_type": "code",
   "execution_count": 51,
   "metadata": {},
   "outputs": [
    {
     "data": {
      "text/plain": [
       "[9, 4, 1, 0, 1, 4, 9, 16, 25]"
      ]
     },
     "execution_count": 51,
     "metadata": {},
     "output_type": "execute_result"
    }
   ],
   "source": [
    "list(map(lambda x:x**2,range(-3,6)))"
   ]
  },
  {
   "cell_type": "code",
   "execution_count": 53,
   "metadata": {},
   "outputs": [
    {
     "data": {
      "text/plain": [
       "[True, False, True, False, True, False, True, False]"
      ]
     },
     "execution_count": 53,
     "metadata": {},
     "output_type": "execute_result"
    }
   ],
   "source": [
    "map(lambda x:x%2==0,range(8))"
   ]
  },
  {
   "cell_type": "markdown",
   "metadata": {},
   "source": [
    "filter(lambda x:x%2==0,range(8))"
   ]
  },
  {
   "cell_type": "code",
   "execution_count": 54,
   "metadata": {},
   "outputs": [
    {
     "data": {
      "text/plain": [
       "[0, 2, 4, 6]"
      ]
     },
     "execution_count": 54,
     "metadata": {},
     "output_type": "execute_result"
    }
   ],
   "source": [
    "filter(lambda x:x%2==0,range(8))"
   ]
  },
  {
   "cell_type": "code",
   "execution_count": 1,
   "metadata": {},
   "outputs": [
    {
     "data": {
      "text/plain": [
       "4"
      ]
     },
     "execution_count": 1,
     "metadata": {},
     "output_type": "execute_result"
    }
   ],
   "source": [
    "f1=lambda x:x**2\n",
    "f1(2)"
   ]
  },
  {
   "cell_type": "code",
   "execution_count": 5,
   "metadata": {},
   "outputs": [
    {
     "data": {
      "text/plain": [
       "[4, 16, 36, 64]"
      ]
     },
     "execution_count": 5,
     "metadata": {},
     "output_type": "execute_result"
    }
   ],
   "source": [
    "map(lambda x:x**2,range(2,10,2))"
   ]
  },
  {
   "cell_type": "code",
   "execution_count": 6,
   "metadata": {},
   "outputs": [
    {
     "data": {
      "text/plain": [
       "[True, False, True, False, True, False, True, False]"
      ]
     },
     "execution_count": 6,
     "metadata": {},
     "output_type": "execute_result"
    }
   ],
   "source": [
    "map(lambda x:x%2==0, range(8))"
   ]
  },
  {
   "cell_type": "code",
   "execution_count": 7,
   "metadata": {},
   "outputs": [
    {
     "data": {
      "text/plain": [
       "[0, 2, 4, 6]"
      ]
     },
     "execution_count": 7,
     "metadata": {},
     "output_type": "execute_result"
    }
   ],
   "source": [
    "filter(lambda x:x%2==0, range(8))"
   ]
  },
  {
   "cell_type": "code",
   "execution_count": 10,
   "metadata": {},
   "outputs": [
    {
     "data": {
      "text/plain": [
       "[4, 16, 36, 64]"
      ]
     },
     "execution_count": 10,
     "metadata": {},
     "output_type": "execute_result"
    }
   ],
   "source": [
    "map(lambda x:x**2,range(2,10,2)) #willl return list as output"
   ]
  },
  {
   "cell_type": "code",
   "execution_count": 11,
   "metadata": {},
   "outputs": [],
   "source": [
    "import functools"
   ]
  },
  {
   "cell_type": "code",
   "execution_count": 18,
   "metadata": {},
   "outputs": [
    {
     "data": {
      "text/plain": [
       "4096"
      ]
     },
     "execution_count": 18,
     "metadata": {},
     "output_type": "execute_result"
    }
   ],
   "source": [
    "x= functools.reduce(lambda x,y:x**y,[2,1,3,4]) #reduce will return a single value as output\n",
    "x"
   ]
  },
  {
   "cell_type": "code",
   "execution_count": 15,
   "metadata": {},
   "outputs": [
    {
     "name": "stdout",
     "output_type": "stream",
     "text": [
      "120\n"
     ]
    }
   ],
   "source": [
    "print (x)"
   ]
  },
  {
   "cell_type": "code",
   "execution_count": 20,
   "metadata": {},
   "outputs": [
    {
     "data": {
      "text/plain": [
       "[1, 3, 5, 7, 9]"
      ]
     },
     "execution_count": 20,
     "metadata": {},
     "output_type": "execute_result"
    }
   ],
   "source": [
    "filter(lambda x:x%2!=0,range(10))"
   ]
  },
  {
   "cell_type": "code",
   "execution_count": 7,
   "metadata": {},
   "outputs": [
    {
     "name": "stdout",
     "output_type": "stream",
     "text": [
      "['a', 'b', 'c', 'd', 'e']\n",
      "[10, 9, 8, 7, 6, 5, 4, 3, 2, 1]\n",
      "False\n"
     ]
    }
   ],
   "source": [
    "seq1=list('abcde')\n",
    "seq2=range(10,0,-1)\n",
    "print(seq1)\n",
    "print(seq2)\n",
    "print(len(seq2)==len(seq1))"
   ]
  },
  {
   "cell_type": "code",
   "execution_count": 2,
   "metadata": {},
   "outputs": [
    {
     "data": {
      "text/plain": [
       "[('a', 10), ('b', 9), ('c', 8), ('d', 7), ('e', 6)]"
      ]
     },
     "execution_count": 2,
     "metadata": {},
     "output_type": "execute_result"
    }
   ],
   "source": [
    "zip(seq1,seq2)"
   ]
  },
  {
   "cell_type": "code",
   "execution_count": 3,
   "metadata": {},
   "outputs": [
    {
     "data": {
      "text/plain": [
       "[(1, 9, 'a'), (2, 8, 'b'), (3, 7, 'c'), (4, 6, 'd'), (5, 5, 'e')]"
      ]
     },
     "execution_count": 3,
     "metadata": {},
     "output_type": "execute_result"
    }
   ],
   "source": [
    "list(zip([1,2,3,4,5],(9,8,7,6,5),['a','b','c','d','e']))"
   ]
  },
  {
   "cell_type": "code",
   "execution_count": 15,
   "metadata": {},
   "outputs": [
    {
     "name": "stdout",
     "output_type": "stream",
     "text": [
      "['a', 'b', 'c', 'd', 'e']\n",
      "[10, 9, 8, 7, 6, 5, 4, 3, 2, 1]\n",
      "[('a', 10), ('b', 9), ('c', 8), ('d', 7), ('e', 6)]\n"
     ]
    }
   ],
   "source": [
    "zip_list = []\n",
    "for x in range(5):\n",
    "    zip_list.append((seq1[x],seq2[x]))\n",
    "print(seq1)\n",
    "print(seq2)\n",
    "print(zip_list)"
   ]
  },
  {
   "cell_type": "code",
   "execution_count": 20,
   "metadata": {},
   "outputs": [
    {
     "name": "stdout",
     "output_type": "stream",
     "text": [
      "0 2 4\n"
     ]
    }
   ],
   "source": [
    "for i,j in enumerate(range(5)):\n",
    "    if i%2 == 0:\n",
    "        print(j),"
   ]
  },
  {
   "cell_type": "code",
   "execution_count": 17,
   "metadata": {},
   "outputs": [],
   "source": [
    "str1='I love analytix'"
   ]
  },
  {
   "cell_type": "code",
   "execution_count": 19,
   "metadata": {},
   "outputs": [
    {
     "name": "stdout",
     "output_type": "stream",
     "text": [
      "I l v   n l t x\n"
     ]
    }
   ],
   "source": [
    "for i,j in enumerate(str1):\n",
    "    if i%2 == 0:\n",
    "        print(j),"
   ]
  },
  {
   "cell_type": "code",
   "execution_count": 21,
   "metadata": {},
   "outputs": [
    {
     "name": "stdout",
     "output_type": "stream",
     "text": [
      "I l v   n l t x\n"
     ]
    }
   ],
   "source": [
    "for i in range(len(str1)):\n",
    "    if i%2 == 0:\n",
    "        print (str1[i]),"
   ]
  },
  {
   "cell_type": "code",
   "execution_count": 26,
   "metadata": {},
   "outputs": [
    {
     "name": "stdout",
     "output_type": "stream",
     "text": [
      "test\n",
      "zero division: integer division or modulo by zero\n",
      "all done\n"
     ]
    }
   ],
   "source": [
    "try:\n",
    "    print (\"test\")\n",
    "    f=10/0\n",
    "except ZeroDivisionError as e:\n",
    "    print (\"zero division: \" + str(e))\n",
    "except Exception as e:\n",
    "    print (\"caught an exception: \" + str(e))\n",
    "else:\n",
    "    print (\"Success\")\n",
    "finally:\n",
    "    print (\"all done\")"
   ]
  },
  {
   "cell_type": "code",
   "execution_count": 11,
   "metadata": {},
   "outputs": [],
   "source": [
    "p1='Abc123'"
   ]
  },
  {
   "cell_type": "code",
   "execution_count": 12,
   "metadata": {},
   "outputs": [
    {
     "ename": "SyntaxError",
     "evalue": "unexpected EOF while parsing (<ipython-input-12-a1320e2384a9>, line 1)",
     "output_type": "error",
     "traceback": [
      "\u001b[1;36m  File \u001b[1;32m\"<ipython-input-12-a1320e2384a9>\"\u001b[1;36m, line \u001b[1;32m1\u001b[0m\n\u001b[1;33m    re.search(r\"[a-z]\", p1\u001b[0m\n\u001b[1;37m                          ^\u001b[0m\n\u001b[1;31mSyntaxError\u001b[0m\u001b[1;31m:\u001b[0m unexpected EOF while parsing\n"
     ]
    }
   ],
   "source": [
    "re.search(r\"[a-z]\", p1"
   ]
  },
  {
   "cell_type": "code",
   "execution_count": 13,
   "metadata": {},
   "outputs": [],
   "source": [
    "import re\n"
   ]
  },
  {
   "cell_type": "code",
   "execution_count": 18,
   "metadata": {},
   "outputs": [],
   "source": [
    "re.search(\"[_@$]\", p1)"
   ]
  },
  {
   "cell_type": "code",
   "execution_count": 19,
   "metadata": {},
   "outputs": [
    {
     "name": "stdout",
     "output_type": "stream",
     "text": [
      "abs(number) -> number\n",
      "\n",
      "Return the absolute value of the argument.\n"
     ]
    }
   ],
   "source": [
    "print(abs.__doc__)"
   ]
  },
  {
   "cell_type": "code",
   "execution_count": null,
   "metadata": {},
   "outputs": [],
   "source": [
    "#Very good with large numbers, linear algebra"
   ]
  },
  {
   "cell_type": "code",
   "execution_count": 2,
   "metadata": {},
   "outputs": [],
   "source": [
    "import numpy as np"
   ]
  },
  {
   "cell_type": "code",
   "execution_count": 2,
   "metadata": {},
   "outputs": [
    {
     "name": "stdout",
     "output_type": "stream",
     "text": [
      "['ALLOW_THREADS', 'AxisError', 'BUFSIZE', 'CLIP', 'ComplexWarning', 'DataSource', 'ERR_CALL', 'ERR_DEFAULT', 'ERR_IGNORE', 'ERR_LOG', 'ERR_PRINT', 'ERR_RAISE', 'ERR_WARN', 'FLOATING_POINT_SUPPORT', 'FPE_DIVIDEBYZERO', 'FPE_INVALID', 'FPE_OVERFLOW', 'FPE_UNDERFLOW', 'False_', 'Inf', 'Infinity', 'MAXDIMS', 'MAY_SHARE_BOUNDS', 'MAY_SHARE_EXACT', 'MachAr', 'ModuleDeprecationWarning', 'NAN', 'NINF', 'NZERO', 'NaN', 'PINF', 'PZERO', 'PackageLoader', 'RAISE', 'RankWarning', 'SHIFT_DIVIDEBYZERO', 'SHIFT_INVALID', 'SHIFT_OVERFLOW', 'SHIFT_UNDERFLOW', 'ScalarType', 'Tester', 'TooHardError', 'True_', 'UFUNC_BUFSIZE_DEFAULT', 'UFUNC_PYVALS_NAME', 'VisibleDeprecationWarning', 'WRAP', '_NoValue', '__NUMPY_SETUP__', '__all__', '__builtins__', '__config__', '__doc__', '__file__', '__git_revision__', '__name__', '__package__', '__path__', '__version__', '_distributor_init', '_globals', '_import_tools', '_mat', 'abs', 'absolute', 'absolute_import', 'add', 'add_docstring', 'add_newdoc', 'add_newdoc_ufunc', 'add_newdocs', 'alen', 'all', 'allclose', 'alltrue', 'amax', 'amin', 'angle', 'any', 'append', 'apply_along_axis', 'apply_over_axes', 'arange', 'arccos', 'arccosh', 'arcsin', 'arcsinh', 'arctan', 'arctan2', 'arctanh', 'argmax', 'argmin', 'argpartition', 'argsort', 'argwhere', 'around', 'array', 'array2string', 'array_equal', 'array_equiv', 'array_repr', 'array_split', 'array_str', 'asanyarray', 'asarray', 'asarray_chkfinite', 'ascontiguousarray', 'asfarray', 'asfortranarray', 'asmatrix', 'asscalar', 'atleast_1d', 'atleast_2d', 'atleast_3d', 'average', 'bartlett', 'base_repr', 'binary_repr', 'bincount', 'bitwise_and', 'bitwise_not', 'bitwise_or', 'bitwise_xor', 'blackman', 'block', 'bmat', 'bool', 'bool8', 'bool_', 'broadcast', 'broadcast_arrays', 'broadcast_to', 'busday_count', 'busday_offset', 'busdaycalendar', 'byte', 'byte_bounds', 'bytes_', 'c_', 'can_cast', 'cast', 'cbrt', 'cdouble', 'ceil', 'cfloat', 'char', 'character', 'chararray', 'choose', 'clip', 'clongdouble', 'clongfloat', 'column_stack', 'common_type', 'compare_chararrays', 'compat', 'complex', 'complex128', 'complex64', 'complex_', 'complexfloating', 'compress', 'concatenate', 'conj', 'conjugate', 'convolve', 'copy', 'copysign', 'copyto', 'core', 'corrcoef', 'correlate', 'cos', 'cosh', 'count_nonzero', 'cov', 'cross', 'csingle', 'ctypeslib', 'cumprod', 'cumproduct', 'cumsum', 'datetime64', 'datetime_as_string', 'datetime_data', 'deg2rad', 'degrees', 'delete', 'deprecate', 'deprecate_with_doc', 'diag', 'diag_indices', 'diag_indices_from', 'diagflat', 'diagonal', 'diff', 'digitize', 'disp', 'divide', 'division', 'divmod', 'dot', 'double', 'dsplit', 'dstack', 'dtype', 'e', 'ediff1d', 'einsum', 'einsum_path', 'emath', 'empty', 'empty_like', 'equal', 'errstate', 'euler_gamma', 'exp', 'exp2', 'expand_dims', 'expm1', 'extract', 'eye', 'fabs', 'fastCopyAndTranspose', 'fft', 'fill_diagonal', 'find_common_type', 'finfo', 'fix', 'flatiter', 'flatnonzero', 'flexible', 'flip', 'fliplr', 'flipud', 'float', 'float16', 'float32', 'float64', 'float_', 'float_power', 'floating', 'floor', 'floor_divide', 'fmax', 'fmin', 'fmod', 'format_float_positional', 'format_float_scientific', 'format_parser', 'frexp', 'frombuffer', 'fromfile', 'fromfunction', 'fromiter', 'frompyfunc', 'fromregex', 'fromstring', 'full', 'full_like', 'fv', 'gcd', 'generic', 'genfromtxt', 'geomspace', 'get_array_wrap', 'get_include', 'get_printoptions', 'getbuffer', 'getbufsize', 'geterr', 'geterrcall', 'geterrobj', 'gradient', 'greater', 'greater_equal', 'half', 'hamming', 'hanning', 'heaviside', 'histogram', 'histogram2d', 'histogram_bin_edges', 'histogramdd', 'hsplit', 'hstack', 'hypot', 'i0', 'identity', 'iinfo', 'imag', 'in1d', 'index_exp', 'indices', 'inexact', 'inf', 'info', 'infty', 'inner', 'insert', 'int', 'int0', 'int16', 'int32', 'int64', 'int8', 'int_', 'int_asbuffer', 'intc', 'integer', 'interp', 'intersect1d', 'intp', 'invert', 'ipmt', 'irr', 'is_busday', 'isclose', 'iscomplex', 'iscomplexobj', 'isfinite', 'isfortran', 'isin', 'isinf', 'isnan', 'isnat', 'isneginf', 'isposinf', 'isreal', 'isrealobj', 'isscalar', 'issctype', 'issubclass_', 'issubdtype', 'issubsctype', 'iterable', 'ix_', 'kaiser', 'kron', 'lcm', 'ldexp', 'left_shift', 'less', 'less_equal', 'lexsort', 'lib', 'linalg', 'linspace', 'little_endian', 'load', 'loads', 'loadtxt', 'log', 'log10', 'log1p', 'log2', 'logaddexp', 'logaddexp2', 'logical_and', 'logical_not', 'logical_or', 'logical_xor', 'logspace', 'long', 'longcomplex', 'longdouble', 'longfloat', 'longlong', 'lookfor', 'ma', 'mafromtxt', 'mask_indices', 'mat', 'math', 'matmul', 'matrix', 'matrixlib', 'max', 'maximum', 'maximum_sctype', 'may_share_memory', 'mean', 'median', 'memmap', 'meshgrid', 'mgrid', 'min', 'min_scalar_type', 'minimum', 'mintypecode', 'mirr', 'mod', 'modf', 'moveaxis', 'msort', 'multiply', 'nan', 'nan_to_num', 'nanargmax', 'nanargmin', 'nancumprod', 'nancumsum', 'nanmax', 'nanmean', 'nanmedian', 'nanmin', 'nanpercentile', 'nanprod', 'nanquantile', 'nanstd', 'nansum', 'nanvar', 'nbytes', 'ndarray', 'ndenumerate', 'ndfromtxt', 'ndim', 'ndindex', 'nditer', 'negative', 'nested_iters', 'newaxis', 'newbuffer', 'nextafter', 'nonzero', 'not_equal', 'nper', 'npv', 'numarray', 'number', 'obj2sctype', 'object', 'object0', 'object_', 'ogrid', 'oldnumeric', 'ones', 'ones_like', 'outer', 'packbits', 'pad', 'partition', 'percentile', 'pi', 'piecewise', 'pkgload', 'place', 'pmt', 'poly', 'poly1d', 'polyadd', 'polyder', 'polydiv', 'polyfit', 'polyint', 'polymul', 'polynomial', 'polysub', 'polyval', 'positive', 'power', 'ppmt', 'print_function', 'printoptions', 'prod', 'product', 'promote_types', 'ptp', 'put', 'put_along_axis', 'putmask', 'pv', 'quantile', 'r_', 'rad2deg', 'radians', 'random', 'rank', 'rate', 'ravel', 'ravel_multi_index', 'real', 'real_if_close', 'rec', 'recarray', 'recfromcsv', 'recfromtxt', 'reciprocal', 'record', 'remainder', 'repeat', 'require', 'reshape', 'resize', 'result_type', 'right_shift', 'rint', 'roll', 'rollaxis', 'roots', 'rot90', 'round', 'round_', 'row_stack', 's_', 'safe_eval', 'save', 'savetxt', 'savez', 'savez_compressed', 'sctype2char', 'sctypeDict', 'sctypeNA', 'sctypes', 'searchsorted', 'select', 'set_numeric_ops', 'set_printoptions', 'set_string_function', 'setbufsize', 'setdiff1d', 'seterr', 'seterrcall', 'seterrobj', 'setxor1d', 'shape', 'shares_memory', 'short', 'show_config', 'sign', 'signbit', 'signedinteger', 'sin', 'sinc', 'single', 'singlecomplex', 'sinh', 'size', 'sometrue', 'sort', 'sort_complex', 'source', 'spacing', 'split', 'sqrt', 'square', 'squeeze', 'stack', 'std', 'str', 'str_', 'string0', 'string_', 'subtract', 'sum', 'swapaxes', 'sys', 'take', 'take_along_axis', 'tan', 'tanh', 'tensordot', 'test', 'testing', 'tile', 'timedelta64', 'trace', 'tracemalloc_domain', 'transpose', 'trapz', 'tri', 'tril', 'tril_indices', 'tril_indices_from', 'trim_zeros', 'triu', 'triu_indices', 'triu_indices_from', 'true_divide', 'trunc', 'typeDict', 'typeNA', 'typecodes', 'typename', 'ubyte', 'ufunc', 'uint', 'uint0', 'uint16', 'uint32', 'uint64', 'uint8', 'uintc', 'uintp', 'ulonglong', 'unicode', 'unicode0', 'unicode_', 'union1d', 'unique', 'unpackbits', 'unravel_index', 'unsignedinteger', 'unwrap', 'ushort', 'vander', 'var', 'vdot', 'vectorize', 'version', 'void', 'void0', 'vsplit', 'vstack', 'warnings', 'where', 'who', 'zeros', 'zeros_like']\n"
     ]
    }
   ],
   "source": [
    "print(dir(np))"
   ]
  },
  {
   "cell_type": "code",
   "execution_count": 22,
   "metadata": {},
   "outputs": [
    {
     "data": {
      "text/plain": [
       "array([[[79,  0],\n",
       "        [ 0,  0],\n",
       "        [ 0,  0]],\n",
       "\n",
       "       [[ 0,  0],\n",
       "        [ 0,  0],\n",
       "        [ 0,  0]],\n",
       "\n",
       "       [[ 0,  0],\n",
       "        [ 0,  0],\n",
       "        [ 0,  0]],\n",
       "\n",
       "       [[ 0,  0],\n",
       "        [ 0,  0],\n",
       "        [ 0,  0]]])"
      ]
     },
     "execution_count": 22,
     "metadata": {},
     "output_type": "execute_result"
    }
   ],
   "source": [
    "np.ndarray([4,3,2],dtype='int')"
   ]
  },
  {
   "cell_type": "code",
   "execution_count": 26,
   "metadata": {},
   "outputs": [
    {
     "name": "stdout",
     "output_type": "stream",
     "text": [
      "[[1 2 3]\n",
      " [3 4 5]\n",
      " [6 7 8]]\n"
     ]
    }
   ],
   "source": [
    "arr1=np.array([[1,2,3],[3,4,5],[6,7,8]],dtype='int64')\n",
    "print(arr1)"
   ]
  },
  {
   "cell_type": "code",
   "execution_count": 27,
   "metadata": {},
   "outputs": [
    {
     "data": {
      "text/plain": [
       "8"
      ]
     },
     "execution_count": 27,
     "metadata": {},
     "output_type": "execute_result"
    }
   ],
   "source": [
    "arr1[2,2]"
   ]
  },
  {
   "cell_type": "code",
   "execution_count": 28,
   "metadata": {},
   "outputs": [
    {
     "data": {
      "text/plain": [
       "array([[6, 7, 8]], dtype=int64)"
      ]
     },
     "execution_count": 28,
     "metadata": {},
     "output_type": "execute_result"
    }
   ],
   "source": [
    "arr1[2:]"
   ]
  },
  {
   "cell_type": "code",
   "execution_count": 7,
   "metadata": {},
   "outputs": [
    {
     "name": "stdout",
     "output_type": "stream",
     "text": [
      "[[[5.25836715e-316 5.25966832e-316 5.19554769e-316]\n",
      "  [3.20092642e-316 5.11218459e-316 2.50946969e-316]\n",
      "  [1.91332455e-316 1.51992300e-316 1.51992735e-316]]\n",
      "\n",
      " [[1.51993170e-316 1.51993604e-316 1.78020576e-306]\n",
      "  [1.69119873e-306 2.22522868e-306 1.24611809e-306]\n",
      "  [8.06632139e-308 1.60221208e-306 2.29178686e-312]]]\n"
     ]
    }
   ],
   "source": [
    "arr2=np.ndarray([2,3,3],dtype='float')\n",
    "print(arr2)"
   ]
  },
  {
   "cell_type": "code",
   "execution_count": 15,
   "metadata": {},
   "outputs": [
    {
     "name": "stdout",
     "output_type": "stream",
     "text": [
      "[[1 2 3]\n",
      " [4 5 6]\n",
      " [7 8 9]]\n"
     ]
    }
   ],
   "source": [
    "arr1=np.array([[1,2,3],[4,5,6],[7,8,9]],dtype='int64')\n",
    "print(arr1)"
   ]
  },
  {
   "cell_type": "code",
   "execution_count": 13,
   "metadata": {},
   "outputs": [
    {
     "name": "stdout",
     "output_type": "stream",
     "text": [
      "[1 2 3]\n"
     ]
    }
   ],
   "source": [
    "print(np.array([1,2,3],dtype='int64'))"
   ]
  },
  {
   "cell_type": "code",
   "execution_count": 16,
   "metadata": {},
   "outputs": [
    {
     "data": {
      "text/plain": [
       "9"
      ]
     },
     "execution_count": 16,
     "metadata": {},
     "output_type": "execute_result"
    }
   ],
   "source": [
    "arr1[2,2]"
   ]
  },
  {
   "cell_type": "code",
   "execution_count": 17,
   "metadata": {},
   "outputs": [
    {
     "data": {
      "text/plain": [
       "array([[7, 8, 9]], dtype=int64)"
      ]
     },
     "execution_count": 17,
     "metadata": {},
     "output_type": "execute_result"
    }
   ],
   "source": [
    "arr1[2:]"
   ]
  },
  {
   "cell_type": "code",
   "execution_count": 18,
   "metadata": {},
   "outputs": [
    {
     "data": {
      "text/plain": [
       "array([[1, 2, 3],\n",
       "       [4, 5, 6]], dtype=int64)"
      ]
     },
     "execution_count": 18,
     "metadata": {},
     "output_type": "execute_result"
    }
   ],
   "source": [
    "arr1[:2]"
   ]
  },
  {
   "cell_type": "code",
   "execution_count": 21,
   "metadata": {},
   "outputs": [
    {
     "data": {
      "text/plain": [
       "array([7, 8, 9], dtype=int64)"
      ]
     },
     "execution_count": 21,
     "metadata": {},
     "output_type": "execute_result"
    }
   ],
   "source": [
    "arr1[2,0:3]"
   ]
  },
  {
   "cell_type": "code",
   "execution_count": 22,
   "metadata": {},
   "outputs": [
    {
     "data": {
      "text/plain": [
       "dtype('int64')"
      ]
     },
     "execution_count": 22,
     "metadata": {},
     "output_type": "execute_result"
    }
   ],
   "source": [
    "arr1.dtype"
   ]
  },
  {
   "cell_type": "code",
   "execution_count": 23,
   "metadata": {},
   "outputs": [
    {
     "data": {
      "text/plain": [
       "numpy.ndarray"
      ]
     },
     "execution_count": 23,
     "metadata": {},
     "output_type": "execute_result"
    }
   ],
   "source": [
    "type(arr1)"
   ]
  },
  {
   "cell_type": "code",
   "execution_count": 24,
   "metadata": {},
   "outputs": [
    {
     "data": {
      "text/plain": [
       "numpy.ndarray"
      ]
     },
     "execution_count": 24,
     "metadata": {},
     "output_type": "execute_result"
    }
   ],
   "source": [
    "type(arr2)"
   ]
  },
  {
   "cell_type": "code",
   "execution_count": 26,
   "metadata": {},
   "outputs": [
    {
     "data": {
      "text/plain": [
       "(3L, 3L)"
      ]
     },
     "execution_count": 26,
     "metadata": {},
     "output_type": "execute_result"
    }
   ],
   "source": [
    "arr1.shape"
   ]
  },
  {
   "cell_type": "code",
   "execution_count": 27,
   "metadata": {},
   "outputs": [
    {
     "data": {
      "text/plain": [
       "array([1, 2, 3], dtype=int64)"
      ]
     },
     "execution_count": 27,
     "metadata": {},
     "output_type": "execute_result"
    }
   ],
   "source": [
    "arr1[0,]"
   ]
  },
  {
   "cell_type": "code",
   "execution_count": 28,
   "metadata": {},
   "outputs": [
    {
     "ename": "SyntaxError",
     "evalue": "invalid syntax (<ipython-input-28-cabf5725ca0b>, line 1)",
     "output_type": "error",
     "traceback": [
      "\u001b[1;36m  File \u001b[1;32m\"<ipython-input-28-cabf5725ca0b>\"\u001b[1;36m, line \u001b[1;32m1\u001b[0m\n\u001b[1;33m    arr1[,2]\u001b[0m\n\u001b[1;37m         ^\u001b[0m\n\u001b[1;31mSyntaxError\u001b[0m\u001b[1;31m:\u001b[0m invalid syntax\n"
     ]
    }
   ],
   "source": [
    "arr1[,2]"
   ]
  },
  {
   "cell_type": "code",
   "execution_count": 29,
   "metadata": {},
   "outputs": [
    {
     "data": {
      "text/plain": [
       "array([1, 2, 3], dtype=int64)"
      ]
     },
     "execution_count": 29,
     "metadata": {},
     "output_type": "execute_result"
    }
   ],
   "source": [
    "arr1[0,]"
   ]
  },
  {
   "cell_type": "code",
   "execution_count": 30,
   "metadata": {},
   "outputs": [
    {
     "data": {
      "text/plain": [
       "array([7, 8, 9], dtype=int64)"
      ]
     },
     "execution_count": 30,
     "metadata": {},
     "output_type": "execute_result"
    }
   ],
   "source": [
    "arr1[2,]"
   ]
  },
  {
   "cell_type": "code",
   "execution_count": 31,
   "metadata": {},
   "outputs": [
    {
     "data": {
      "text/plain": [
       "array([3, 6, 9], dtype=int64)"
      ]
     },
     "execution_count": 31,
     "metadata": {},
     "output_type": "execute_result"
    }
   ],
   "source": [
    "arr1[:,2]"
   ]
  },
  {
   "cell_type": "code",
   "execution_count": 32,
   "metadata": {},
   "outputs": [
    {
     "data": {
      "text/plain": [
       "array([7, 8, 9], dtype=int64)"
      ]
     },
     "execution_count": 32,
     "metadata": {},
     "output_type": "execute_result"
    }
   ],
   "source": [
    "arr1[2,0:3]"
   ]
  },
  {
   "cell_type": "code",
   "execution_count": 33,
   "metadata": {},
   "outputs": [
    {
     "data": {
      "text/plain": [
       "array([[1, 4, 7],\n",
       "       [2, 5, 8],\n",
       "       [3, 6, 9]], dtype=int64)"
      ]
     },
     "execution_count": 33,
     "metadata": {},
     "output_type": "execute_result"
    }
   ],
   "source": [
    "arr1.T"
   ]
  },
  {
   "cell_type": "code",
   "execution_count": 34,
   "metadata": {},
   "outputs": [
    {
     "data": {
      "text/plain": [
       "(3L, 3L)"
      ]
     },
     "execution_count": 34,
     "metadata": {},
     "output_type": "execute_result"
    }
   ],
   "source": [
    "arr1.shape"
   ]
  },
  {
   "cell_type": "code",
   "execution_count": 35,
   "metadata": {},
   "outputs": [
    {
     "data": {
      "text/plain": [
       "9"
      ]
     },
     "execution_count": 35,
     "metadata": {},
     "output_type": "execute_result"
    }
   ],
   "source": [
    "arr1.size"
   ]
  },
  {
   "cell_type": "code",
   "execution_count": 37,
   "metadata": {},
   "outputs": [
    {
     "data": {
      "text/plain": [
       "15"
      ]
     },
     "execution_count": 37,
     "metadata": {},
     "output_type": "execute_result"
    }
   ],
   "source": [
    "arr1.trace()"
   ]
  },
  {
   "cell_type": "code",
   "execution_count": 38,
   "metadata": {},
   "outputs": [
    {
     "data": {
      "text/plain": [
       "array([[1, 2, 3],\n",
       "       [4, 5, 6],\n",
       "       [7, 8, 9]], dtype=int64)"
      ]
     },
     "execution_count": 38,
     "metadata": {},
     "output_type": "execute_result"
    }
   ],
   "source": [
    "arr1"
   ]
  },
  {
   "cell_type": "code",
   "execution_count": 39,
   "metadata": {},
   "outputs": [
    {
     "data": {
      "text/plain": [
       "45"
      ]
     },
     "execution_count": 39,
     "metadata": {},
     "output_type": "execute_result"
    }
   ],
   "source": [
    "arr1.sum()"
   ]
  },
  {
   "cell_type": "code",
   "execution_count": 40,
   "metadata": {},
   "outputs": [
    {
     "data": {
      "text/plain": [
       "5.0"
      ]
     },
     "execution_count": 40,
     "metadata": {},
     "output_type": "execute_result"
    }
   ],
   "source": [
    "arr1.mean()"
   ]
  },
  {
   "cell_type": "code",
   "execution_count": 41,
   "metadata": {},
   "outputs": [
    {
     "data": {
      "text/plain": [
       "72"
      ]
     },
     "execution_count": 41,
     "metadata": {},
     "output_type": "execute_result"
    }
   ],
   "source": [
    "arr1.nbytes"
   ]
  },
  {
   "cell_type": "code",
   "execution_count": 43,
   "metadata": {},
   "outputs": [
    {
     "data": {
      "text/plain": [
       "array([[1, 2, 3],\n",
       "       [4, 5, 6],\n",
       "       [7, 8, 9]], dtype=int64)"
      ]
     },
     "execution_count": 43,
     "metadata": {},
     "output_type": "execute_result"
    }
   ],
   "source": [
    "arr1.sort()\n",
    "arr1"
   ]
  },
  {
   "cell_type": "code",
   "execution_count": 45,
   "metadata": {},
   "outputs": [
    {
     "data": {
      "text/plain": [
       "array([[9, 4, 3],\n",
       "       [8, 2, 6],\n",
       "       [5, 1, 8]], dtype=int64)"
      ]
     },
     "execution_count": 45,
     "metadata": {},
     "output_type": "execute_result"
    }
   ],
   "source": [
    "arr2=np.array([[9,4,3],[8,2,6],[5,1,8]],dtype='int64')\n",
    "arr2"
   ]
  },
  {
   "cell_type": "code",
   "execution_count": 47,
   "metadata": {},
   "outputs": [
    {
     "data": {
      "text/plain": [
       "array([[3, 4, 9],\n",
       "       [2, 6, 8],\n",
       "       [1, 5, 8]], dtype=int64)"
      ]
     },
     "execution_count": 47,
     "metadata": {},
     "output_type": "execute_result"
    }
   ],
   "source": [
    "arr2.sort()\n",
    "arr2"
   ]
  },
  {
   "cell_type": "code",
   "execution_count": 54,
   "metadata": {},
   "outputs": [
    {
     "data": {
      "text/plain": [
       "array([[0, 0],\n",
       "       [0, 0]], dtype=int64)"
      ]
     },
     "execution_count": 54,
     "metadata": {},
     "output_type": "execute_result"
    }
   ],
   "source": [
    "a=np.zeros((2,2),dtype='int64')\n",
    "a"
   ]
  },
  {
   "cell_type": "code",
   "execution_count": 60,
   "metadata": {},
   "outputs": [
    {
     "data": {
      "text/plain": [
       "array([[1., 1.],\n",
       "       [1., 1.],\n",
       "       [1., 1.]])"
      ]
     },
     "execution_count": 60,
     "metadata": {},
     "output_type": "execute_result"
    }
   ],
   "source": [
    "b=np.ones((3,2))\n",
    "b"
   ]
  },
  {
   "cell_type": "code",
   "execution_count": 62,
   "metadata": {},
   "outputs": [
    {
     "data": {
      "text/plain": [
       "array([[1., 0., 0., 0.],\n",
       "       [0., 1., 0., 0.],\n",
       "       [0., 0., 1., 0.],\n",
       "       [0., 0., 0., 1.]])"
      ]
     },
     "execution_count": 62,
     "metadata": {},
     "output_type": "execute_result"
    }
   ],
   "source": [
    "c=np.eye(4)\n",
    "c"
   ]
  },
  {
   "cell_type": "code",
   "execution_count": 67,
   "metadata": {},
   "outputs": [
    {
     "data": {
      "text/plain": [
       "array([[4, 4, 4],\n",
       "       [4, 4, 4],\n",
       "       [4, 4, 4]])"
      ]
     },
     "execution_count": 67,
     "metadata": {},
     "output_type": "execute_result"
    }
   ],
   "source": [
    "d=np.full((3,3),4)\n",
    "d"
   ]
  },
  {
   "cell_type": "code",
   "execution_count": 73,
   "metadata": {},
   "outputs": [
    {
     "data": {
      "text/plain": [
       "array([[0.41492093, 0.82536242],\n",
       "       [0.30073479, 0.50502094]])"
      ]
     },
     "execution_count": 73,
     "metadata": {},
     "output_type": "execute_result"
    }
   ],
   "source": [
    "e=np.random.random((2,2))\n",
    "e"
   ]
  },
  {
   "cell_type": "code",
   "execution_count": 79,
   "metadata": {},
   "outputs": [
    {
     "data": {
      "text/plain": [
       "array([[ 3, 32, 14],\n",
       "       [45,  0, 32],\n",
       "       [32, 14, 48]])"
      ]
     },
     "execution_count": 79,
     "metadata": {},
     "output_type": "execute_result"
    }
   ],
   "source": [
    "f=np.random.randint(50,size=(3,3))\n",
    "f"
   ]
  },
  {
   "cell_type": "code",
   "execution_count": 80,
   "metadata": {},
   "outputs": [
    {
     "data": {
      "text/plain": [
       "array([[1, 2, 3],\n",
       "       [4, 5, 6],\n",
       "       [7, 8, 9]], dtype=int64)"
      ]
     },
     "execution_count": 80,
     "metadata": {},
     "output_type": "execute_result"
    }
   ],
   "source": [
    "arr1"
   ]
  },
  {
   "cell_type": "code",
   "execution_count": 81,
   "metadata": {},
   "outputs": [
    {
     "data": {
      "text/plain": [
       "array([[False, False, False],\n",
       "       [ True,  True,  True],\n",
       "       [ True,  True,  True]])"
      ]
     },
     "execution_count": 81,
     "metadata": {},
     "output_type": "execute_result"
    }
   ],
   "source": [
    "arr1>3"
   ]
  },
  {
   "cell_type": "code",
   "execution_count": 84,
   "metadata": {},
   "outputs": [
    {
     "data": {
      "text/plain": [
       "array([4, 5, 6, 7, 8, 9], dtype=int64)"
      ]
     },
     "execution_count": 84,
     "metadata": {},
     "output_type": "execute_result"
    }
   ],
   "source": [
    "arr1[arr1>3]"
   ]
  },
  {
   "cell_type": "code",
   "execution_count": 96,
   "metadata": {},
   "outputs": [
    {
     "data": {
      "text/plain": [
       "array([[ 5,  6,  7,  8,  9, 10],\n",
       "       [11, 12, 13, 14, 15, 16],\n",
       "       [17, 18, 19, 20, 21, 22]], dtype=int64)"
      ]
     },
     "execution_count": 96,
     "metadata": {},
     "output_type": "execute_result"
    }
   ],
   "source": [
    "arr2=np.array([range(5,11),range(11,17),range(17,23)],dtype='int64')\n",
    "arr2"
   ]
  },
  {
   "cell_type": "code",
   "execution_count": 87,
   "metadata": {},
   "outputs": [
    {
     "data": {
      "text/plain": [
       "array([11, 12, 13, 14, 15, 16, 17, 18, 19], dtype=int64)"
      ]
     },
     "execution_count": 87,
     "metadata": {},
     "output_type": "execute_result"
    }
   ],
   "source": [
    "arr2[arr2>10]"
   ]
  },
  {
   "cell_type": "code",
   "execution_count": 97,
   "metadata": {},
   "outputs": [
    {
     "data": {
      "text/plain": [
       "(3L, 6L)"
      ]
     },
     "execution_count": 97,
     "metadata": {},
     "output_type": "execute_result"
    }
   ],
   "source": [
    "arr2.shape"
   ]
  },
  {
   "cell_type": "code",
   "execution_count": 98,
   "metadata": {},
   "outputs": [
    {
     "data": {
      "text/plain": [
       "array([[ 5,  6],\n",
       "       [ 7,  8],\n",
       "       [ 9, 10],\n",
       "       [11, 12],\n",
       "       [13, 14],\n",
       "       [15, 16],\n",
       "       [17, 18],\n",
       "       [19, 20],\n",
       "       [21, 22]], dtype=int64)"
      ]
     },
     "execution_count": 98,
     "metadata": {},
     "output_type": "execute_result"
    }
   ],
   "source": [
    "d=np.reshape(arr2, (9,2))\n",
    "d"
   ]
  },
  {
   "cell_type": "code",
   "execution_count": 100,
   "metadata": {},
   "outputs": [
    {
     "data": {
      "text/plain": [
       "array([[ 25,  30,  35,  40,  45,  50],\n",
       "       [ 55,  60,  65,  70,  75,  80],\n",
       "       [ 85,  90,  95, 100, 105, 110]], dtype=int64)"
      ]
     },
     "execution_count": 100,
     "metadata": {},
     "output_type": "execute_result"
    }
   ],
   "source": [
    "arr2*5"
   ]
  },
  {
   "cell_type": "code",
   "execution_count": 101,
   "metadata": {},
   "outputs": [
    {
     "data": {
      "text/plain": [
       "array([[ 5,  6,  7,  8,  9, 10],\n",
       "       [11, 12, 13, 14, 15, 16],\n",
       "       [17, 18, 19, 20, 21, 22]], dtype=int64)"
      ]
     },
     "execution_count": 101,
     "metadata": {},
     "output_type": "execute_result"
    }
   ],
   "source": [
    "arr2"
   ]
  },
  {
   "cell_type": "code",
   "execution_count": 104,
   "metadata": {},
   "outputs": [
    {
     "data": {
      "text/plain": [
       "array([[ 5, 10,  7, 10,  9, 10],\n",
       "       [11, 10, 13, 10, 15, 10],\n",
       "       [17, 10, 19, 10, 21, 10]], dtype=int64)"
      ]
     },
     "execution_count": 104,
     "metadata": {},
     "output_type": "execute_result"
    }
   ],
   "source": [
    "arr2[arr2%2==0]=10\n",
    "arr2"
   ]
  },
  {
   "cell_type": "code",
   "execution_count": 105,
   "metadata": {},
   "outputs": [
    {
     "data": {
      "text/plain": [
       "array([[ 5, 10,  7,  0,  9, 10],\n",
       "       [11, 10, 13,  0, 15, 10],\n",
       "       [17, 10, 19,  0, 21, 10]], dtype=int64)"
      ]
     },
     "execution_count": 105,
     "metadata": {},
     "output_type": "execute_result"
    }
   ],
   "source": [
    "arr2[:,3]=0\n",
    "arr2"
   ]
  },
  {
   "cell_type": "code",
   "execution_count": 106,
   "metadata": {},
   "outputs": [],
   "source": [
    "x=np.random.randint(50,size=(5,5))\n",
    "y=np.random.randint(100,size=(5,5))"
   ]
  },
  {
   "cell_type": "code",
   "execution_count": 107,
   "metadata": {},
   "outputs": [
    {
     "data": {
      "text/plain": [
       "array([[ 3, 35,  4,  2, 11],\n",
       "       [ 3, 25, 22, 21, 46],\n",
       "       [17,  6,  8, 46, 14],\n",
       "       [33, 16, 17, 27, 29],\n",
       "       [46, 34, 45,  1, 29]])"
      ]
     },
     "execution_count": 107,
     "metadata": {},
     "output_type": "execute_result"
    }
   ],
   "source": [
    "x\n"
   ]
  },
  {
   "cell_type": "code",
   "execution_count": 108,
   "metadata": {},
   "outputs": [
    {
     "data": {
      "text/plain": [
       "array([[56, 70, 55, 33, 53],\n",
       "       [ 0, 61, 59, 39, 37],\n",
       "       [ 5,  1, 35, 22, 91],\n",
       "       [24, 36, 34, 70, 38],\n",
       "       [ 1, 36, 30,  7, 42]])"
      ]
     },
     "execution_count": 108,
     "metadata": {},
     "output_type": "execute_result"
    }
   ],
   "source": [
    "y"
   ]
  },
  {
   "cell_type": "code",
   "execution_count": 110,
   "metadata": {},
   "outputs": [
    {
     "data": {
      "text/plain": [
       "array([[ 59, 105,  59,  35,  64],\n",
       "       [  3,  86,  81,  60,  83],\n",
       "       [ 22,   7,  43,  68, 105],\n",
       "       [ 57,  52,  51,  97,  67],\n",
       "       [ 47,  70,  75,   8,  71]])"
      ]
     },
     "execution_count": 110,
     "metadata": {},
     "output_type": "execute_result"
    }
   ],
   "source": [
    "np.add(x,y)"
   ]
  },
  {
   "cell_type": "code",
   "execution_count": 111,
   "metadata": {},
   "outputs": [
    {
     "data": {
      "text/plain": [
       "array([[ 59, 105,  59,  35,  64],\n",
       "       [  3,  86,  81,  60,  83],\n",
       "       [ 22,   7,  43,  68, 105],\n",
       "       [ 57,  52,  51,  97,  67],\n",
       "       [ 47,  70,  75,   8,  71]])"
      ]
     },
     "execution_count": 111,
     "metadata": {},
     "output_type": "execute_result"
    }
   ],
   "source": [
    "x+y"
   ]
  },
  {
   "cell_type": "code",
   "execution_count": 112,
   "metadata": {},
   "outputs": [
    {
     "data": {
      "text/plain": [
       "array([[-53, -35, -51, -31, -42],\n",
       "       [  3, -36, -37, -18,   9],\n",
       "       [ 12,   5, -27,  24, -77],\n",
       "       [  9, -20, -17, -43,  -9],\n",
       "       [ 45,  -2,  15,  -6, -13]])"
      ]
     },
     "execution_count": 112,
     "metadata": {},
     "output_type": "execute_result"
    }
   ],
   "source": [
    "np.subtract(x,y)"
   ]
  },
  {
   "cell_type": "code",
   "execution_count": 113,
   "metadata": {},
   "outputs": [
    {
     "data": {
      "text/plain": [
       "array([[ 53,  35,  51,  31,  42],\n",
       "       [ -3,  36,  37,  18,  -9],\n",
       "       [-12,  -5,  27, -24,  77],\n",
       "       [ -9,  20,  17,  43,   9],\n",
       "       [-45,   2, -15,   6,  13]])"
      ]
     },
     "execution_count": 113,
     "metadata": {},
     "output_type": "execute_result"
    }
   ],
   "source": [
    "y-x"
   ]
  },
  {
   "cell_type": "code",
   "execution_count": 114,
   "metadata": {},
   "outputs": [
    {
     "data": {
      "text/plain": [
       "array([[ 168, 2450,  220,   66,  583],\n",
       "       [   0, 1525, 1298,  819, 1702],\n",
       "       [  85,    6,  280, 1012, 1274],\n",
       "       [ 792,  576,  578, 1890, 1102],\n",
       "       [  46, 1224, 1350,    7, 1218]])"
      ]
     },
     "execution_count": 114,
     "metadata": {},
     "output_type": "execute_result"
    }
   ],
   "source": [
    "np.multiply(x,y)"
   ]
  },
  {
   "cell_type": "code",
   "execution_count": 115,
   "metadata": {},
   "outputs": [
    {
     "name": "stderr",
     "output_type": "stream",
     "text": [
      "C:\\Users\\Ritesh Agarwal\\Anaconda2\\lib\\site-packages\\ipykernel_launcher.py:1: RuntimeWarning: divide by zero encountered in divide\n",
      "  \"\"\"Entry point for launching an IPython kernel.\n"
     ]
    },
    {
     "data": {
      "text/plain": [
       "array([[ 0,  0,  0,  0,  0],\n",
       "       [ 0,  0,  0,  0,  1],\n",
       "       [ 3,  6,  0,  2,  0],\n",
       "       [ 1,  0,  0,  0,  0],\n",
       "       [46,  0,  1,  0,  0]])"
      ]
     },
     "execution_count": 115,
     "metadata": {},
     "output_type": "execute_result"
    }
   ],
   "source": [
    "x/y"
   ]
  },
  {
   "cell_type": "code",
   "execution_count": 116,
   "metadata": {},
   "outputs": [
    {
     "data": {
      "text/plain": [
       "array([[18,  2, 13, 16,  4],\n",
       "       [ 0,  2,  2,  1,  0],\n",
       "       [ 0,  0,  4,  0,  6],\n",
       "       [ 0,  2,  2,  2,  1],\n",
       "       [ 0,  1,  0,  7,  1]])"
      ]
     },
     "execution_count": 116,
     "metadata": {},
     "output_type": "execute_result"
    }
   ],
   "source": [
    "y/x"
   ]
  },
  {
   "cell_type": "code",
   "execution_count": 117,
   "metadata": {},
   "outputs": [
    {
     "data": {
      "text/plain": [
       "array([[18,  2, 13, 16,  4],\n",
       "       [ 0,  2,  2,  1,  0],\n",
       "       [ 0,  0,  4,  0,  6],\n",
       "       [ 0,  2,  2,  2,  1],\n",
       "       [ 0,  1,  0,  7,  1]])"
      ]
     },
     "execution_count": 117,
     "metadata": {},
     "output_type": "execute_result"
    }
   ],
   "source": [
    "np.divide(y,x)"
   ]
  },
  {
   "cell_type": "code",
   "execution_count": 118,
   "metadata": {},
   "outputs": [
    {
     "data": {
      "text/plain": [
       "array([[ 3,  3, 17, 33, 46],\n",
       "       [35, 25,  6, 16, 34],\n",
       "       [ 4, 22,  8, 17, 45],\n",
       "       [ 2, 21, 46, 27,  1],\n",
       "       [11, 46, 14, 29, 29]])"
      ]
     },
     "execution_count": 118,
     "metadata": {},
     "output_type": "execute_result"
    }
   ],
   "source": [
    "x.T"
   ]
  },
  {
   "cell_type": "code",
   "execution_count": 119,
   "metadata": {},
   "outputs": [],
   "source": [
    "z=np.random.randint(40,size=(4,4))"
   ]
  },
  {
   "cell_type": "code",
   "execution_count": 120,
   "metadata": {},
   "outputs": [
    {
     "data": {
      "text/plain": [
       "array([[27, 16, 10, 27],\n",
       "       [18, 24, 21, 33],\n",
       "       [ 1, 16, 34, 11],\n",
       "       [15, 13, 15, 35]])"
      ]
     },
     "execution_count": 120,
     "metadata": {},
     "output_type": "execute_result"
    }
   ],
   "source": [
    "z"
   ]
  },
  {
   "cell_type": "code",
   "execution_count": 121,
   "metadata": {},
   "outputs": [
    {
     "name": "stdout",
     "output_type": "stream",
     "text": [
      "(316, 19.75, 9.290452088031023)\n"
     ]
    }
   ],
   "source": [
    "print(z.sum(),z.mean(),z.std())"
   ]
  },
  {
   "cell_type": "code",
   "execution_count": 123,
   "metadata": {},
   "outputs": [
    {
     "data": {
      "text/plain": [
       "array([ 61,  69,  80, 106])"
      ]
     },
     "execution_count": 123,
     "metadata": {},
     "output_type": "execute_result"
    }
   ],
   "source": [
    "np.sum(z,axis=0)"
   ]
  },
  {
   "cell_type": "code",
   "execution_count": 124,
   "metadata": {},
   "outputs": [
    {
     "data": {
      "text/plain": [
       "array([80, 96, 62, 78])"
      ]
     },
     "execution_count": 124,
     "metadata": {},
     "output_type": "execute_result"
    }
   ],
   "source": [
    " np.sum(z,axis=1)"
   ]
  },
  {
   "cell_type": "code",
   "execution_count": 125,
   "metadata": {},
   "outputs": [
    {
     "data": {
      "text/plain": [
       "array([[29, 19, 14, 32],\n",
       "       [20, 27, 25, 38],\n",
       "       [ 3, 19, 38, 16],\n",
       "       [17, 16, 19, 40]])"
      ]
     },
     "execution_count": 125,
     "metadata": {},
     "output_type": "execute_result"
    }
   ],
   "source": [
    "z+[2,3,4,5]"
   ]
  },
  {
   "cell_type": "code",
   "execution_count": 126,
   "metadata": {},
   "outputs": [
    {
     "ename": "ValueError",
     "evalue": "operands could not be broadcast together with shapes (4,4) (3,) ",
     "output_type": "error",
     "traceback": [
      "\u001b[1;31m---------------------------------------------------------------------------\u001b[0m",
      "\u001b[1;31mValueError\u001b[0m                                Traceback (most recent call last)",
      "\u001b[1;32m<ipython-input-126-17b3939e87c6>\u001b[0m in \u001b[0;36m<module>\u001b[1;34m()\u001b[0m\n\u001b[1;32m----> 1\u001b[1;33m \u001b[0mz\u001b[0m\u001b[1;33m+\u001b[0m\u001b[1;33m[\u001b[0m\u001b[1;36m2\u001b[0m\u001b[1;33m,\u001b[0m\u001b[1;36m2\u001b[0m\u001b[1;33m,\u001b[0m\u001b[1;36m2\u001b[0m\u001b[1;33m]\u001b[0m\u001b[1;33m\u001b[0m\u001b[0m\n\u001b[0m",
      "\u001b[1;31mValueError\u001b[0m: operands could not be broadcast together with shapes (4,4) (3,) "
     ]
    }
   ],
   "source": [
    "z+[2,2,2]"
   ]
  },
  {
   "cell_type": "code",
   "execution_count": 48,
   "metadata": {},
   "outputs": [],
   "source": [
    "s=np.random.randint(20,size=(2,2))\n",
    "t=np.random.randint(20,size=(2,2))"
   ]
  },
  {
   "cell_type": "code",
   "execution_count": 128,
   "metadata": {},
   "outputs": [
    {
     "data": {
      "text/plain": [
       "array([[ 8, 16],\n",
       "       [15, 16]])"
      ]
     },
     "execution_count": 128,
     "metadata": {},
     "output_type": "execute_result"
    }
   ],
   "source": [
    "s"
   ]
  },
  {
   "cell_type": "code",
   "execution_count": 129,
   "metadata": {},
   "outputs": [
    {
     "data": {
      "text/plain": [
       "array([[ 6,  7],\n",
       "       [ 7, 19]])"
      ]
     },
     "execution_count": 129,
     "metadata": {},
     "output_type": "execute_result"
    }
   ],
   "source": [
    "t"
   ]
  },
  {
   "cell_type": "code",
   "execution_count": 130,
   "metadata": {},
   "outputs": [
    {
     "data": {
      "text/plain": [
       "array([[ 8, 16],\n",
       "       [15, 16],\n",
       "       [ 6,  7],\n",
       "       [ 7, 19]])"
      ]
     },
     "execution_count": 130,
     "metadata": {},
     "output_type": "execute_result"
    }
   ],
   "source": [
    "np.vstack([s,t])"
   ]
  },
  {
   "cell_type": "code",
   "execution_count": 131,
   "metadata": {},
   "outputs": [
    {
     "data": {
      "text/plain": [
       "array([[ 8, 16,  6,  7],\n",
       "       [15, 16,  7, 19]])"
      ]
     },
     "execution_count": 131,
     "metadata": {},
     "output_type": "execute_result"
    }
   ],
   "source": [
    "np.hstack([s,t])"
   ]
  },
  {
   "cell_type": "code",
   "execution_count": 132,
   "metadata": {},
   "outputs": [],
   "source": [
    "a=np.array([[2,2,3],[3,1,4],[4,3,0]])\n",
    "b=np.array([5,7,10])"
   ]
  },
  {
   "cell_type": "code",
   "execution_count": 134,
   "metadata": {},
   "outputs": [],
   "source": [
    "c=np.linalg.solve(a,b)"
   ]
  },
  {
   "cell_type": "code",
   "execution_count": 135,
   "metadata": {},
   "outputs": [
    {
     "data": {
      "text/plain": [
       "array([ 2.30434783,  0.26086957, -0.04347826])"
      ]
     },
     "execution_count": 135,
     "metadata": {},
     "output_type": "execute_result"
    }
   ],
   "source": [
    "c"
   ]
  },
  {
   "cell_type": "code",
   "execution_count": 136,
   "metadata": {},
   "outputs": [
    {
     "data": {
      "text/plain": [
       "array([[-2. ,  1. ],\n",
       "       [ 1.5, -0.5]])"
      ]
     },
     "execution_count": 136,
     "metadata": {},
     "output_type": "execute_result"
    }
   ],
   "source": [
    "a=np.array([[1,2],[3,4]])\n",
    "np.linalg.inv(a)"
   ]
  },
  {
   "cell_type": "code",
   "execution_count": 1,
   "metadata": {},
   "outputs": [],
   "source": [
    "import os\n",
    "import pandas as pd\n",
    "import numpy as np\n",
    "import matplotlib.pyplot as plt\n",
    "import seaborn as sns "
   ]
  },
  {
   "cell_type": "code",
   "execution_count": 2,
   "metadata": {},
   "outputs": [],
   "source": [
    "pd.read_csv?"
   ]
  },
  {
   "cell_type": "code",
   "execution_count": 3,
   "metadata": {},
   "outputs": [
    {
     "data": {
      "text/plain": [
       "u'C:\\\\Users\\\\Ritesh Agarwal'"
      ]
     },
     "execution_count": 3,
     "metadata": {},
     "output_type": "execute_result"
    }
   ],
   "source": [
    "%pwd"
   ]
  },
  {
   "cell_type": "code",
   "execution_count": 2,
   "metadata": {},
   "outputs": [],
   "source": [
    "cust_data=pd.read_csv(\"E:\\\\Data Science with Python\\\\DSP Class 4 files\\\\Cust_data.csv\")\n",
    "cust_demo=pd.read_csv(\"E:\\\\Data Science with Python\\\\DSP Class 4 files\\\\Cust_demo.csv\")\n",
    "cust_new=pd.read_csv(\"E:\\\\Data Science with Python\\\\DSP Class 4 files\\\\cust_new.csv\")"
   ]
  },
  {
   "cell_type": "code",
   "execution_count": 5,
   "metadata": {},
   "outputs": [
    {
     "data": {
      "text/html": [
       "<div>\n",
       "<style scoped>\n",
       "    .dataframe tbody tr th:only-of-type {\n",
       "        vertical-align: middle;\n",
       "    }\n",
       "\n",
       "    .dataframe tbody tr th {\n",
       "        vertical-align: top;\n",
       "    }\n",
       "\n",
       "    .dataframe thead th {\n",
       "        text-align: right;\n",
       "    }\n",
       "</style>\n",
       "<table border=\"1\" class=\"dataframe\">\n",
       "  <thead>\n",
       "    <tr style=\"text-align: right;\">\n",
       "      <th></th>\n",
       "      <th>ID</th>\n",
       "      <th>SeriousDlqin2yrs</th>\n",
       "      <th>RevolvingUtilization</th>\n",
       "      <th>No_of_30_59_DPD</th>\n",
       "      <th>DebtRatio</th>\n",
       "      <th>MonthlyIncome</th>\n",
       "      <th>No_Of_OpenCreditLines</th>\n",
       "      <th>No_of_90_DPD</th>\n",
       "      <th>No_of_RealEstateLoans</th>\n",
       "      <th>No_of_60_89_DPD</th>\n",
       "    </tr>\n",
       "  </thead>\n",
       "  <tbody>\n",
       "    <tr>\n",
       "      <th>0</th>\n",
       "      <td>83236</td>\n",
       "      <td>0</td>\n",
       "      <td>0.311726</td>\n",
       "      <td>0</td>\n",
       "      <td>0.296409</td>\n",
       "      <td>11500.0</td>\n",
       "      <td>12</td>\n",
       "      <td>0</td>\n",
       "      <td>3</td>\n",
       "      <td>0</td>\n",
       "    </tr>\n",
       "    <tr>\n",
       "      <th>1</th>\n",
       "      <td>2503</td>\n",
       "      <td>0</td>\n",
       "      <td>0.124988</td>\n",
       "      <td>0</td>\n",
       "      <td>0.115903</td>\n",
       "      <td>14166.0</td>\n",
       "      <td>13</td>\n",
       "      <td>0</td>\n",
       "      <td>1</td>\n",
       "      <td>0</td>\n",
       "    </tr>\n",
       "    <tr>\n",
       "      <th>2</th>\n",
       "      <td>137013</td>\n",
       "      <td>0</td>\n",
       "      <td>0.060258</td>\n",
       "      <td>0</td>\n",
       "      <td>0.515147</td>\n",
       "      <td>6733.0</td>\n",
       "      <td>7</td>\n",
       "      <td>0</td>\n",
       "      <td>3</td>\n",
       "      <td>0</td>\n",
       "    </tr>\n",
       "    <tr>\n",
       "      <th>3</th>\n",
       "      <td>51306</td>\n",
       "      <td>0</td>\n",
       "      <td>0.064322</td>\n",
       "      <td>0</td>\n",
       "      <td>0.165127</td>\n",
       "      <td>13316.0</td>\n",
       "      <td>10</td>\n",
       "      <td>0</td>\n",
       "      <td>1</td>\n",
       "      <td>0</td>\n",
       "    </tr>\n",
       "    <tr>\n",
       "      <th>4</th>\n",
       "      <td>71937</td>\n",
       "      <td>0</td>\n",
       "      <td>0.211186</td>\n",
       "      <td>0</td>\n",
       "      <td>0.022283</td>\n",
       "      <td>2557.0</td>\n",
       "      <td>3</td>\n",
       "      <td>0</td>\n",
       "      <td>0</td>\n",
       "      <td>0</td>\n",
       "    </tr>\n",
       "    <tr>\n",
       "      <th>5</th>\n",
       "      <td>89149</td>\n",
       "      <td>0</td>\n",
       "      <td>0.056599</td>\n",
       "      <td>0</td>\n",
       "      <td>1482.000000</td>\n",
       "      <td>NaN</td>\n",
       "      <td>5</td>\n",
       "      <td>0</td>\n",
       "      <td>1</td>\n",
       "      <td>0</td>\n",
       "    </tr>\n",
       "    <tr>\n",
       "      <th>6</th>\n",
       "      <td>140279</td>\n",
       "      <td>0</td>\n",
       "      <td>0.137483</td>\n",
       "      <td>0</td>\n",
       "      <td>0.019196</td>\n",
       "      <td>5000.0</td>\n",
       "      <td>5</td>\n",
       "      <td>0</td>\n",
       "      <td>0</td>\n",
       "      <td>0</td>\n",
       "    </tr>\n",
       "  </tbody>\n",
       "</table>\n",
       "</div>"
      ],
      "text/plain": [
       "       ID  SeriousDlqin2yrs  RevolvingUtilization  No_of_30_59_DPD  \\\n",
       "0   83236                 0              0.311726                0   \n",
       "1    2503                 0              0.124988                0   \n",
       "2  137013                 0              0.060258                0   \n",
       "3   51306                 0              0.064322                0   \n",
       "4   71937                 0              0.211186                0   \n",
       "5   89149                 0              0.056599                0   \n",
       "6  140279                 0              0.137483                0   \n",
       "\n",
       "     DebtRatio  MonthlyIncome  No_Of_OpenCreditLines  No_of_90_DPD  \\\n",
       "0     0.296409        11500.0                     12             0   \n",
       "1     0.115903        14166.0                     13             0   \n",
       "2     0.515147         6733.0                      7             0   \n",
       "3     0.165127        13316.0                     10             0   \n",
       "4     0.022283         2557.0                      3             0   \n",
       "5  1482.000000            NaN                      5             0   \n",
       "6     0.019196         5000.0                      5             0   \n",
       "\n",
       "   No_of_RealEstateLoans  No_of_60_89_DPD  \n",
       "0                      3                0  \n",
       "1                      1                0  \n",
       "2                      3                0  \n",
       "3                      1                0  \n",
       "4                      0                0  \n",
       "5                      1                0  \n",
       "6                      0                0  "
      ]
     },
     "execution_count": 5,
     "metadata": {},
     "output_type": "execute_result"
    }
   ],
   "source": [
    "cust_data.head(7)"
   ]
  },
  {
   "cell_type": "code",
   "execution_count": 6,
   "metadata": {},
   "outputs": [
    {
     "data": {
      "text/html": [
       "<div>\n",
       "<style scoped>\n",
       "    .dataframe tbody tr th:only-of-type {\n",
       "        vertical-align: middle;\n",
       "    }\n",
       "\n",
       "    .dataframe tbody tr th {\n",
       "        vertical-align: top;\n",
       "    }\n",
       "\n",
       "    .dataframe thead th {\n",
       "        text-align: right;\n",
       "    }\n",
       "</style>\n",
       "<table border=\"1\" class=\"dataframe\">\n",
       "  <thead>\n",
       "    <tr style=\"text-align: right;\">\n",
       "      <th></th>\n",
       "      <th>ID</th>\n",
       "      <th>Location</th>\n",
       "      <th>Gender</th>\n",
       "      <th>age</th>\n",
       "      <th>Martial_Status</th>\n",
       "      <th>NumberOfDependents</th>\n",
       "      <th>Own_House</th>\n",
       "      <th>No_Years_address</th>\n",
       "    </tr>\n",
       "  </thead>\n",
       "  <tbody>\n",
       "    <tr>\n",
       "      <th>0</th>\n",
       "      <td>4532</td>\n",
       "      <td>Gandhinagar,Gujarat</td>\n",
       "      <td>0</td>\n",
       "      <td>39</td>\n",
       "      <td>Single</td>\n",
       "      <td>1.0</td>\n",
       "      <td>1</td>\n",
       "      <td>3</td>\n",
       "    </tr>\n",
       "    <tr>\n",
       "      <th>1</th>\n",
       "      <td>148736</td>\n",
       "      <td>Hyderabad,Andhra Pradesh</td>\n",
       "      <td>0</td>\n",
       "      <td>52</td>\n",
       "      <td>Married</td>\n",
       "      <td>0.0</td>\n",
       "      <td>0</td>\n",
       "      <td>3</td>\n",
       "    </tr>\n",
       "    <tr>\n",
       "      <th>2</th>\n",
       "      <td>95965</td>\n",
       "      <td>Shimla,Himachal Pradesh</td>\n",
       "      <td>0</td>\n",
       "      <td>62</td>\n",
       "      <td>Married</td>\n",
       "      <td>0.0</td>\n",
       "      <td>0</td>\n",
       "      <td>2</td>\n",
       "    </tr>\n",
       "    <tr>\n",
       "      <th>3</th>\n",
       "      <td>61759</td>\n",
       "      <td>Srinagar,JK</td>\n",
       "      <td>0</td>\n",
       "      <td>42</td>\n",
       "      <td>Single</td>\n",
       "      <td>1.0</td>\n",
       "      <td>1</td>\n",
       "      <td>1</td>\n",
       "    </tr>\n",
       "    <tr>\n",
       "      <th>4</th>\n",
       "      <td>49806</td>\n",
       "      <td>Imphal,Manipur</td>\n",
       "      <td>0</td>\n",
       "      <td>41</td>\n",
       "      <td>Single</td>\n",
       "      <td>1.0</td>\n",
       "      <td>0</td>\n",
       "      <td>3</td>\n",
       "    </tr>\n",
       "  </tbody>\n",
       "</table>\n",
       "</div>"
      ],
      "text/plain": [
       "       ID                  Location  Gender  age Martial_Status  \\\n",
       "0    4532       Gandhinagar,Gujarat       0   39         Single   \n",
       "1  148736  Hyderabad,Andhra Pradesh       0   52        Married   \n",
       "2   95965   Shimla,Himachal Pradesh       0   62        Married   \n",
       "3   61759               Srinagar,JK       0   42         Single   \n",
       "4   49806            Imphal,Manipur       0   41         Single   \n",
       "\n",
       "   NumberOfDependents  Own_House  No_Years_address  \n",
       "0                 1.0          1                 3  \n",
       "1                 0.0          0                 3  \n",
       "2                 0.0          0                 2  \n",
       "3                 1.0          1                 1  \n",
       "4                 1.0          0                 3  "
      ]
     },
     "execution_count": 6,
     "metadata": {},
     "output_type": "execute_result"
    }
   ],
   "source": [
    "cust_demo.head(5)"
   ]
  },
  {
   "cell_type": "code",
   "execution_count": 7,
   "metadata": {},
   "outputs": [
    {
     "data": {
      "text/html": [
       "<div>\n",
       "<style scoped>\n",
       "    .dataframe tbody tr th:only-of-type {\n",
       "        vertical-align: middle;\n",
       "    }\n",
       "\n",
       "    .dataframe tbody tr th {\n",
       "        vertical-align: top;\n",
       "    }\n",
       "\n",
       "    .dataframe thead th {\n",
       "        text-align: right;\n",
       "    }\n",
       "</style>\n",
       "<table border=\"1\" class=\"dataframe\">\n",
       "  <thead>\n",
       "    <tr style=\"text-align: right;\">\n",
       "      <th></th>\n",
       "      <th>ID</th>\n",
       "      <th>Location</th>\n",
       "      <th>Gender</th>\n",
       "      <th>age</th>\n",
       "      <th>Martial_Status</th>\n",
       "      <th>NumberOfDependents</th>\n",
       "      <th>Own_House</th>\n",
       "      <th>No_Years_address</th>\n",
       "    </tr>\n",
       "  </thead>\n",
       "  <tbody>\n",
       "    <tr>\n",
       "      <th>0</th>\n",
       "      <td>4532</td>\n",
       "      <td>Gandhinagar,Gujarat</td>\n",
       "      <td>0</td>\n",
       "      <td>39</td>\n",
       "      <td>Single</td>\n",
       "      <td>1.0</td>\n",
       "      <td>1</td>\n",
       "      <td>3</td>\n",
       "    </tr>\n",
       "    <tr>\n",
       "      <th>1</th>\n",
       "      <td>148736</td>\n",
       "      <td>Hyderabad,Andhra Pradesh</td>\n",
       "      <td>0</td>\n",
       "      <td>52</td>\n",
       "      <td>Married</td>\n",
       "      <td>0.0</td>\n",
       "      <td>0</td>\n",
       "      <td>3</td>\n",
       "    </tr>\n",
       "    <tr>\n",
       "      <th>2</th>\n",
       "      <td>95965</td>\n",
       "      <td>Shimla,Himachal Pradesh</td>\n",
       "      <td>0</td>\n",
       "      <td>62</td>\n",
       "      <td>Married</td>\n",
       "      <td>0.0</td>\n",
       "      <td>0</td>\n",
       "      <td>2</td>\n",
       "    </tr>\n",
       "    <tr>\n",
       "      <th>3</th>\n",
       "      <td>61759</td>\n",
       "      <td>Srinagar,JK</td>\n",
       "      <td>0</td>\n",
       "      <td>42</td>\n",
       "      <td>Single</td>\n",
       "      <td>1.0</td>\n",
       "      <td>1</td>\n",
       "      <td>1</td>\n",
       "    </tr>\n",
       "    <tr>\n",
       "      <th>4</th>\n",
       "      <td>49806</td>\n",
       "      <td>Imphal,Manipur</td>\n",
       "      <td>0</td>\n",
       "      <td>41</td>\n",
       "      <td>Single</td>\n",
       "      <td>1.0</td>\n",
       "      <td>0</td>\n",
       "      <td>3</td>\n",
       "    </tr>\n",
       "  </tbody>\n",
       "</table>\n",
       "</div>"
      ],
      "text/plain": [
       "       ID                  Location  Gender  age Martial_Status  \\\n",
       "0    4532       Gandhinagar,Gujarat       0   39         Single   \n",
       "1  148736  Hyderabad,Andhra Pradesh       0   52        Married   \n",
       "2   95965   Shimla,Himachal Pradesh       0   62        Married   \n",
       "3   61759               Srinagar,JK       0   42         Single   \n",
       "4   49806            Imphal,Manipur       0   41         Single   \n",
       "\n",
       "   NumberOfDependents  Own_House  No_Years_address  \n",
       "0                 1.0          1                 3  \n",
       "1                 0.0          0                 3  \n",
       "2                 0.0          0                 2  \n",
       "3                 1.0          1                 1  \n",
       "4                 1.0          0                 3  "
      ]
     },
     "execution_count": 7,
     "metadata": {},
     "output_type": "execute_result"
    }
   ],
   "source": [
    "cust_new.head(5)"
   ]
  },
  {
   "cell_type": "code",
   "execution_count": 8,
   "metadata": {},
   "outputs": [
    {
     "name": "stdout",
     "output_type": "stream",
     "text": [
      "       ID  SeriousDlqin2yrs  RevolvingUtilization  No_of_30_59_DPD  DebtRatio  \\\n",
      "0   83236                 0              0.311726                0   0.296409   \n",
      "1    2503                 0              0.124988                0   0.115903   \n",
      "2  137013                 0              0.060258                0   0.515147   \n",
      "3   51306                 0              0.064322                0   0.165127   \n",
      "4   71937                 0              0.211186                0   0.022283   \n",
      "\n",
      "   MonthlyIncome  No_Of_OpenCreditLines  No_of_90_DPD  No_of_RealEstateLoans  \\\n",
      "0        11500.0                     12             0                      3   \n",
      "1        14166.0                     13             0                      1   \n",
      "2         6733.0                      7             0                      3   \n",
      "3        13316.0                     10             0                      1   \n",
      "4         2557.0                      3             0                      0   \n",
      "\n",
      "   No_of_60_89_DPD  \n",
      "0                0  \n",
      "1                0  \n",
      "2                0  \n",
      "3                0  \n",
      "4                0  \n"
     ]
    }
   ],
   "source": [
    "print(cust_data.head(5))"
   ]
  },
  {
   "cell_type": "code",
   "execution_count": 9,
   "metadata": {},
   "outputs": [
    {
     "name": "stdout",
     "output_type": "stream",
     "text": [
      "<class 'pandas.core.frame.DataFrame'>\n",
      "RangeIndex: 149972 entries, 0 to 149971\n",
      "Data columns (total 8 columns):\n",
      "ID                    149972 non-null int64\n",
      "Location              149972 non-null object\n",
      "Gender                149972 non-null int64\n",
      "age                   149972 non-null int64\n",
      "Martial_Status        149972 non-null object\n",
      "NumberOfDependents    146048 non-null float64\n",
      "Own_House             149972 non-null int64\n",
      "No_Years_address      149972 non-null int64\n",
      "dtypes: float64(1), int64(5), object(2)\n",
      "memory usage: 9.2+ MB\n"
     ]
    }
   ],
   "source": [
    "cust_demo.info()"
   ]
  },
  {
   "cell_type": "code",
   "execution_count": 16,
   "metadata": {},
   "outputs": [
    {
     "data": {
      "text/plain": [
       "Index([u'ID', u'Location', u'Gender', u'age', u'Martial_Status',\n",
       "       u'NumberOfDependents', u'Own_House', u'No_Years_address'],\n",
       "      dtype='object')"
      ]
     },
     "execution_count": 16,
     "metadata": {},
     "output_type": "execute_result"
    }
   ],
   "source": [
    "cust_demo.columns"
   ]
  },
  {
   "cell_type": "code",
   "execution_count": 18,
   "metadata": {},
   "outputs": [
    {
     "data": {
      "text/plain": [
       "1199776"
      ]
     },
     "execution_count": 18,
     "metadata": {},
     "output_type": "execute_result"
    }
   ],
   "source": [
    "cust_demo.size"
   ]
  },
  {
   "cell_type": "code",
   "execution_count": 20,
   "metadata": {},
   "outputs": [
    {
     "data": {
      "text/plain": [
       "(149972, 8)"
      ]
     },
     "execution_count": 20,
     "metadata": {},
     "output_type": "execute_result"
    }
   ],
   "source": [
    "cust_demo.shape"
   ]
  },
  {
   "cell_type": "code",
   "execution_count": 22,
   "metadata": {},
   "outputs": [
    {
     "data": {
      "text/plain": [
       "1199776"
      ]
     },
     "execution_count": 22,
     "metadata": {},
     "output_type": "execute_result"
    }
   ],
   "source": [
    "cust_demo.size"
   ]
  },
  {
   "cell_type": "code",
   "execution_count": 23,
   "metadata": {},
   "outputs": [
    {
     "data": {
      "text/plain": [
       "ID                      int64\n",
       "Location               object\n",
       "Gender                  int64\n",
       "age                     int64\n",
       "Martial_Status         object\n",
       "NumberOfDependents    float64\n",
       "Own_House               int64\n",
       "No_Years_address        int64\n",
       "dtype: object"
      ]
     },
     "execution_count": 23,
     "metadata": {},
     "output_type": "execute_result"
    }
   ],
   "source": [
    "cust_demo.dtypes"
   ]
  },
  {
   "cell_type": "code",
   "execution_count": 24,
   "metadata": {},
   "outputs": [
    {
     "name": "stdout",
     "output_type": "stream",
     "text": [
      "<class 'pandas.core.frame.DataFrame'>\n",
      "RangeIndex: 149972 entries, 0 to 149971\n",
      "Data columns (total 8 columns):\n",
      "ID                    149972 non-null int64\n",
      "Location              149972 non-null object\n",
      "Gender                149972 non-null int64\n",
      "age                   149972 non-null int64\n",
      "Martial_Status        149972 non-null object\n",
      "NumberOfDependents    146048 non-null float64\n",
      "Own_House             149972 non-null int64\n",
      "No_Years_address      149972 non-null int64\n",
      "dtypes: float64(1), int64(5), object(2)\n",
      "memory usage: 9.2+ MB\n"
     ]
    }
   ],
   "source": [
    "cust_demo.info()"
   ]
  },
  {
   "cell_type": "code",
   "execution_count": 25,
   "metadata": {},
   "outputs": [
    {
     "data": {
      "text/plain": [
       "ID                      int64:dense\n",
       "Location               object:dense\n",
       "Gender                  int64:dense\n",
       "age                     int64:dense\n",
       "Martial_Status         object:dense\n",
       "NumberOfDependents    float64:dense\n",
       "Own_House               int64:dense\n",
       "No_Years_address        int64:dense\n",
       "dtype: object"
      ]
     },
     "execution_count": 25,
     "metadata": {},
     "output_type": "execute_result"
    }
   ],
   "source": [
    "cust_demo.ftypes"
   ]
  },
  {
   "cell_type": "code",
   "execution_count": 10,
   "metadata": {},
   "outputs": [
    {
     "data": {
      "text/plain": [
       "float64    1\n",
       "int64      5\n",
       "object     2\n",
       "dtype: int64"
      ]
     },
     "execution_count": 10,
     "metadata": {},
     "output_type": "execute_result"
    }
   ],
   "source": [
    "cust_demo.get_dtype_counts()"
   ]
  },
  {
   "cell_type": "code",
   "execution_count": 11,
   "metadata": {},
   "outputs": [
    {
     "data": {
      "text/plain": [
       "ID                    149972\n",
       "Location              149972\n",
       "Gender                149972\n",
       "age                   149972\n",
       "Martial_Status        149972\n",
       "NumberOfDependents    146048\n",
       "Own_House             149972\n",
       "No_Years_address      149972\n",
       "dtype: int64"
      ]
     },
     "execution_count": 11,
     "metadata": {},
     "output_type": "execute_result"
    }
   ],
   "source": [
    "cust_demo.count()"
   ]
  },
  {
   "cell_type": "code",
   "execution_count": 12,
   "metadata": {},
   "outputs": [
    {
     "data": {
      "text/plain": [
       "Index                      72\n",
       "ID                    1199776\n",
       "Location              1199776\n",
       "Gender                1199776\n",
       "age                   1199776\n",
       "Martial_Status        1199776\n",
       "NumberOfDependents    1199776\n",
       "Own_House             1199776\n",
       "No_Years_address      1199776\n",
       "dtype: int64"
      ]
     },
     "execution_count": 12,
     "metadata": {},
     "output_type": "execute_result"
    }
   ],
   "source": [
    "cust_demo.memory_usage()"
   ]
  },
  {
   "cell_type": "code",
   "execution_count": 13,
   "metadata": {},
   "outputs": [
    {
     "data": {
      "text/plain": [
       "2"
      ]
     },
     "execution_count": 13,
     "metadata": {},
     "output_type": "execute_result"
    }
   ],
   "source": [
    "cust_demo.ndim"
   ]
  },
  {
   "cell_type": "code",
   "execution_count": 14,
   "metadata": {},
   "outputs": [
    {
     "name": "stdout",
     "output_type": "stream",
     "text": [
      "<class 'pandas.core.frame.DataFrame'>\n",
      "RangeIndex: 149902 entries, 0 to 149901\n",
      "Data columns (total 10 columns):\n",
      "ID                       149902 non-null int64\n",
      "SeriousDlqin2yrs         149902 non-null int64\n",
      "RevolvingUtilization     149902 non-null float64\n",
      "No_of_30_59_DPD          149902 non-null int64\n",
      "DebtRatio                149902 non-null float64\n",
      "MonthlyIncome            120191 non-null float64\n",
      "No_Of_OpenCreditLines    149902 non-null int64\n",
      "No_of_90_DPD             149902 non-null int64\n",
      "No_of_RealEstateLoans    149902 non-null int64\n",
      "No_of_60_89_DPD          149902 non-null int64\n",
      "dtypes: float64(3), int64(7)\n",
      "memory usage: 11.4 MB\n"
     ]
    }
   ],
   "source": [
    "cust_data.info()"
   ]
  },
  {
   "cell_type": "code",
   "execution_count": 16,
   "metadata": {},
   "outputs": [
    {
     "data": {
      "text/html": [
       "<div>\n",
       "<style scoped>\n",
       "    .dataframe tbody tr th:only-of-type {\n",
       "        vertical-align: middle;\n",
       "    }\n",
       "\n",
       "    .dataframe tbody tr th {\n",
       "        vertical-align: top;\n",
       "    }\n",
       "\n",
       "    .dataframe thead th {\n",
       "        text-align: right;\n",
       "    }\n",
       "</style>\n",
       "<table border=\"1\" class=\"dataframe\">\n",
       "  <thead>\n",
       "    <tr style=\"text-align: right;\">\n",
       "      <th></th>\n",
       "      <th>NumberOfDependents</th>\n",
       "    </tr>\n",
       "  </thead>\n",
       "  <tbody>\n",
       "    <tr>\n",
       "      <th>0</th>\n",
       "      <td>1.0</td>\n",
       "    </tr>\n",
       "    <tr>\n",
       "      <th>1</th>\n",
       "      <td>0.0</td>\n",
       "    </tr>\n",
       "    <tr>\n",
       "      <th>2</th>\n",
       "      <td>0.0</td>\n",
       "    </tr>\n",
       "    <tr>\n",
       "      <th>3</th>\n",
       "      <td>1.0</td>\n",
       "    </tr>\n",
       "    <tr>\n",
       "      <th>4</th>\n",
       "      <td>1.0</td>\n",
       "    </tr>\n",
       "  </tbody>\n",
       "</table>\n",
       "</div>"
      ],
      "text/plain": [
       "   NumberOfDependents\n",
       "0                 1.0\n",
       "1                 0.0\n",
       "2                 0.0\n",
       "3                 1.0\n",
       "4                 1.0"
      ]
     },
     "execution_count": 16,
     "metadata": {},
     "output_type": "execute_result"
    }
   ],
   "source": [
    "cust_demo.select_dtypes(include=['floating']).head(5)"
   ]
  },
  {
   "cell_type": "code",
   "execution_count": 17,
   "metadata": {},
   "outputs": [
    {
     "data": {
      "text/html": [
       "<div>\n",
       "<style scoped>\n",
       "    .dataframe tbody tr th:only-of-type {\n",
       "        vertical-align: middle;\n",
       "    }\n",
       "\n",
       "    .dataframe tbody tr th {\n",
       "        vertical-align: top;\n",
       "    }\n",
       "\n",
       "    .dataframe thead th {\n",
       "        text-align: right;\n",
       "    }\n",
       "</style>\n",
       "<table border=\"1\" class=\"dataframe\">\n",
       "  <thead>\n",
       "    <tr style=\"text-align: right;\">\n",
       "      <th></th>\n",
       "      <th>Location</th>\n",
       "      <th>Martial_Status</th>\n",
       "      <th>NumberOfDependents</th>\n",
       "    </tr>\n",
       "  </thead>\n",
       "  <tbody>\n",
       "    <tr>\n",
       "      <th>0</th>\n",
       "      <td>Gandhinagar,Gujarat</td>\n",
       "      <td>Single</td>\n",
       "      <td>1.0</td>\n",
       "    </tr>\n",
       "    <tr>\n",
       "      <th>1</th>\n",
       "      <td>Hyderabad,Andhra Pradesh</td>\n",
       "      <td>Married</td>\n",
       "      <td>0.0</td>\n",
       "    </tr>\n",
       "    <tr>\n",
       "      <th>2</th>\n",
       "      <td>Shimla,Himachal Pradesh</td>\n",
       "      <td>Married</td>\n",
       "      <td>0.0</td>\n",
       "    </tr>\n",
       "    <tr>\n",
       "      <th>3</th>\n",
       "      <td>Srinagar,JK</td>\n",
       "      <td>Single</td>\n",
       "      <td>1.0</td>\n",
       "    </tr>\n",
       "    <tr>\n",
       "      <th>4</th>\n",
       "      <td>Imphal,Manipur</td>\n",
       "      <td>Single</td>\n",
       "      <td>1.0</td>\n",
       "    </tr>\n",
       "  </tbody>\n",
       "</table>\n",
       "</div>"
      ],
      "text/plain": [
       "                   Location Martial_Status  NumberOfDependents\n",
       "0       Gandhinagar,Gujarat         Single                 1.0\n",
       "1  Hyderabad,Andhra Pradesh        Married                 0.0\n",
       "2   Shimla,Himachal Pradesh        Married                 0.0\n",
       "3               Srinagar,JK         Single                 1.0\n",
       "4            Imphal,Manipur         Single                 1.0"
      ]
     },
     "execution_count": 17,
     "metadata": {},
     "output_type": "execute_result"
    }
   ],
   "source": [
    "cust_demo.select_dtypes(include=['object','floating']).head(5)"
   ]
  },
  {
   "cell_type": "code",
   "execution_count": 18,
   "metadata": {},
   "outputs": [
    {
     "data": {
      "text/html": [
       "<div>\n",
       "<style scoped>\n",
       "    .dataframe tbody tr th:only-of-type {\n",
       "        vertical-align: middle;\n",
       "    }\n",
       "\n",
       "    .dataframe tbody tr th {\n",
       "        vertical-align: top;\n",
       "    }\n",
       "\n",
       "    .dataframe thead th {\n",
       "        text-align: right;\n",
       "    }\n",
       "</style>\n",
       "<table border=\"1\" class=\"dataframe\">\n",
       "  <thead>\n",
       "    <tr style=\"text-align: right;\">\n",
       "      <th></th>\n",
       "      <th>ID</th>\n",
       "      <th>Gender</th>\n",
       "      <th>age</th>\n",
       "      <th>NumberOfDependents</th>\n",
       "      <th>Own_House</th>\n",
       "      <th>No_Years_address</th>\n",
       "    </tr>\n",
       "  </thead>\n",
       "  <tbody>\n",
       "    <tr>\n",
       "      <th>0</th>\n",
       "      <td>4532</td>\n",
       "      <td>0</td>\n",
       "      <td>39</td>\n",
       "      <td>1.0</td>\n",
       "      <td>1</td>\n",
       "      <td>3</td>\n",
       "    </tr>\n",
       "    <tr>\n",
       "      <th>1</th>\n",
       "      <td>148736</td>\n",
       "      <td>0</td>\n",
       "      <td>52</td>\n",
       "      <td>0.0</td>\n",
       "      <td>0</td>\n",
       "      <td>3</td>\n",
       "    </tr>\n",
       "    <tr>\n",
       "      <th>2</th>\n",
       "      <td>95965</td>\n",
       "      <td>0</td>\n",
       "      <td>62</td>\n",
       "      <td>0.0</td>\n",
       "      <td>0</td>\n",
       "      <td>2</td>\n",
       "    </tr>\n",
       "    <tr>\n",
       "      <th>3</th>\n",
       "      <td>61759</td>\n",
       "      <td>0</td>\n",
       "      <td>42</td>\n",
       "      <td>1.0</td>\n",
       "      <td>1</td>\n",
       "      <td>1</td>\n",
       "    </tr>\n",
       "    <tr>\n",
       "      <th>4</th>\n",
       "      <td>49806</td>\n",
       "      <td>0</td>\n",
       "      <td>41</td>\n",
       "      <td>1.0</td>\n",
       "      <td>0</td>\n",
       "      <td>3</td>\n",
       "    </tr>\n",
       "  </tbody>\n",
       "</table>\n",
       "</div>"
      ],
      "text/plain": [
       "       ID  Gender  age  NumberOfDependents  Own_House  No_Years_address\n",
       "0    4532       0   39                 1.0          1                 3\n",
       "1  148736       0   52                 0.0          0                 3\n",
       "2   95965       0   62                 0.0          0                 2\n",
       "3   61759       0   42                 1.0          1                 1\n",
       "4   49806       0   41                 1.0          0                 3"
      ]
     },
     "execution_count": 18,
     "metadata": {},
     "output_type": "execute_result"
    }
   ],
   "source": [
    "cust_demo.select_dtypes(include=['number']).head(5)"
   ]
  },
  {
   "cell_type": "code",
   "execution_count": 19,
   "metadata": {},
   "outputs": [
    {
     "data": {
      "text/html": [
       "<div>\n",
       "<style scoped>\n",
       "    .dataframe tbody tr th:only-of-type {\n",
       "        vertical-align: middle;\n",
       "    }\n",
       "\n",
       "    .dataframe tbody tr th {\n",
       "        vertical-align: top;\n",
       "    }\n",
       "\n",
       "    .dataframe thead th {\n",
       "        text-align: right;\n",
       "    }\n",
       "</style>\n",
       "<table border=\"1\" class=\"dataframe\">\n",
       "  <thead>\n",
       "    <tr style=\"text-align: right;\">\n",
       "      <th></th>\n",
       "    </tr>\n",
       "  </thead>\n",
       "  <tbody>\n",
       "    <tr>\n",
       "      <th>0</th>\n",
       "    </tr>\n",
       "    <tr>\n",
       "      <th>1</th>\n",
       "    </tr>\n",
       "    <tr>\n",
       "      <th>2</th>\n",
       "    </tr>\n",
       "    <tr>\n",
       "      <th>3</th>\n",
       "    </tr>\n",
       "    <tr>\n",
       "      <th>4</th>\n",
       "    </tr>\n",
       "  </tbody>\n",
       "</table>\n",
       "</div>"
      ],
      "text/plain": [
       "Empty DataFrame\n",
       "Columns: []\n",
       "Index: [0, 1, 2, 3, 4]"
      ]
     },
     "execution_count": 19,
     "metadata": {},
     "output_type": "execute_result"
    }
   ],
   "source": [
    "cust_demo.select_dtypes(include=['category']).head(5)"
   ]
  },
  {
   "cell_type": "code",
   "execution_count": 21,
   "metadata": {},
   "outputs": [
    {
     "ename": "ValueError",
     "evalue": "at least one of include or exclude must be nonempty",
     "output_type": "error",
     "traceback": [
      "\u001b[1;31m---------------------------------------------------------------------------\u001b[0m",
      "\u001b[1;31mValueError\u001b[0m                                Traceback (most recent call last)",
      "\u001b[1;32m<ipython-input-21-3283715f33cf>\u001b[0m in \u001b[0;36m<module>\u001b[1;34m()\u001b[0m\n\u001b[1;32m----> 1\u001b[1;33m \u001b[0mcust_demo\u001b[0m\u001b[1;33m.\u001b[0m\u001b[0mselect_dtypes\u001b[0m\u001b[1;33m(\u001b[0m\u001b[0minclude\u001b[0m\u001b[1;33m=\u001b[0m\u001b[0mNone\u001b[0m\u001b[1;33m,\u001b[0m \u001b[0mexclude\u001b[0m\u001b[1;33m=\u001b[0m\u001b[0mNone\u001b[0m\u001b[1;33m)\u001b[0m\u001b[1;33m\u001b[0m\u001b[0m\n\u001b[0m",
      "\u001b[1;32mC:\\Users\\Ritesh Agarwal\\Anaconda2\\lib\\site-packages\\pandas\\core\\frame.pyc\u001b[0m in \u001b[0;36mselect_dtypes\u001b[1;34m(self, include, exclude)\u001b[0m\n\u001b[0;32m   3050\u001b[0m \u001b[1;33m\u001b[0m\u001b[0m\n\u001b[0;32m   3051\u001b[0m         \u001b[1;32mif\u001b[0m \u001b[1;32mnot\u001b[0m \u001b[0many\u001b[0m\u001b[1;33m(\u001b[0m\u001b[0mselection\u001b[0m\u001b[1;33m)\u001b[0m\u001b[1;33m:\u001b[0m\u001b[1;33m\u001b[0m\u001b[0m\n\u001b[1;32m-> 3052\u001b[1;33m             raise ValueError('at least one of include or exclude must be '\n\u001b[0m\u001b[0;32m   3053\u001b[0m                              'nonempty')\n\u001b[0;32m   3054\u001b[0m \u001b[1;33m\u001b[0m\u001b[0m\n",
      "\u001b[1;31mValueError\u001b[0m: at least one of include or exclude must be nonempty"
     ]
    }
   ],
   "source": [
    "cust_demo.select_dtypes(include=None, exclude=None)"
   ]
  },
  {
   "cell_type": "code",
   "execution_count": 23,
   "metadata": {},
   "outputs": [
    {
     "data": {
      "text/html": [
       "<div>\n",
       "<style scoped>\n",
       "    .dataframe tbody tr th:only-of-type {\n",
       "        vertical-align: middle;\n",
       "    }\n",
       "\n",
       "    .dataframe tbody tr th {\n",
       "        vertical-align: top;\n",
       "    }\n",
       "\n",
       "    .dataframe thead th {\n",
       "        text-align: right;\n",
       "    }\n",
       "</style>\n",
       "<table border=\"1\" class=\"dataframe\">\n",
       "  <thead>\n",
       "    <tr style=\"text-align: right;\">\n",
       "      <th></th>\n",
       "      <th>ID</th>\n",
       "      <th>Gender</th>\n",
       "      <th>age</th>\n",
       "      <th>Own_House</th>\n",
       "      <th>No_Years_address</th>\n",
       "    </tr>\n",
       "  </thead>\n",
       "  <tbody>\n",
       "    <tr>\n",
       "      <th>0</th>\n",
       "      <td>4532</td>\n",
       "      <td>0</td>\n",
       "      <td>39</td>\n",
       "      <td>1</td>\n",
       "      <td>3</td>\n",
       "    </tr>\n",
       "    <tr>\n",
       "      <th>1</th>\n",
       "      <td>148736</td>\n",
       "      <td>0</td>\n",
       "      <td>52</td>\n",
       "      <td>0</td>\n",
       "      <td>3</td>\n",
       "    </tr>\n",
       "    <tr>\n",
       "      <th>2</th>\n",
       "      <td>95965</td>\n",
       "      <td>0</td>\n",
       "      <td>62</td>\n",
       "      <td>0</td>\n",
       "      <td>2</td>\n",
       "    </tr>\n",
       "    <tr>\n",
       "      <th>3</th>\n",
       "      <td>61759</td>\n",
       "      <td>0</td>\n",
       "      <td>42</td>\n",
       "      <td>1</td>\n",
       "      <td>1</td>\n",
       "    </tr>\n",
       "    <tr>\n",
       "      <th>4</th>\n",
       "      <td>49806</td>\n",
       "      <td>0</td>\n",
       "      <td>41</td>\n",
       "      <td>0</td>\n",
       "      <td>3</td>\n",
       "    </tr>\n",
       "    <tr>\n",
       "      <th>5</th>\n",
       "      <td>139942</td>\n",
       "      <td>0</td>\n",
       "      <td>59</td>\n",
       "      <td>0</td>\n",
       "      <td>2</td>\n",
       "    </tr>\n",
       "    <tr>\n",
       "      <th>6</th>\n",
       "      <td>131136</td>\n",
       "      <td>0</td>\n",
       "      <td>37</td>\n",
       "      <td>1</td>\n",
       "      <td>1</td>\n",
       "    </tr>\n",
       "    <tr>\n",
       "      <th>7</th>\n",
       "      <td>87969</td>\n",
       "      <td>1</td>\n",
       "      <td>63</td>\n",
       "      <td>0</td>\n",
       "      <td>2</td>\n",
       "    </tr>\n",
       "    <tr>\n",
       "      <th>8</th>\n",
       "      <td>124554</td>\n",
       "      <td>0</td>\n",
       "      <td>59</td>\n",
       "      <td>0</td>\n",
       "      <td>2</td>\n",
       "    </tr>\n",
       "    <tr>\n",
       "      <th>9</th>\n",
       "      <td>77997</td>\n",
       "      <td>1</td>\n",
       "      <td>55</td>\n",
       "      <td>1</td>\n",
       "      <td>3</td>\n",
       "    </tr>\n",
       "  </tbody>\n",
       "</table>\n",
       "</div>"
      ],
      "text/plain": [
       "       ID  Gender  age  Own_House  No_Years_address\n",
       "0    4532       0   39          1                 3\n",
       "1  148736       0   52          0                 3\n",
       "2   95965       0   62          0                 2\n",
       "3   61759       0   42          1                 1\n",
       "4   49806       0   41          0                 3\n",
       "5  139942       0   59          0                 2\n",
       "6  131136       0   37          1                 1\n",
       "7   87969       1   63          0                 2\n",
       "8  124554       0   59          0                 2\n",
       "9   77997       1   55          1                 3"
      ]
     },
     "execution_count": 23,
     "metadata": {},
     "output_type": "execute_result"
    }
   ],
   "source": [
    "cust_demo.select_dtypes(include=['number'],exclude=['floating']).head(10)"
   ]
  },
  {
   "cell_type": "code",
   "execution_count": 24,
   "metadata": {},
   "outputs": [
    {
     "data": {
      "text/html": [
       "<div>\n",
       "<style scoped>\n",
       "    .dataframe tbody tr th:only-of-type {\n",
       "        vertical-align: middle;\n",
       "    }\n",
       "\n",
       "    .dataframe tbody tr th {\n",
       "        vertical-align: top;\n",
       "    }\n",
       "\n",
       "    .dataframe thead th {\n",
       "        text-align: right;\n",
       "    }\n",
       "</style>\n",
       "<table border=\"1\" class=\"dataframe\">\n",
       "  <thead>\n",
       "    <tr style=\"text-align: right;\">\n",
       "      <th></th>\n",
       "      <th>count</th>\n",
       "      <th>mean</th>\n",
       "      <th>std</th>\n",
       "      <th>min</th>\n",
       "      <th>25%</th>\n",
       "      <th>50%</th>\n",
       "      <th>75%</th>\n",
       "      <th>max</th>\n",
       "    </tr>\n",
       "  </thead>\n",
       "  <tbody>\n",
       "    <tr>\n",
       "      <th>ID</th>\n",
       "      <td>149972.0</td>\n",
       "      <td>75000.472535</td>\n",
       "      <td>43301.107017</td>\n",
       "      <td>1.0</td>\n",
       "      <td>37502.75</td>\n",
       "      <td>75000.5</td>\n",
       "      <td>112499.25</td>\n",
       "      <td>150000.0</td>\n",
       "    </tr>\n",
       "    <tr>\n",
       "      <th>Gender</th>\n",
       "      <td>149972.0</td>\n",
       "      <td>0.374990</td>\n",
       "      <td>0.484122</td>\n",
       "      <td>0.0</td>\n",
       "      <td>0.00</td>\n",
       "      <td>0.0</td>\n",
       "      <td>1.00</td>\n",
       "      <td>1.0</td>\n",
       "    </tr>\n",
       "    <tr>\n",
       "      <th>age</th>\n",
       "      <td>149972.0</td>\n",
       "      <td>52.295995</td>\n",
       "      <td>14.769655</td>\n",
       "      <td>0.0</td>\n",
       "      <td>41.00</td>\n",
       "      <td>52.0</td>\n",
       "      <td>63.00</td>\n",
       "      <td>109.0</td>\n",
       "    </tr>\n",
       "    <tr>\n",
       "      <th>NumberOfDependents</th>\n",
       "      <td>146048.0</td>\n",
       "      <td>0.757210</td>\n",
       "      <td>1.115002</td>\n",
       "      <td>0.0</td>\n",
       "      <td>0.00</td>\n",
       "      <td>0.0</td>\n",
       "      <td>1.00</td>\n",
       "      <td>20.0</td>\n",
       "    </tr>\n",
       "    <tr>\n",
       "      <th>Own_House</th>\n",
       "      <td>149972.0</td>\n",
       "      <td>0.399328</td>\n",
       "      <td>0.489762</td>\n",
       "      <td>0.0</td>\n",
       "      <td>0.00</td>\n",
       "      <td>0.0</td>\n",
       "      <td>1.00</td>\n",
       "      <td>1.0</td>\n",
       "    </tr>\n",
       "    <tr>\n",
       "      <th>No_Years_address</th>\n",
       "      <td>149972.0</td>\n",
       "      <td>2.002494</td>\n",
       "      <td>0.816564</td>\n",
       "      <td>1.0</td>\n",
       "      <td>1.00</td>\n",
       "      <td>2.0</td>\n",
       "      <td>3.00</td>\n",
       "      <td>3.0</td>\n",
       "    </tr>\n",
       "  </tbody>\n",
       "</table>\n",
       "</div>"
      ],
      "text/plain": [
       "                       count          mean           std  min       25%  \\\n",
       "ID                  149972.0  75000.472535  43301.107017  1.0  37502.75   \n",
       "Gender              149972.0      0.374990      0.484122  0.0      0.00   \n",
       "age                 149972.0     52.295995     14.769655  0.0     41.00   \n",
       "NumberOfDependents  146048.0      0.757210      1.115002  0.0      0.00   \n",
       "Own_House           149972.0      0.399328      0.489762  0.0      0.00   \n",
       "No_Years_address    149972.0      2.002494      0.816564  1.0      1.00   \n",
       "\n",
       "                        50%        75%       max  \n",
       "ID                  75000.5  112499.25  150000.0  \n",
       "Gender                  0.0       1.00       1.0  \n",
       "age                    52.0      63.00     109.0  \n",
       "NumberOfDependents      0.0       1.00      20.0  \n",
       "Own_House               0.0       1.00       1.0  \n",
       "No_Years_address        2.0       3.00       3.0  "
      ]
     },
     "execution_count": 24,
     "metadata": {},
     "output_type": "execute_result"
    }
   ],
   "source": [
    "cust_demo.describe().T"
   ]
  },
  {
   "cell_type": "code",
   "execution_count": 25,
   "metadata": {},
   "outputs": [
    {
     "data": {
      "text/html": [
       "<div>\n",
       "<style scoped>\n",
       "    .dataframe tbody tr th:only-of-type {\n",
       "        vertical-align: middle;\n",
       "    }\n",
       "\n",
       "    .dataframe tbody tr th {\n",
       "        vertical-align: top;\n",
       "    }\n",
       "\n",
       "    .dataframe thead th {\n",
       "        text-align: right;\n",
       "    }\n",
       "</style>\n",
       "<table border=\"1\" class=\"dataframe\">\n",
       "  <thead>\n",
       "    <tr style=\"text-align: right;\">\n",
       "      <th></th>\n",
       "      <th>ID</th>\n",
       "      <th>Gender</th>\n",
       "      <th>age</th>\n",
       "      <th>NumberOfDependents</th>\n",
       "      <th>Own_House</th>\n",
       "      <th>No_Years_address</th>\n",
       "    </tr>\n",
       "  </thead>\n",
       "  <tbody>\n",
       "    <tr>\n",
       "      <th>count</th>\n",
       "      <td>149972.000000</td>\n",
       "      <td>149972.000000</td>\n",
       "      <td>149972.000000</td>\n",
       "      <td>146048.000000</td>\n",
       "      <td>149972.000000</td>\n",
       "      <td>149972.000000</td>\n",
       "    </tr>\n",
       "    <tr>\n",
       "      <th>mean</th>\n",
       "      <td>75000.472535</td>\n",
       "      <td>0.374990</td>\n",
       "      <td>52.295995</td>\n",
       "      <td>0.757210</td>\n",
       "      <td>0.399328</td>\n",
       "      <td>2.002494</td>\n",
       "    </tr>\n",
       "    <tr>\n",
       "      <th>std</th>\n",
       "      <td>43301.107017</td>\n",
       "      <td>0.484122</td>\n",
       "      <td>14.769655</td>\n",
       "      <td>1.115002</td>\n",
       "      <td>0.489762</td>\n",
       "      <td>0.816564</td>\n",
       "    </tr>\n",
       "    <tr>\n",
       "      <th>min</th>\n",
       "      <td>1.000000</td>\n",
       "      <td>0.000000</td>\n",
       "      <td>0.000000</td>\n",
       "      <td>0.000000</td>\n",
       "      <td>0.000000</td>\n",
       "      <td>1.000000</td>\n",
       "    </tr>\n",
       "    <tr>\n",
       "      <th>25%</th>\n",
       "      <td>37502.750000</td>\n",
       "      <td>0.000000</td>\n",
       "      <td>41.000000</td>\n",
       "      <td>0.000000</td>\n",
       "      <td>0.000000</td>\n",
       "      <td>1.000000</td>\n",
       "    </tr>\n",
       "    <tr>\n",
       "      <th>50%</th>\n",
       "      <td>75000.500000</td>\n",
       "      <td>0.000000</td>\n",
       "      <td>52.000000</td>\n",
       "      <td>0.000000</td>\n",
       "      <td>0.000000</td>\n",
       "      <td>2.000000</td>\n",
       "    </tr>\n",
       "    <tr>\n",
       "      <th>75%</th>\n",
       "      <td>112499.250000</td>\n",
       "      <td>1.000000</td>\n",
       "      <td>63.000000</td>\n",
       "      <td>1.000000</td>\n",
       "      <td>1.000000</td>\n",
       "      <td>3.000000</td>\n",
       "    </tr>\n",
       "    <tr>\n",
       "      <th>max</th>\n",
       "      <td>150000.000000</td>\n",
       "      <td>1.000000</td>\n",
       "      <td>109.000000</td>\n",
       "      <td>20.000000</td>\n",
       "      <td>1.000000</td>\n",
       "      <td>3.000000</td>\n",
       "    </tr>\n",
       "  </tbody>\n",
       "</table>\n",
       "</div>"
      ],
      "text/plain": [
       "                  ID         Gender            age  NumberOfDependents  \\\n",
       "count  149972.000000  149972.000000  149972.000000       146048.000000   \n",
       "mean    75000.472535       0.374990      52.295995            0.757210   \n",
       "std     43301.107017       0.484122      14.769655            1.115002   \n",
       "min         1.000000       0.000000       0.000000            0.000000   \n",
       "25%     37502.750000       0.000000      41.000000            0.000000   \n",
       "50%     75000.500000       0.000000      52.000000            0.000000   \n",
       "75%    112499.250000       1.000000      63.000000            1.000000   \n",
       "max    150000.000000       1.000000     109.000000           20.000000   \n",
       "\n",
       "           Own_House  No_Years_address  \n",
       "count  149972.000000     149972.000000  \n",
       "mean        0.399328          2.002494  \n",
       "std         0.489762          0.816564  \n",
       "min         0.000000          1.000000  \n",
       "25%         0.000000          1.000000  \n",
       "50%         0.000000          2.000000  \n",
       "75%         1.000000          3.000000  \n",
       "max         1.000000          3.000000  "
      ]
     },
     "execution_count": 25,
     "metadata": {},
     "output_type": "execute_result"
    }
   ],
   "source": [
    "cust_demo.describe()"
   ]
  },
  {
   "cell_type": "code",
   "execution_count": 9,
   "metadata": {},
   "outputs": [
    {
     "data": {
      "text/html": [
       "<div>\n",
       "<style scoped>\n",
       "    .dataframe tbody tr th:only-of-type {\n",
       "        vertical-align: middle;\n",
       "    }\n",
       "\n",
       "    .dataframe tbody tr th {\n",
       "        vertical-align: top;\n",
       "    }\n",
       "\n",
       "    .dataframe thead th {\n",
       "        text-align: right;\n",
       "    }\n",
       "</style>\n",
       "<table border=\"1\" class=\"dataframe\">\n",
       "  <thead>\n",
       "    <tr style=\"text-align: right;\">\n",
       "      <th></th>\n",
       "      <th>ID</th>\n",
       "      <th>SeriousDlqin2yrs</th>\n",
       "      <th>RevolvingUtilization</th>\n",
       "      <th>No_of_30_59_DPD</th>\n",
       "      <th>DebtRatio</th>\n",
       "      <th>MonthlyIncome</th>\n",
       "      <th>No_Of_OpenCreditLines</th>\n",
       "      <th>No_of_90_DPD</th>\n",
       "      <th>No_of_RealEstateLoans</th>\n",
       "      <th>No_of_60_89_DPD</th>\n",
       "      <th>#30plusDPD</th>\n",
       "    </tr>\n",
       "  </thead>\n",
       "  <tbody>\n",
       "    <tr>\n",
       "      <th>0</th>\n",
       "      <td>83236</td>\n",
       "      <td>0</td>\n",
       "      <td>0.311726</td>\n",
       "      <td>0</td>\n",
       "      <td>0.296409</td>\n",
       "      <td>11500.0</td>\n",
       "      <td>12</td>\n",
       "      <td>0</td>\n",
       "      <td>3</td>\n",
       "      <td>0</td>\n",
       "      <td>0</td>\n",
       "    </tr>\n",
       "    <tr>\n",
       "      <th>1</th>\n",
       "      <td>2503</td>\n",
       "      <td>0</td>\n",
       "      <td>0.124988</td>\n",
       "      <td>0</td>\n",
       "      <td>0.115903</td>\n",
       "      <td>14166.0</td>\n",
       "      <td>13</td>\n",
       "      <td>0</td>\n",
       "      <td>1</td>\n",
       "      <td>0</td>\n",
       "      <td>0</td>\n",
       "    </tr>\n",
       "    <tr>\n",
       "      <th>2</th>\n",
       "      <td>137013</td>\n",
       "      <td>0</td>\n",
       "      <td>0.060258</td>\n",
       "      <td>0</td>\n",
       "      <td>0.515147</td>\n",
       "      <td>6733.0</td>\n",
       "      <td>7</td>\n",
       "      <td>0</td>\n",
       "      <td>3</td>\n",
       "      <td>0</td>\n",
       "      <td>0</td>\n",
       "    </tr>\n",
       "    <tr>\n",
       "      <th>3</th>\n",
       "      <td>51306</td>\n",
       "      <td>0</td>\n",
       "      <td>0.064322</td>\n",
       "      <td>0</td>\n",
       "      <td>0.165127</td>\n",
       "      <td>13316.0</td>\n",
       "      <td>10</td>\n",
       "      <td>0</td>\n",
       "      <td>1</td>\n",
       "      <td>0</td>\n",
       "      <td>0</td>\n",
       "    </tr>\n",
       "    <tr>\n",
       "      <th>4</th>\n",
       "      <td>71937</td>\n",
       "      <td>0</td>\n",
       "      <td>0.211186</td>\n",
       "      <td>0</td>\n",
       "      <td>0.022283</td>\n",
       "      <td>2557.0</td>\n",
       "      <td>3</td>\n",
       "      <td>0</td>\n",
       "      <td>0</td>\n",
       "      <td>0</td>\n",
       "      <td>0</td>\n",
       "    </tr>\n",
       "  </tbody>\n",
       "</table>\n",
       "</div>"
      ],
      "text/plain": [
       "       ID  SeriousDlqin2yrs  RevolvingUtilization  No_of_30_59_DPD  DebtRatio  \\\n",
       "0   83236                 0              0.311726                0   0.296409   \n",
       "1    2503                 0              0.124988                0   0.115903   \n",
       "2  137013                 0              0.060258                0   0.515147   \n",
       "3   51306                 0              0.064322                0   0.165127   \n",
       "4   71937                 0              0.211186                0   0.022283   \n",
       "\n",
       "   MonthlyIncome  No_Of_OpenCreditLines  No_of_90_DPD  No_of_RealEstateLoans  \\\n",
       "0        11500.0                     12             0                      3   \n",
       "1        14166.0                     13             0                      1   \n",
       "2         6733.0                      7             0                      3   \n",
       "3        13316.0                     10             0                      1   \n",
       "4         2557.0                      3             0                      0   \n",
       "\n",
       "   No_of_60_89_DPD  #30plusDPD  \n",
       "0                0           0  \n",
       "1                0           0  \n",
       "2                0           0  \n",
       "3                0           0  \n",
       "4                0           0  "
      ]
     },
     "execution_count": 9,
     "metadata": {},
     "output_type": "execute_result"
    }
   ],
   "source": [
    "cust_data.head(5)"
   ]
  },
  {
   "cell_type": "code",
   "execution_count": 27,
   "metadata": {},
   "outputs": [
    {
     "data": {
      "text/html": [
       "<div>\n",
       "<style scoped>\n",
       "    .dataframe tbody tr th:only-of-type {\n",
       "        vertical-align: middle;\n",
       "    }\n",
       "\n",
       "    .dataframe tbody tr th {\n",
       "        vertical-align: top;\n",
       "    }\n",
       "\n",
       "    .dataframe thead th {\n",
       "        text-align: right;\n",
       "    }\n",
       "</style>\n",
       "<table border=\"1\" class=\"dataframe\">\n",
       "  <thead>\n",
       "    <tr style=\"text-align: right;\">\n",
       "      <th></th>\n",
       "      <th>ID</th>\n",
       "      <th>SeriousDlqin2yrs</th>\n",
       "      <th>RevolvingUtilization</th>\n",
       "      <th>No_of_30_59_DPD</th>\n",
       "      <th>DebtRatio</th>\n",
       "      <th>MonthlyIncome</th>\n",
       "      <th>No_Of_OpenCreditLines</th>\n",
       "      <th>No_of_90_DPD</th>\n",
       "      <th>No_of_RealEstateLoans</th>\n",
       "      <th>No_of_60_89_DPD</th>\n",
       "    </tr>\n",
       "  </thead>\n",
       "  <tbody>\n",
       "    <tr>\n",
       "      <th>0</th>\n",
       "      <td>83236</td>\n",
       "      <td>0</td>\n",
       "      <td>0.311726</td>\n",
       "      <td>0</td>\n",
       "      <td>0.296409</td>\n",
       "      <td>11500.0</td>\n",
       "      <td>12</td>\n",
       "      <td>0</td>\n",
       "      <td>3</td>\n",
       "      <td>0</td>\n",
       "    </tr>\n",
       "    <tr>\n",
       "      <th>1</th>\n",
       "      <td>2503</td>\n",
       "      <td>0</td>\n",
       "      <td>0.124988</td>\n",
       "      <td>0</td>\n",
       "      <td>0.115903</td>\n",
       "      <td>14166.0</td>\n",
       "      <td>13</td>\n",
       "      <td>0</td>\n",
       "      <td>1</td>\n",
       "      <td>0</td>\n",
       "    </tr>\n",
       "    <tr>\n",
       "      <th>2</th>\n",
       "      <td>137013</td>\n",
       "      <td>0</td>\n",
       "      <td>0.060258</td>\n",
       "      <td>0</td>\n",
       "      <td>0.515147</td>\n",
       "      <td>6733.0</td>\n",
       "      <td>7</td>\n",
       "      <td>0</td>\n",
       "      <td>3</td>\n",
       "      <td>0</td>\n",
       "    </tr>\n",
       "    <tr>\n",
       "      <th>3</th>\n",
       "      <td>51306</td>\n",
       "      <td>0</td>\n",
       "      <td>0.064322</td>\n",
       "      <td>0</td>\n",
       "      <td>0.165127</td>\n",
       "      <td>13316.0</td>\n",
       "      <td>10</td>\n",
       "      <td>0</td>\n",
       "      <td>1</td>\n",
       "      <td>0</td>\n",
       "    </tr>\n",
       "    <tr>\n",
       "      <th>4</th>\n",
       "      <td>71937</td>\n",
       "      <td>0</td>\n",
       "      <td>0.211186</td>\n",
       "      <td>0</td>\n",
       "      <td>0.022283</td>\n",
       "      <td>2557.0</td>\n",
       "      <td>3</td>\n",
       "      <td>0</td>\n",
       "      <td>0</td>\n",
       "      <td>0</td>\n",
       "    </tr>\n",
       "  </tbody>\n",
       "</table>\n",
       "</div>"
      ],
      "text/plain": [
       "       ID  SeriousDlqin2yrs  RevolvingUtilization  No_of_30_59_DPD  DebtRatio  \\\n",
       "0   83236                 0              0.311726                0   0.296409   \n",
       "1    2503                 0              0.124988                0   0.115903   \n",
       "2  137013                 0              0.060258                0   0.515147   \n",
       "3   51306                 0              0.064322                0   0.165127   \n",
       "4   71937                 0              0.211186                0   0.022283   \n",
       "\n",
       "   MonthlyIncome  No_Of_OpenCreditLines  No_of_90_DPD  No_of_RealEstateLoans  \\\n",
       "0        11500.0                     12             0                      3   \n",
       "1        14166.0                     13             0                      1   \n",
       "2         6733.0                      7             0                      3   \n",
       "3        13316.0                     10             0                      1   \n",
       "4         2557.0                      3             0                      0   \n",
       "\n",
       "   No_of_60_89_DPD  \n",
       "0                0  \n",
       "1                0  \n",
       "2                0  \n",
       "3                0  \n",
       "4                0  "
      ]
     },
     "execution_count": 27,
     "metadata": {},
     "output_type": "execute_result"
    }
   ],
   "source": [
    "cust_data.head(5)"
   ]
  },
  {
   "cell_type": "code",
   "execution_count": 29,
   "metadata": {},
   "outputs": [
    {
     "data": {
      "text/html": [
       "<div>\n",
       "<style scoped>\n",
       "    .dataframe tbody tr th:only-of-type {\n",
       "        vertical-align: middle;\n",
       "    }\n",
       "\n",
       "    .dataframe tbody tr th {\n",
       "        vertical-align: top;\n",
       "    }\n",
       "\n",
       "    .dataframe thead th {\n",
       "        text-align: right;\n",
       "    }\n",
       "</style>\n",
       "<table border=\"1\" class=\"dataframe\">\n",
       "  <thead>\n",
       "    <tr style=\"text-align: right;\">\n",
       "      <th></th>\n",
       "      <th>ID</th>\n",
       "      <th>MonthlyIncome</th>\n",
       "      <th>DebtRatio</th>\n",
       "    </tr>\n",
       "  </thead>\n",
       "  <tbody>\n",
       "    <tr>\n",
       "      <th>0</th>\n",
       "      <td>83236</td>\n",
       "      <td>11500.0</td>\n",
       "      <td>0.296409</td>\n",
       "    </tr>\n",
       "    <tr>\n",
       "      <th>1</th>\n",
       "      <td>2503</td>\n",
       "      <td>14166.0</td>\n",
       "      <td>0.115903</td>\n",
       "    </tr>\n",
       "    <tr>\n",
       "      <th>2</th>\n",
       "      <td>137013</td>\n",
       "      <td>6733.0</td>\n",
       "      <td>0.515147</td>\n",
       "    </tr>\n",
       "    <tr>\n",
       "      <th>3</th>\n",
       "      <td>51306</td>\n",
       "      <td>13316.0</td>\n",
       "      <td>0.165127</td>\n",
       "    </tr>\n",
       "    <tr>\n",
       "      <th>4</th>\n",
       "      <td>71937</td>\n",
       "      <td>2557.0</td>\n",
       "      <td>0.022283</td>\n",
       "    </tr>\n",
       "  </tbody>\n",
       "</table>\n",
       "</div>"
      ],
      "text/plain": [
       "       ID  MonthlyIncome  DebtRatio\n",
       "0   83236        11500.0   0.296409\n",
       "1    2503        14166.0   0.115903\n",
       "2  137013         6733.0   0.515147\n",
       "3   51306        13316.0   0.165127\n",
       "4   71937         2557.0   0.022283"
      ]
     },
     "execution_count": 29,
     "metadata": {},
     "output_type": "execute_result"
    }
   ],
   "source": [
    "cust_data[['ID','MonthlyIncome','DebtRatio']].head(5)"
   ]
  },
  {
   "cell_type": "code",
   "execution_count": 31,
   "metadata": {},
   "outputs": [
    {
     "data": {
      "text/html": [
       "<div>\n",
       "<style scoped>\n",
       "    .dataframe tbody tr th:only-of-type {\n",
       "        vertical-align: middle;\n",
       "    }\n",
       "\n",
       "    .dataframe tbody tr th {\n",
       "        vertical-align: top;\n",
       "    }\n",
       "\n",
       "    .dataframe thead th {\n",
       "        text-align: right;\n",
       "    }\n",
       "</style>\n",
       "<table border=\"1\" class=\"dataframe\">\n",
       "  <thead>\n",
       "    <tr style=\"text-align: right;\">\n",
       "      <th></th>\n",
       "      <th>ID</th>\n",
       "      <th>DebtRatio</th>\n",
       "      <th>MonthlyIncome</th>\n",
       "    </tr>\n",
       "  </thead>\n",
       "  <tbody>\n",
       "    <tr>\n",
       "      <th>0</th>\n",
       "      <td>83236</td>\n",
       "      <td>0.296409</td>\n",
       "      <td>11500.0</td>\n",
       "    </tr>\n",
       "    <tr>\n",
       "      <th>1</th>\n",
       "      <td>2503</td>\n",
       "      <td>0.115903</td>\n",
       "      <td>14166.0</td>\n",
       "    </tr>\n",
       "    <tr>\n",
       "      <th>2</th>\n",
       "      <td>137013</td>\n",
       "      <td>0.515147</td>\n",
       "      <td>6733.0</td>\n",
       "    </tr>\n",
       "    <tr>\n",
       "      <th>3</th>\n",
       "      <td>51306</td>\n",
       "      <td>0.165127</td>\n",
       "      <td>13316.0</td>\n",
       "    </tr>\n",
       "  </tbody>\n",
       "</table>\n",
       "</div>"
      ],
      "text/plain": [
       "       ID  DebtRatio  MonthlyIncome\n",
       "0   83236   0.296409        11500.0\n",
       "1    2503   0.115903        14166.0\n",
       "2  137013   0.515147         6733.0\n",
       "3   51306   0.165127        13316.0"
      ]
     },
     "execution_count": 31,
     "metadata": {},
     "output_type": "execute_result"
    }
   ],
   "source": [
    "cust_data.iloc[[0,1,2,3],[0,4,5]]"
   ]
  },
  {
   "cell_type": "code",
   "execution_count": 36,
   "metadata": {},
   "outputs": [
    {
     "data": {
      "text/html": [
       "<div>\n",
       "<style scoped>\n",
       "    .dataframe tbody tr th:only-of-type {\n",
       "        vertical-align: middle;\n",
       "    }\n",
       "\n",
       "    .dataframe tbody tr th {\n",
       "        vertical-align: top;\n",
       "    }\n",
       "\n",
       "    .dataframe thead th {\n",
       "        text-align: right;\n",
       "    }\n",
       "</style>\n",
       "<table border=\"1\" class=\"dataframe\">\n",
       "  <thead>\n",
       "    <tr style=\"text-align: right;\">\n",
       "      <th></th>\n",
       "      <th>ID</th>\n",
       "      <th>SeriousDlqin2yrs</th>\n",
       "      <th>RevolvingUtilization</th>\n",
       "      <th>No_of_30_59_DPD</th>\n",
       "      <th>DebtRatio</th>\n",
       "      <th>MonthlyIncome</th>\n",
       "      <th>No_Of_OpenCreditLines</th>\n",
       "      <th>No_of_90_DPD</th>\n",
       "      <th>No_of_RealEstateLoans</th>\n",
       "      <th>No_of_60_89_DPD</th>\n",
       "    </tr>\n",
       "  </thead>\n",
       "  <tbody>\n",
       "    <tr>\n",
       "      <th>0</th>\n",
       "      <td>83236</td>\n",
       "      <td>0</td>\n",
       "      <td>0.311726</td>\n",
       "      <td>0</td>\n",
       "      <td>0.296409</td>\n",
       "      <td>11500.0</td>\n",
       "      <td>12</td>\n",
       "      <td>0</td>\n",
       "      <td>3</td>\n",
       "      <td>0</td>\n",
       "    </tr>\n",
       "    <tr>\n",
       "      <th>1</th>\n",
       "      <td>2503</td>\n",
       "      <td>0</td>\n",
       "      <td>0.124988</td>\n",
       "      <td>0</td>\n",
       "      <td>0.115903</td>\n",
       "      <td>14166.0</td>\n",
       "      <td>13</td>\n",
       "      <td>0</td>\n",
       "      <td>1</td>\n",
       "      <td>0</td>\n",
       "    </tr>\n",
       "    <tr>\n",
       "      <th>2</th>\n",
       "      <td>137013</td>\n",
       "      <td>0</td>\n",
       "      <td>0.060258</td>\n",
       "      <td>0</td>\n",
       "      <td>0.515147</td>\n",
       "      <td>6733.0</td>\n",
       "      <td>7</td>\n",
       "      <td>0</td>\n",
       "      <td>3</td>\n",
       "      <td>0</td>\n",
       "    </tr>\n",
       "    <tr>\n",
       "      <th>3</th>\n",
       "      <td>51306</td>\n",
       "      <td>0</td>\n",
       "      <td>0.064322</td>\n",
       "      <td>0</td>\n",
       "      <td>0.165127</td>\n",
       "      <td>13316.0</td>\n",
       "      <td>10</td>\n",
       "      <td>0</td>\n",
       "      <td>1</td>\n",
       "      <td>0</td>\n",
       "    </tr>\n",
       "  </tbody>\n",
       "</table>\n",
       "</div>"
      ],
      "text/plain": [
       "       ID  SeriousDlqin2yrs  RevolvingUtilization  No_of_30_59_DPD  DebtRatio  \\\n",
       "0   83236                 0              0.311726                0   0.296409   \n",
       "1    2503                 0              0.124988                0   0.115903   \n",
       "2  137013                 0              0.060258                0   0.515147   \n",
       "3   51306                 0              0.064322                0   0.165127   \n",
       "\n",
       "   MonthlyIncome  No_Of_OpenCreditLines  No_of_90_DPD  No_of_RealEstateLoans  \\\n",
       "0        11500.0                     12             0                      3   \n",
       "1        14166.0                     13             0                      1   \n",
       "2         6733.0                      7             0                      3   \n",
       "3        13316.0                     10             0                      1   \n",
       "\n",
       "   No_of_60_89_DPD  \n",
       "0                0  \n",
       "1                0  \n",
       "2                0  \n",
       "3                0  "
      ]
     },
     "execution_count": 36,
     "metadata": {},
     "output_type": "execute_result"
    }
   ],
   "source": [
    "cust_data.iloc[:,:].head(4)"
   ]
  },
  {
   "cell_type": "code",
   "execution_count": 34,
   "metadata": {},
   "outputs": [
    {
     "data": {
      "text/html": [
       "<div>\n",
       "<style scoped>\n",
       "    .dataframe tbody tr th:only-of-type {\n",
       "        vertical-align: middle;\n",
       "    }\n",
       "\n",
       "    .dataframe tbody tr th {\n",
       "        vertical-align: top;\n",
       "    }\n",
       "\n",
       "    .dataframe thead th {\n",
       "        text-align: right;\n",
       "    }\n",
       "</style>\n",
       "<table border=\"1\" class=\"dataframe\">\n",
       "  <thead>\n",
       "    <tr style=\"text-align: right;\">\n",
       "      <th></th>\n",
       "      <th>ID</th>\n",
       "      <th>SeriousDlqin2yrs</th>\n",
       "      <th>RevolvingUtilization</th>\n",
       "      <th>No_of_30_59_DPD</th>\n",
       "      <th>DebtRatio</th>\n",
       "      <th>MonthlyIncome</th>\n",
       "      <th>No_Of_OpenCreditLines</th>\n",
       "      <th>No_of_90_DPD</th>\n",
       "      <th>No_of_RealEstateLoans</th>\n",
       "      <th>No_of_60_89_DPD</th>\n",
       "    </tr>\n",
       "  </thead>\n",
       "  <tbody>\n",
       "    <tr>\n",
       "      <th>0</th>\n",
       "      <td>83236</td>\n",
       "      <td>0</td>\n",
       "      <td>0.311726</td>\n",
       "      <td>0</td>\n",
       "      <td>0.296409</td>\n",
       "      <td>11500.0</td>\n",
       "      <td>12</td>\n",
       "      <td>0</td>\n",
       "      <td>3</td>\n",
       "      <td>0</td>\n",
       "    </tr>\n",
       "    <tr>\n",
       "      <th>1</th>\n",
       "      <td>2503</td>\n",
       "      <td>0</td>\n",
       "      <td>0.124988</td>\n",
       "      <td>0</td>\n",
       "      <td>0.115903</td>\n",
       "      <td>14166.0</td>\n",
       "      <td>13</td>\n",
       "      <td>0</td>\n",
       "      <td>1</td>\n",
       "      <td>0</td>\n",
       "    </tr>\n",
       "    <tr>\n",
       "      <th>2</th>\n",
       "      <td>137013</td>\n",
       "      <td>0</td>\n",
       "      <td>0.060258</td>\n",
       "      <td>0</td>\n",
       "      <td>0.515147</td>\n",
       "      <td>6733.0</td>\n",
       "      <td>7</td>\n",
       "      <td>0</td>\n",
       "      <td>3</td>\n",
       "      <td>0</td>\n",
       "    </tr>\n",
       "    <tr>\n",
       "      <th>3</th>\n",
       "      <td>51306</td>\n",
       "      <td>0</td>\n",
       "      <td>0.064322</td>\n",
       "      <td>0</td>\n",
       "      <td>0.165127</td>\n",
       "      <td>13316.0</td>\n",
       "      <td>10</td>\n",
       "      <td>0</td>\n",
       "      <td>1</td>\n",
       "      <td>0</td>\n",
       "    </tr>\n",
       "    <tr>\n",
       "      <th>4</th>\n",
       "      <td>71937</td>\n",
       "      <td>0</td>\n",
       "      <td>0.211186</td>\n",
       "      <td>0</td>\n",
       "      <td>0.022283</td>\n",
       "      <td>2557.0</td>\n",
       "      <td>3</td>\n",
       "      <td>0</td>\n",
       "      <td>0</td>\n",
       "      <td>0</td>\n",
       "    </tr>\n",
       "  </tbody>\n",
       "</table>\n",
       "</div>"
      ],
      "text/plain": [
       "       ID  SeriousDlqin2yrs  RevolvingUtilization  No_of_30_59_DPD  DebtRatio  \\\n",
       "0   83236                 0              0.311726                0   0.296409   \n",
       "1    2503                 0              0.124988                0   0.115903   \n",
       "2  137013                 0              0.060258                0   0.515147   \n",
       "3   51306                 0              0.064322                0   0.165127   \n",
       "4   71937                 0              0.211186                0   0.022283   \n",
       "\n",
       "   MonthlyIncome  No_Of_OpenCreditLines  No_of_90_DPD  No_of_RealEstateLoans  \\\n",
       "0        11500.0                     12             0                      3   \n",
       "1        14166.0                     13             0                      1   \n",
       "2         6733.0                      7             0                      3   \n",
       "3        13316.0                     10             0                      1   \n",
       "4         2557.0                      3             0                      0   \n",
       "\n",
       "   No_of_60_89_DPD  \n",
       "0                0  \n",
       "1                0  \n",
       "2                0  \n",
       "3                0  \n",
       "4                0  "
      ]
     },
     "execution_count": 34,
     "metadata": {},
     "output_type": "execute_result"
    }
   ],
   "source": [
    "cust_data.iloc[0:5,:]"
   ]
  },
  {
   "cell_type": "code",
   "execution_count": 32,
   "metadata": {
    "scrolled": true
   },
   "outputs": [
    {
     "data": {
      "text/html": [
       "<div>\n",
       "<style scoped>\n",
       "    .dataframe tbody tr th:only-of-type {\n",
       "        vertical-align: middle;\n",
       "    }\n",
       "\n",
       "    .dataframe tbody tr th {\n",
       "        vertical-align: top;\n",
       "    }\n",
       "\n",
       "    .dataframe thead th {\n",
       "        text-align: right;\n",
       "    }\n",
       "</style>\n",
       "<table border=\"1\" class=\"dataframe\">\n",
       "  <thead>\n",
       "    <tr style=\"text-align: right;\">\n",
       "      <th></th>\n",
       "      <th>ID</th>\n",
       "      <th>DebtRatio</th>\n",
       "      <th>MonthlyIncome</th>\n",
       "    </tr>\n",
       "  </thead>\n",
       "  <tbody>\n",
       "    <tr>\n",
       "      <th>0</th>\n",
       "      <td>83236</td>\n",
       "      <td>0.296409</td>\n",
       "      <td>11500.0</td>\n",
       "    </tr>\n",
       "    <tr>\n",
       "      <th>1</th>\n",
       "      <td>2503</td>\n",
       "      <td>0.115903</td>\n",
       "      <td>14166.0</td>\n",
       "    </tr>\n",
       "    <tr>\n",
       "      <th>2</th>\n",
       "      <td>137013</td>\n",
       "      <td>0.515147</td>\n",
       "      <td>6733.0</td>\n",
       "    </tr>\n",
       "    <tr>\n",
       "      <th>3</th>\n",
       "      <td>51306</td>\n",
       "      <td>0.165127</td>\n",
       "      <td>13316.0</td>\n",
       "    </tr>\n",
       "    <tr>\n",
       "      <th>4</th>\n",
       "      <td>71937</td>\n",
       "      <td>0.022283</td>\n",
       "      <td>2557.0</td>\n",
       "    </tr>\n",
       "  </tbody>\n",
       "</table>\n",
       "</div>"
      ],
      "text/plain": [
       "       ID  DebtRatio  MonthlyIncome\n",
       "0   83236   0.296409        11500.0\n",
       "1    2503   0.115903        14166.0\n",
       "2  137013   0.515147         6733.0\n",
       "3   51306   0.165127        13316.0\n",
       "4   71937   0.022283         2557.0"
      ]
     },
     "execution_count": 32,
     "metadata": {},
     "output_type": "execute_result"
    }
   ],
   "source": [
    "cust_data.loc[[0,1,2,3,4],['ID','DebtRatio','MonthlyIncome']]"
   ]
  },
  {
   "cell_type": "code",
   "execution_count": 39,
   "metadata": {},
   "outputs": [
    {
     "data": {
      "text/html": [
       "<div>\n",
       "<style scoped>\n",
       "    .dataframe tbody tr th:only-of-type {\n",
       "        vertical-align: middle;\n",
       "    }\n",
       "\n",
       "    .dataframe tbody tr th {\n",
       "        vertical-align: top;\n",
       "    }\n",
       "\n",
       "    .dataframe thead th {\n",
       "        text-align: right;\n",
       "    }\n",
       "</style>\n",
       "<table border=\"1\" class=\"dataframe\">\n",
       "  <thead>\n",
       "    <tr style=\"text-align: right;\">\n",
       "      <th></th>\n",
       "      <th>ID</th>\n",
       "      <th>SeriousDlqin2yrs</th>\n",
       "      <th>RevolvingUtilization</th>\n",
       "      <th>No_of_30_59_DPD</th>\n",
       "      <th>DebtRatio</th>\n",
       "      <th>MonthlyIncome</th>\n",
       "      <th>No_Of_OpenCreditLines</th>\n",
       "      <th>No_of_90_DPD</th>\n",
       "      <th>No_of_RealEstateLoans</th>\n",
       "      <th>No_of_60_89_DPD</th>\n",
       "    </tr>\n",
       "  </thead>\n",
       "  <tbody>\n",
       "    <tr>\n",
       "      <th>486</th>\n",
       "      <td>117861</td>\n",
       "      <td>0</td>\n",
       "      <td>0.012476</td>\n",
       "      <td>0</td>\n",
       "      <td>0.546141</td>\n",
       "      <td>11117.0</td>\n",
       "      <td>6</td>\n",
       "      <td>0</td>\n",
       "      <td>4</td>\n",
       "      <td>0</td>\n",
       "    </tr>\n",
       "    <tr>\n",
       "      <th>620</th>\n",
       "      <td>127711</td>\n",
       "      <td>0</td>\n",
       "      <td>0.705444</td>\n",
       "      <td>0</td>\n",
       "      <td>0.614847</td>\n",
       "      <td>11301.0</td>\n",
       "      <td>13</td>\n",
       "      <td>0</td>\n",
       "      <td>2</td>\n",
       "      <td>0</td>\n",
       "    </tr>\n",
       "    <tr>\n",
       "      <th>729</th>\n",
       "      <td>44191</td>\n",
       "      <td>0</td>\n",
       "      <td>0.092991</td>\n",
       "      <td>0</td>\n",
       "      <td>0.570959</td>\n",
       "      <td>11865.0</td>\n",
       "      <td>26</td>\n",
       "      <td>0</td>\n",
       "      <td>5</td>\n",
       "      <td>0</td>\n",
       "    </tr>\n",
       "  </tbody>\n",
       "</table>\n",
       "</div>"
      ],
      "text/plain": [
       "         ID  SeriousDlqin2yrs  RevolvingUtilization  No_of_30_59_DPD  \\\n",
       "486  117861                 0              0.012476                0   \n",
       "620  127711                 0              0.705444                0   \n",
       "729   44191                 0              0.092991                0   \n",
       "\n",
       "     DebtRatio  MonthlyIncome  No_Of_OpenCreditLines  No_of_90_DPD  \\\n",
       "486   0.546141        11117.0                      6             0   \n",
       "620   0.614847        11301.0                     13             0   \n",
       "729   0.570959        11865.0                     26             0   \n",
       "\n",
       "     No_of_RealEstateLoans  No_of_60_89_DPD  \n",
       "486                      4                0  \n",
       "620                      2                0  \n",
       "729                      5                0  "
      ]
     },
     "execution_count": 39,
     "metadata": {},
     "output_type": "execute_result"
    }
   ],
   "source": [
    "cust_data[(cust_data.DebtRatio>0.5)&(cust_data.MonthlyIncome>11000)].head(3)"
   ]
  },
  {
   "cell_type": "code",
   "execution_count": 41,
   "metadata": {},
   "outputs": [
    {
     "data": {
      "text/html": [
       "<div>\n",
       "<style scoped>\n",
       "    .dataframe tbody tr th:only-of-type {\n",
       "        vertical-align: middle;\n",
       "    }\n",
       "\n",
       "    .dataframe tbody tr th {\n",
       "        vertical-align: top;\n",
       "    }\n",
       "\n",
       "    .dataframe thead th {\n",
       "        text-align: right;\n",
       "    }\n",
       "</style>\n",
       "<table border=\"1\" class=\"dataframe\">\n",
       "  <thead>\n",
       "    <tr style=\"text-align: right;\">\n",
       "      <th></th>\n",
       "      <th>ID</th>\n",
       "      <th>Location</th>\n",
       "      <th>Gender</th>\n",
       "      <th>age</th>\n",
       "      <th>Martial_Status</th>\n",
       "      <th>NumberOfDependents</th>\n",
       "      <th>Own_House</th>\n",
       "      <th>No_Years_address</th>\n",
       "    </tr>\n",
       "  </thead>\n",
       "  <tbody>\n",
       "    <tr>\n",
       "      <th>0</th>\n",
       "      <td>4532</td>\n",
       "      <td>Gandhinagar,Gujarat</td>\n",
       "      <td>0</td>\n",
       "      <td>39</td>\n",
       "      <td>Single</td>\n",
       "      <td>1.0</td>\n",
       "      <td>1</td>\n",
       "      <td>3</td>\n",
       "    </tr>\n",
       "    <tr>\n",
       "      <th>1</th>\n",
       "      <td>148736</td>\n",
       "      <td>Hyderabad,Andhra Pradesh</td>\n",
       "      <td>0</td>\n",
       "      <td>52</td>\n",
       "      <td>Married</td>\n",
       "      <td>0.0</td>\n",
       "      <td>0</td>\n",
       "      <td>3</td>\n",
       "    </tr>\n",
       "  </tbody>\n",
       "</table>\n",
       "</div>"
      ],
      "text/plain": [
       "       ID                  Location  Gender  age Martial_Status  \\\n",
       "0    4532       Gandhinagar,Gujarat       0   39         Single   \n",
       "1  148736  Hyderabad,Andhra Pradesh       0   52        Married   \n",
       "\n",
       "   NumberOfDependents  Own_House  No_Years_address  \n",
       "0                 1.0          1                 3  \n",
       "1                 0.0          0                 3  "
      ]
     },
     "execution_count": 41,
     "metadata": {},
     "output_type": "execute_result"
    }
   ],
   "source": [
    "cust_demo.head(2)"
   ]
  },
  {
   "cell_type": "code",
   "execution_count": 45,
   "metadata": {},
   "outputs": [
    {
     "data": {
      "text/html": [
       "<div>\n",
       "<style scoped>\n",
       "    .dataframe tbody tr th:only-of-type {\n",
       "        vertical-align: middle;\n",
       "    }\n",
       "\n",
       "    .dataframe tbody tr th {\n",
       "        vertical-align: top;\n",
       "    }\n",
       "\n",
       "    .dataframe thead th {\n",
       "        text-align: right;\n",
       "    }\n",
       "</style>\n",
       "<table border=\"1\" class=\"dataframe\">\n",
       "  <thead>\n",
       "    <tr style=\"text-align: right;\">\n",
       "      <th></th>\n",
       "      <th>ID</th>\n",
       "      <th>Location</th>\n",
       "      <th>Gender</th>\n",
       "      <th>age</th>\n",
       "      <th>Martial_Status</th>\n",
       "      <th>NumberOfDependents</th>\n",
       "      <th>Own_House</th>\n",
       "      <th>No_Years_address</th>\n",
       "    </tr>\n",
       "  </thead>\n",
       "  <tbody>\n",
       "    <tr>\n",
       "      <th>0</th>\n",
       "      <td>4532</td>\n",
       "      <td>Gandhinagar,Gujarat</td>\n",
       "      <td>0</td>\n",
       "      <td>39</td>\n",
       "      <td>Single</td>\n",
       "      <td>1.0</td>\n",
       "      <td>1</td>\n",
       "      <td>3</td>\n",
       "    </tr>\n",
       "    <tr>\n",
       "      <th>3</th>\n",
       "      <td>61759</td>\n",
       "      <td>Srinagar,JK</td>\n",
       "      <td>0</td>\n",
       "      <td>42</td>\n",
       "      <td>Single</td>\n",
       "      <td>1.0</td>\n",
       "      <td>1</td>\n",
       "      <td>1</td>\n",
       "    </tr>\n",
       "    <tr>\n",
       "      <th>4</th>\n",
       "      <td>49806</td>\n",
       "      <td>Imphal,Manipur</td>\n",
       "      <td>0</td>\n",
       "      <td>41</td>\n",
       "      <td>Single</td>\n",
       "      <td>1.0</td>\n",
       "      <td>0</td>\n",
       "      <td>3</td>\n",
       "    </tr>\n",
       "    <tr>\n",
       "      <th>5</th>\n",
       "      <td>139942</td>\n",
       "      <td>Srinagar,JK</td>\n",
       "      <td>0</td>\n",
       "      <td>59</td>\n",
       "      <td>Single</td>\n",
       "      <td>0.0</td>\n",
       "      <td>0</td>\n",
       "      <td>2</td>\n",
       "    </tr>\n",
       "  </tbody>\n",
       "</table>\n",
       "</div>"
      ],
      "text/plain": [
       "       ID             Location  Gender  age Martial_Status  \\\n",
       "0    4532  Gandhinagar,Gujarat       0   39         Single   \n",
       "3   61759          Srinagar,JK       0   42         Single   \n",
       "4   49806       Imphal,Manipur       0   41         Single   \n",
       "5  139942          Srinagar,JK       0   59         Single   \n",
       "\n",
       "   NumberOfDependents  Own_House  No_Years_address  \n",
       "0                 1.0          1                 3  \n",
       "3                 1.0          1                 1  \n",
       "4                 1.0          0                 3  \n",
       "5                 0.0          0                 2  "
      ]
     },
     "execution_count": 45,
     "metadata": {},
     "output_type": "execute_result"
    }
   ],
   "source": [
    "d=cust_demo[cust_demo.select_dtypes(include=['object','floating'])['Martial_Status']=='Single'].head(4)\n",
    "d"
   ]
  },
  {
   "cell_type": "code",
   "execution_count": 46,
   "metadata": {},
   "outputs": [],
   "source": [
    "np.matmul?"
   ]
  },
  {
   "cell_type": "code",
   "execution_count": 49,
   "metadata": {},
   "outputs": [
    {
     "data": {
      "text/plain": [
       "array([[ 80, 141],\n",
       "       [160, 117]])"
      ]
     },
     "execution_count": 49,
     "metadata": {},
     "output_type": "execute_result"
    }
   ],
   "source": [
    "np.matmul(s,t)"
   ]
  },
  {
   "cell_type": "code",
   "execution_count": 50,
   "metadata": {},
   "outputs": [
    {
     "data": {
      "text/plain": [
       "pandas.core.frame.DataFrame"
      ]
     },
     "execution_count": 50,
     "metadata": {},
     "output_type": "execute_result"
    }
   ],
   "source": [
    "type(cust_demo)"
   ]
  },
  {
   "cell_type": "code",
   "execution_count": 55,
   "metadata": {},
   "outputs": [
    {
     "data": {
      "text/html": [
       "<div>\n",
       "<style scoped>\n",
       "    .dataframe tbody tr th:only-of-type {\n",
       "        vertical-align: middle;\n",
       "    }\n",
       "\n",
       "    .dataframe tbody tr th {\n",
       "        vertical-align: top;\n",
       "    }\n",
       "\n",
       "    .dataframe thead th {\n",
       "        text-align: right;\n",
       "    }\n",
       "</style>\n",
       "<table border=\"1\" class=\"dataframe\">\n",
       "  <thead>\n",
       "    <tr style=\"text-align: right;\">\n",
       "      <th></th>\n",
       "      <th>ID</th>\n",
       "      <th>Location</th>\n",
       "      <th>Gender</th>\n",
       "      <th>age</th>\n",
       "      <th>Martial_Status</th>\n",
       "      <th>NumberOfDependents</th>\n",
       "      <th>Own_House</th>\n",
       "      <th>No_Years_address</th>\n",
       "    </tr>\n",
       "  </thead>\n",
       "  <tbody>\n",
       "    <tr>\n",
       "      <th>0</th>\n",
       "      <td>4532</td>\n",
       "      <td>Gandhinagar,Gujarat</td>\n",
       "      <td>0</td>\n",
       "      <td>39</td>\n",
       "      <td>Single</td>\n",
       "      <td>1.0</td>\n",
       "      <td>1</td>\n",
       "      <td>3</td>\n",
       "    </tr>\n",
       "    <tr>\n",
       "      <th>6</th>\n",
       "      <td>131136</td>\n",
       "      <td>Aizawl,Mizoram</td>\n",
       "      <td>0</td>\n",
       "      <td>37</td>\n",
       "      <td>Single</td>\n",
       "      <td>3.0</td>\n",
       "      <td>1</td>\n",
       "      <td>1</td>\n",
       "    </tr>\n",
       "    <tr>\n",
       "      <th>12</th>\n",
       "      <td>603</td>\n",
       "      <td>Raipur,Chhattisgarh</td>\n",
       "      <td>1</td>\n",
       "      <td>39</td>\n",
       "      <td>Single</td>\n",
       "      <td>1.0</td>\n",
       "      <td>0</td>\n",
       "      <td>3</td>\n",
       "    </tr>\n",
       "    <tr>\n",
       "      <th>16</th>\n",
       "      <td>146493</td>\n",
       "      <td>Ranchi,Jharkhand</td>\n",
       "      <td>1</td>\n",
       "      <td>36</td>\n",
       "      <td>Single</td>\n",
       "      <td>1.0</td>\n",
       "      <td>1</td>\n",
       "      <td>1</td>\n",
       "    </tr>\n",
       "  </tbody>\n",
       "</table>\n",
       "</div>"
      ],
      "text/plain": [
       "        ID             Location  Gender  age Martial_Status  \\\n",
       "0     4532  Gandhinagar,Gujarat       0   39         Single   \n",
       "6   131136       Aizawl,Mizoram       0   37         Single   \n",
       "12     603  Raipur,Chhattisgarh       1   39         Single   \n",
       "16  146493     Ranchi,Jharkhand       1   36         Single   \n",
       "\n",
       "    NumberOfDependents  Own_House  No_Years_address  \n",
       "0                  1.0          1                 3  \n",
       "6                  3.0          1                 1  \n",
       "12                 1.0          0                 3  \n",
       "16                 1.0          1                 1  "
      ]
     },
     "execution_count": 55,
     "metadata": {},
     "output_type": "execute_result"
    }
   ],
   "source": [
    " cust_demo[(cust_demo.age<40)&(cust_demo.Martial_Status=='Single')].head(4)"
   ]
  },
  {
   "cell_type": "code",
   "execution_count": 3,
   "metadata": {},
   "outputs": [],
   "source": [
    "cust_data['No_of_30plusDPD']=cust_data['No_of_30_59_DPD']+cust_data['No_of_60_89_DPD']+cust_data['No_of_90_DPD']"
   ]
  },
  {
   "cell_type": "code",
   "execution_count": 4,
   "metadata": {},
   "outputs": [
    {
     "data": {
      "text/html": [
       "<div>\n",
       "<style scoped>\n",
       "    .dataframe tbody tr th:only-of-type {\n",
       "        vertical-align: middle;\n",
       "    }\n",
       "\n",
       "    .dataframe tbody tr th {\n",
       "        vertical-align: top;\n",
       "    }\n",
       "\n",
       "    .dataframe thead th {\n",
       "        text-align: right;\n",
       "    }\n",
       "</style>\n",
       "<table border=\"1\" class=\"dataframe\">\n",
       "  <thead>\n",
       "    <tr style=\"text-align: right;\">\n",
       "      <th></th>\n",
       "      <th>ID</th>\n",
       "      <th>SeriousDlqin2yrs</th>\n",
       "      <th>RevolvingUtilization</th>\n",
       "      <th>No_of_30_59_DPD</th>\n",
       "      <th>DebtRatio</th>\n",
       "      <th>MonthlyIncome</th>\n",
       "      <th>No_Of_OpenCreditLines</th>\n",
       "      <th>No_of_90_DPD</th>\n",
       "      <th>No_of_RealEstateLoans</th>\n",
       "      <th>No_of_60_89_DPD</th>\n",
       "      <th>No_of_30plusDPD</th>\n",
       "    </tr>\n",
       "  </thead>\n",
       "  <tbody>\n",
       "    <tr>\n",
       "      <th>0</th>\n",
       "      <td>83236</td>\n",
       "      <td>0</td>\n",
       "      <td>0.311726</td>\n",
       "      <td>0</td>\n",
       "      <td>0.296409</td>\n",
       "      <td>11500.0</td>\n",
       "      <td>12</td>\n",
       "      <td>0</td>\n",
       "      <td>3</td>\n",
       "      <td>0</td>\n",
       "      <td>0</td>\n",
       "    </tr>\n",
       "    <tr>\n",
       "      <th>1</th>\n",
       "      <td>2503</td>\n",
       "      <td>0</td>\n",
       "      <td>0.124988</td>\n",
       "      <td>0</td>\n",
       "      <td>0.115903</td>\n",
       "      <td>14166.0</td>\n",
       "      <td>13</td>\n",
       "      <td>0</td>\n",
       "      <td>1</td>\n",
       "      <td>0</td>\n",
       "      <td>0</td>\n",
       "    </tr>\n",
       "    <tr>\n",
       "      <th>2</th>\n",
       "      <td>137013</td>\n",
       "      <td>0</td>\n",
       "      <td>0.060258</td>\n",
       "      <td>0</td>\n",
       "      <td>0.515147</td>\n",
       "      <td>6733.0</td>\n",
       "      <td>7</td>\n",
       "      <td>0</td>\n",
       "      <td>3</td>\n",
       "      <td>0</td>\n",
       "      <td>0</td>\n",
       "    </tr>\n",
       "  </tbody>\n",
       "</table>\n",
       "</div>"
      ],
      "text/plain": [
       "       ID  SeriousDlqin2yrs  RevolvingUtilization  No_of_30_59_DPD  DebtRatio  \\\n",
       "0   83236                 0              0.311726                0   0.296409   \n",
       "1    2503                 0              0.124988                0   0.115903   \n",
       "2  137013                 0              0.060258                0   0.515147   \n",
       "\n",
       "   MonthlyIncome  No_Of_OpenCreditLines  No_of_90_DPD  No_of_RealEstateLoans  \\\n",
       "0        11500.0                     12             0                      3   \n",
       "1        14166.0                     13             0                      1   \n",
       "2         6733.0                      7             0                      3   \n",
       "\n",
       "   No_of_60_89_DPD  No_of_30plusDPD  \n",
       "0                0                0  \n",
       "1                0                0  \n",
       "2                0                0  "
      ]
     },
     "execution_count": 4,
     "metadata": {},
     "output_type": "execute_result"
    }
   ],
   "source": [
    "cust_data.head(3)"
   ]
  },
  {
   "cell_type": "code",
   "execution_count": 20,
   "metadata": {},
   "outputs": [
    {
     "data": {
      "text/html": [
       "<div>\n",
       "<style scoped>\n",
       "    .dataframe tbody tr th:only-of-type {\n",
       "        vertical-align: middle;\n",
       "    }\n",
       "\n",
       "    .dataframe tbody tr th {\n",
       "        vertical-align: top;\n",
       "    }\n",
       "\n",
       "    .dataframe thead th {\n",
       "        text-align: right;\n",
       "    }\n",
       "</style>\n",
       "<table border=\"1\" class=\"dataframe\">\n",
       "  <thead>\n",
       "    <tr style=\"text-align: right;\">\n",
       "      <th></th>\n",
       "      <th>ID</th>\n",
       "      <th>SeriousDlqin2yrs</th>\n",
       "      <th>RevolvingUtilization</th>\n",
       "      <th>No_of_30_59_DPD</th>\n",
       "      <th>DebtRatio</th>\n",
       "      <th>MonthlyIncome</th>\n",
       "      <th>No_Of_OpenCreditLines</th>\n",
       "      <th>No_of_90_DPD</th>\n",
       "      <th>No_of_RealEstateLoans</th>\n",
       "      <th>No_of_60_89_DPD</th>\n",
       "    </tr>\n",
       "  </thead>\n",
       "  <tbody>\n",
       "    <tr>\n",
       "      <th>0</th>\n",
       "      <td>83236</td>\n",
       "      <td>0</td>\n",
       "      <td>0.311726</td>\n",
       "      <td>0</td>\n",
       "      <td>0.296409</td>\n",
       "      <td>11500.0</td>\n",
       "      <td>12</td>\n",
       "      <td>0</td>\n",
       "      <td>3</td>\n",
       "      <td>0</td>\n",
       "    </tr>\n",
       "    <tr>\n",
       "      <th>1</th>\n",
       "      <td>2503</td>\n",
       "      <td>0</td>\n",
       "      <td>0.124988</td>\n",
       "      <td>0</td>\n",
       "      <td>0.115903</td>\n",
       "      <td>14166.0</td>\n",
       "      <td>13</td>\n",
       "      <td>0</td>\n",
       "      <td>1</td>\n",
       "      <td>0</td>\n",
       "    </tr>\n",
       "    <tr>\n",
       "      <th>2</th>\n",
       "      <td>137013</td>\n",
       "      <td>0</td>\n",
       "      <td>0.060258</td>\n",
       "      <td>0</td>\n",
       "      <td>0.515147</td>\n",
       "      <td>6733.0</td>\n",
       "      <td>7</td>\n",
       "      <td>0</td>\n",
       "      <td>3</td>\n",
       "      <td>0</td>\n",
       "    </tr>\n",
       "    <tr>\n",
       "      <th>3</th>\n",
       "      <td>51306</td>\n",
       "      <td>0</td>\n",
       "      <td>0.064322</td>\n",
       "      <td>0</td>\n",
       "      <td>0.165127</td>\n",
       "      <td>13316.0</td>\n",
       "      <td>10</td>\n",
       "      <td>0</td>\n",
       "      <td>1</td>\n",
       "      <td>0</td>\n",
       "    </tr>\n",
       "  </tbody>\n",
       "</table>\n",
       "</div>"
      ],
      "text/plain": [
       "       ID  SeriousDlqin2yrs  RevolvingUtilization  No_of_30_59_DPD  DebtRatio  \\\n",
       "0   83236                 0              0.311726                0   0.296409   \n",
       "1    2503                 0              0.124988                0   0.115903   \n",
       "2  137013                 0              0.060258                0   0.515147   \n",
       "3   51306                 0              0.064322                0   0.165127   \n",
       "\n",
       "   MonthlyIncome  No_Of_OpenCreditLines  No_of_90_DPD  No_of_RealEstateLoans  \\\n",
       "0        11500.0                     12             0                      3   \n",
       "1        14166.0                     13             0                      1   \n",
       "2         6733.0                      7             0                      3   \n",
       "3        13316.0                     10             0                      1   \n",
       "\n",
       "   No_of_60_89_DPD  \n",
       "0                0  \n",
       "1                0  \n",
       "2                0  \n",
       "3                0  "
      ]
     },
     "execution_count": 20,
     "metadata": {},
     "output_type": "execute_result"
    }
   ],
   "source": [
    "cust_data.drop('#30plusDPD',inplace=False,axis=1).head(4)"
   ]
  },
  {
   "cell_type": "code",
   "execution_count": 6,
   "metadata": {},
   "outputs": [
    {
     "data": {
      "text/html": [
       "<div>\n",
       "<style scoped>\n",
       "    .dataframe tbody tr th:only-of-type {\n",
       "        vertical-align: middle;\n",
       "    }\n",
       "\n",
       "    .dataframe tbody tr th {\n",
       "        vertical-align: top;\n",
       "    }\n",
       "\n",
       "    .dataframe thead th {\n",
       "        text-align: right;\n",
       "    }\n",
       "</style>\n",
       "<table border=\"1\" class=\"dataframe\">\n",
       "  <thead>\n",
       "    <tr style=\"text-align: right;\">\n",
       "      <th></th>\n",
       "      <th>ID</th>\n",
       "      <th>SeriousDlqin2yrs</th>\n",
       "      <th>RevolvingUtilization</th>\n",
       "      <th>No_of_30_59_DPD</th>\n",
       "      <th>DebtRatio</th>\n",
       "      <th>MonthlyIncome</th>\n",
       "      <th>No_Of_OpenCreditLines</th>\n",
       "      <th>No_of_90_DPD</th>\n",
       "      <th>No_of_RealEstateLoans</th>\n",
       "      <th>No_of_60_89_DPD</th>\n",
       "      <th>#30plusDPD</th>\n",
       "      <th>MonthlySavings</th>\n",
       "    </tr>\n",
       "  </thead>\n",
       "  <tbody>\n",
       "    <tr>\n",
       "      <th>0</th>\n",
       "      <td>83236</td>\n",
       "      <td>0</td>\n",
       "      <td>0.311726</td>\n",
       "      <td>0</td>\n",
       "      <td>0.296409</td>\n",
       "      <td>11500.0</td>\n",
       "      <td>12</td>\n",
       "      <td>0</td>\n",
       "      <td>3</td>\n",
       "      <td>0</td>\n",
       "      <td>0</td>\n",
       "      <td>1725.00</td>\n",
       "    </tr>\n",
       "    <tr>\n",
       "      <th>1</th>\n",
       "      <td>2503</td>\n",
       "      <td>0</td>\n",
       "      <td>0.124988</td>\n",
       "      <td>0</td>\n",
       "      <td>0.115903</td>\n",
       "      <td>14166.0</td>\n",
       "      <td>13</td>\n",
       "      <td>0</td>\n",
       "      <td>1</td>\n",
       "      <td>0</td>\n",
       "      <td>0</td>\n",
       "      <td>2124.90</td>\n",
       "    </tr>\n",
       "    <tr>\n",
       "      <th>2</th>\n",
       "      <td>137013</td>\n",
       "      <td>0</td>\n",
       "      <td>0.060258</td>\n",
       "      <td>0</td>\n",
       "      <td>0.515147</td>\n",
       "      <td>6733.0</td>\n",
       "      <td>7</td>\n",
       "      <td>0</td>\n",
       "      <td>3</td>\n",
       "      <td>0</td>\n",
       "      <td>0</td>\n",
       "      <td>1009.95</td>\n",
       "    </tr>\n",
       "    <tr>\n",
       "      <th>3</th>\n",
       "      <td>51306</td>\n",
       "      <td>0</td>\n",
       "      <td>0.064322</td>\n",
       "      <td>0</td>\n",
       "      <td>0.165127</td>\n",
       "      <td>13316.0</td>\n",
       "      <td>10</td>\n",
       "      <td>0</td>\n",
       "      <td>1</td>\n",
       "      <td>0</td>\n",
       "      <td>0</td>\n",
       "      <td>1997.40</td>\n",
       "    </tr>\n",
       "  </tbody>\n",
       "</table>\n",
       "</div>"
      ],
      "text/plain": [
       "       ID  SeriousDlqin2yrs  RevolvingUtilization  No_of_30_59_DPD  DebtRatio  \\\n",
       "0   83236                 0              0.311726                0   0.296409   \n",
       "1    2503                 0              0.124988                0   0.115903   \n",
       "2  137013                 0              0.060258                0   0.515147   \n",
       "3   51306                 0              0.064322                0   0.165127   \n",
       "\n",
       "   MonthlyIncome  No_Of_OpenCreditLines  No_of_90_DPD  No_of_RealEstateLoans  \\\n",
       "0        11500.0                     12             0                      3   \n",
       "1        14166.0                     13             0                      1   \n",
       "2         6733.0                      7             0                      3   \n",
       "3        13316.0                     10             0                      1   \n",
       "\n",
       "   No_of_60_89_DPD  #30plusDPD  MonthlySavings  \n",
       "0                0           0         1725.00  \n",
       "1                0           0         2124.90  \n",
       "2                0           0         1009.95  \n",
       "3                0           0         1997.40  "
      ]
     },
     "execution_count": 6,
     "metadata": {},
     "output_type": "execute_result"
    }
   ],
   "source": [
    "cust_data.assign(MonthlySavings=cust_data.MonthlyIncome*0.15).head(4)"
   ]
  },
  {
   "cell_type": "code",
   "execution_count": 84,
   "metadata": {},
   "outputs": [
    {
     "data": {
      "text/html": [
       "<div>\n",
       "<style scoped>\n",
       "    .dataframe tbody tr th:only-of-type {\n",
       "        vertical-align: middle;\n",
       "    }\n",
       "\n",
       "    .dataframe tbody tr th {\n",
       "        vertical-align: top;\n",
       "    }\n",
       "\n",
       "    .dataframe thead th {\n",
       "        text-align: right;\n",
       "    }\n",
       "</style>\n",
       "<table border=\"1\" class=\"dataframe\">\n",
       "  <thead>\n",
       "    <tr style=\"text-align: right;\">\n",
       "      <th></th>\n",
       "      <th>ID</th>\n",
       "      <th>SeriousDlqin2yrs</th>\n",
       "      <th>RevolvingUtilization</th>\n",
       "      <th>No_of_30_59_DPD</th>\n",
       "      <th>DebtRatio</th>\n",
       "      <th>MonthlyIncome</th>\n",
       "      <th>No_Of_OpenCreditLines</th>\n",
       "      <th>No_of_90_DPD</th>\n",
       "      <th>No_of_RealEstateLoans</th>\n",
       "      <th>No_of_60_89_DPD</th>\n",
       "      <th>#30plusDPD</th>\n",
       "    </tr>\n",
       "  </thead>\n",
       "  <tbody>\n",
       "    <tr>\n",
       "      <th>0</th>\n",
       "      <td>83236</td>\n",
       "      <td>0</td>\n",
       "      <td>0.311726</td>\n",
       "      <td>0</td>\n",
       "      <td>0.296409</td>\n",
       "      <td>11500.0</td>\n",
       "      <td>12</td>\n",
       "      <td>0</td>\n",
       "      <td>3</td>\n",
       "      <td>0</td>\n",
       "      <td>0</td>\n",
       "    </tr>\n",
       "    <tr>\n",
       "      <th>1</th>\n",
       "      <td>2503</td>\n",
       "      <td>0</td>\n",
       "      <td>0.124988</td>\n",
       "      <td>0</td>\n",
       "      <td>0.115903</td>\n",
       "      <td>14166.0</td>\n",
       "      <td>13</td>\n",
       "      <td>0</td>\n",
       "      <td>1</td>\n",
       "      <td>0</td>\n",
       "      <td>0</td>\n",
       "    </tr>\n",
       "    <tr>\n",
       "      <th>2</th>\n",
       "      <td>137013</td>\n",
       "      <td>0</td>\n",
       "      <td>0.060258</td>\n",
       "      <td>0</td>\n",
       "      <td>0.515147</td>\n",
       "      <td>6733.0</td>\n",
       "      <td>7</td>\n",
       "      <td>0</td>\n",
       "      <td>3</td>\n",
       "      <td>0</td>\n",
       "      <td>0</td>\n",
       "    </tr>\n",
       "  </tbody>\n",
       "</table>\n",
       "</div>"
      ],
      "text/plain": [
       "       ID  SeriousDlqin2yrs  RevolvingUtilization  No_of_30_59_DPD  DebtRatio  \\\n",
       "0   83236                 0              0.311726                0   0.296409   \n",
       "1    2503                 0              0.124988                0   0.115903   \n",
       "2  137013                 0              0.060258                0   0.515147   \n",
       "\n",
       "   MonthlyIncome  No_Of_OpenCreditLines  No_of_90_DPD  No_of_RealEstateLoans  \\\n",
       "0        11500.0                     12             0                      3   \n",
       "1        14166.0                     13             0                      1   \n",
       "2         6733.0                      7             0                      3   \n",
       "\n",
       "   No_of_60_89_DPD  #30plusDPD  \n",
       "0                0           0  \n",
       "1                0           0  \n",
       "2                0           0  "
      ]
     },
     "execution_count": 84,
     "metadata": {},
     "output_type": "execute_result"
    }
   ],
   "source": [
    "cust_data.head(3)"
   ]
  },
  {
   "cell_type": "code",
   "execution_count": 13,
   "metadata": {
    "scrolled": true
   },
   "outputs": [
    {
     "data": {
      "text/html": [
       "<div>\n",
       "<style scoped>\n",
       "    .dataframe tbody tr th:only-of-type {\n",
       "        vertical-align: middle;\n",
       "    }\n",
       "\n",
       "    .dataframe tbody tr th {\n",
       "        vertical-align: top;\n",
       "    }\n",
       "\n",
       "    .dataframe thead th {\n",
       "        text-align: right;\n",
       "    }\n",
       "</style>\n",
       "<table border=\"1\" class=\"dataframe\">\n",
       "  <thead>\n",
       "    <tr style=\"text-align: right;\">\n",
       "      <th></th>\n",
       "      <th>ID</th>\n",
       "      <th>SeriousDlqin2yrs</th>\n",
       "      <th>RevolvingUtilization</th>\n",
       "      <th>No_of_30_59_DPD</th>\n",
       "      <th>DebtRatio</th>\n",
       "      <th>MonthlyIncome</th>\n",
       "      <th>No_Of_OpenCreditLines</th>\n",
       "      <th>No_of_90_DPD</th>\n",
       "      <th>No_of_RealEstateLoans</th>\n",
       "      <th>No_of_60_89_DPD</th>\n",
       "    </tr>\n",
       "  </thead>\n",
       "  <tbody>\n",
       "    <tr>\n",
       "      <th>0</th>\n",
       "      <td>83236</td>\n",
       "      <td>0</td>\n",
       "      <td>0.311726</td>\n",
       "      <td>0</td>\n",
       "      <td>0.296409</td>\n",
       "      <td>11500.0</td>\n",
       "      <td>12</td>\n",
       "      <td>0</td>\n",
       "      <td>3</td>\n",
       "      <td>0</td>\n",
       "    </tr>\n",
       "    <tr>\n",
       "      <th>1</th>\n",
       "      <td>2503</td>\n",
       "      <td>0</td>\n",
       "      <td>0.124988</td>\n",
       "      <td>0</td>\n",
       "      <td>0.115903</td>\n",
       "      <td>14166.0</td>\n",
       "      <td>13</td>\n",
       "      <td>0</td>\n",
       "      <td>1</td>\n",
       "      <td>0</td>\n",
       "    </tr>\n",
       "    <tr>\n",
       "      <th>2</th>\n",
       "      <td>137013</td>\n",
       "      <td>0</td>\n",
       "      <td>0.060258</td>\n",
       "      <td>0</td>\n",
       "      <td>0.515147</td>\n",
       "      <td>6733.0</td>\n",
       "      <td>7</td>\n",
       "      <td>0</td>\n",
       "      <td>3</td>\n",
       "      <td>0</td>\n",
       "    </tr>\n",
       "    <tr>\n",
       "      <th>3</th>\n",
       "      <td>51306</td>\n",
       "      <td>0</td>\n",
       "      <td>0.064322</td>\n",
       "      <td>0</td>\n",
       "      <td>0.165127</td>\n",
       "      <td>13316.0</td>\n",
       "      <td>10</td>\n",
       "      <td>0</td>\n",
       "      <td>1</td>\n",
       "      <td>0</td>\n",
       "    </tr>\n",
       "    <tr>\n",
       "      <th>4</th>\n",
       "      <td>71937</td>\n",
       "      <td>0</td>\n",
       "      <td>0.211186</td>\n",
       "      <td>0</td>\n",
       "      <td>0.022283</td>\n",
       "      <td>2557.0</td>\n",
       "      <td>3</td>\n",
       "      <td>0</td>\n",
       "      <td>0</td>\n",
       "      <td>0</td>\n",
       "    </tr>\n",
       "    <tr>\n",
       "      <th>5</th>\n",
       "      <td>89149</td>\n",
       "      <td>0</td>\n",
       "      <td>0.056599</td>\n",
       "      <td>0</td>\n",
       "      <td>1482.000000</td>\n",
       "      <td>NaN</td>\n",
       "      <td>5</td>\n",
       "      <td>0</td>\n",
       "      <td>1</td>\n",
       "      <td>0</td>\n",
       "    </tr>\n",
       "    <tr>\n",
       "      <th>6</th>\n",
       "      <td>140279</td>\n",
       "      <td>0</td>\n",
       "      <td>0.137483</td>\n",
       "      <td>0</td>\n",
       "      <td>0.019196</td>\n",
       "      <td>5000.0</td>\n",
       "      <td>5</td>\n",
       "      <td>0</td>\n",
       "      <td>0</td>\n",
       "      <td>0</td>\n",
       "    </tr>\n",
       "    <tr>\n",
       "      <th>7</th>\n",
       "      <td>123541</td>\n",
       "      <td>0</td>\n",
       "      <td>0.285436</td>\n",
       "      <td>0</td>\n",
       "      <td>0.346093</td>\n",
       "      <td>7000.0</td>\n",
       "      <td>13</td>\n",
       "      <td>0</td>\n",
       "      <td>1</td>\n",
       "      <td>0</td>\n",
       "    </tr>\n",
       "    <tr>\n",
       "      <th>8</th>\n",
       "      <td>47756</td>\n",
       "      <td>0</td>\n",
       "      <td>0.086546</td>\n",
       "      <td>0</td>\n",
       "      <td>0.316799</td>\n",
       "      <td>11833.0</td>\n",
       "      <td>3</td>\n",
       "      <td>0</td>\n",
       "      <td>1</td>\n",
       "      <td>0</td>\n",
       "    </tr>\n",
       "    <tr>\n",
       "      <th>9</th>\n",
       "      <td>112237</td>\n",
       "      <td>0</td>\n",
       "      <td>0.031186</td>\n",
       "      <td>0</td>\n",
       "      <td>84.000000</td>\n",
       "      <td>NaN</td>\n",
       "      <td>10</td>\n",
       "      <td>0</td>\n",
       "      <td>0</td>\n",
       "      <td>0</td>\n",
       "    </tr>\n",
       "    <tr>\n",
       "      <th>10</th>\n",
       "      <td>131169</td>\n",
       "      <td>0</td>\n",
       "      <td>0.458751</td>\n",
       "      <td>0</td>\n",
       "      <td>0.193940</td>\n",
       "      <td>20000.0</td>\n",
       "      <td>8</td>\n",
       "      <td>0</td>\n",
       "      <td>1</td>\n",
       "      <td>0</td>\n",
       "    </tr>\n",
       "    <tr>\n",
       "      <th>11</th>\n",
       "      <td>144324</td>\n",
       "      <td>0</td>\n",
       "      <td>0.000000</td>\n",
       "      <td>0</td>\n",
       "      <td>0.321899</td>\n",
       "      <td>6150.0</td>\n",
       "      <td>6</td>\n",
       "      <td>0</td>\n",
       "      <td>2</td>\n",
       "      <td>0</td>\n",
       "    </tr>\n",
       "    <tr>\n",
       "      <th>12</th>\n",
       "      <td>99371</td>\n",
       "      <td>0</td>\n",
       "      <td>0.026069</td>\n",
       "      <td>0</td>\n",
       "      <td>0.666344</td>\n",
       "      <td>6200.0</td>\n",
       "      <td>10</td>\n",
       "      <td>0</td>\n",
       "      <td>2</td>\n",
       "      <td>0</td>\n",
       "    </tr>\n",
       "    <tr>\n",
       "      <th>13</th>\n",
       "      <td>59161</td>\n",
       "      <td>0</td>\n",
       "      <td>0.016346</td>\n",
       "      <td>0</td>\n",
       "      <td>0.318716</td>\n",
       "      <td>5700.0</td>\n",
       "      <td>9</td>\n",
       "      <td>0</td>\n",
       "      <td>1</td>\n",
       "      <td>0</td>\n",
       "    </tr>\n",
       "    <tr>\n",
       "      <th>14</th>\n",
       "      <td>112957</td>\n",
       "      <td>0</td>\n",
       "      <td>0.110651</td>\n",
       "      <td>0</td>\n",
       "      <td>104.000000</td>\n",
       "      <td>NaN</td>\n",
       "      <td>6</td>\n",
       "      <td>0</td>\n",
       "      <td>0</td>\n",
       "      <td>0</td>\n",
       "    </tr>\n",
       "    <tr>\n",
       "      <th>15</th>\n",
       "      <td>98354</td>\n",
       "      <td>0</td>\n",
       "      <td>0.373275</td>\n",
       "      <td>0</td>\n",
       "      <td>0.265298</td>\n",
       "      <td>7500.0</td>\n",
       "      <td>9</td>\n",
       "      <td>0</td>\n",
       "      <td>0</td>\n",
       "      <td>0</td>\n",
       "    </tr>\n",
       "    <tr>\n",
       "      <th>16</th>\n",
       "      <td>130663</td>\n",
       "      <td>0</td>\n",
       "      <td>0.555885</td>\n",
       "      <td>0</td>\n",
       "      <td>0.429633</td>\n",
       "      <td>3900.0</td>\n",
       "      <td>14</td>\n",
       "      <td>0</td>\n",
       "      <td>1</td>\n",
       "      <td>0</td>\n",
       "    </tr>\n",
       "    <tr>\n",
       "      <th>17</th>\n",
       "      <td>51766</td>\n",
       "      <td>0</td>\n",
       "      <td>0.704587</td>\n",
       "      <td>2</td>\n",
       "      <td>0.340236</td>\n",
       "      <td>7726.0</td>\n",
       "      <td>10</td>\n",
       "      <td>0</td>\n",
       "      <td>1</td>\n",
       "      <td>0</td>\n",
       "    </tr>\n",
       "    <tr>\n",
       "      <th>18</th>\n",
       "      <td>9220</td>\n",
       "      <td>0</td>\n",
       "      <td>0.095339</td>\n",
       "      <td>0</td>\n",
       "      <td>2504.000000</td>\n",
       "      <td>NaN</td>\n",
       "      <td>11</td>\n",
       "      <td>0</td>\n",
       "      <td>1</td>\n",
       "      <td>0</td>\n",
       "    </tr>\n",
       "    <tr>\n",
       "      <th>19</th>\n",
       "      <td>95035</td>\n",
       "      <td>0</td>\n",
       "      <td>0.180795</td>\n",
       "      <td>0</td>\n",
       "      <td>0.620613</td>\n",
       "      <td>10400.0</td>\n",
       "      <td>17</td>\n",
       "      <td>0</td>\n",
       "      <td>2</td>\n",
       "      <td>0</td>\n",
       "    </tr>\n",
       "    <tr>\n",
       "      <th>20</th>\n",
       "      <td>9176</td>\n",
       "      <td>0</td>\n",
       "      <td>0.095019</td>\n",
       "      <td>0</td>\n",
       "      <td>0.228749</td>\n",
       "      <td>26574.0</td>\n",
       "      <td>11</td>\n",
       "      <td>0</td>\n",
       "      <td>2</td>\n",
       "      <td>0</td>\n",
       "    </tr>\n",
       "    <tr>\n",
       "      <th>21</th>\n",
       "      <td>24776</td>\n",
       "      <td>0</td>\n",
       "      <td>1.000000</td>\n",
       "      <td>0</td>\n",
       "      <td>0.343131</td>\n",
       "      <td>1666.0</td>\n",
       "      <td>1</td>\n",
       "      <td>0</td>\n",
       "      <td>0</td>\n",
       "      <td>0</td>\n",
       "    </tr>\n",
       "    <tr>\n",
       "      <th>22</th>\n",
       "      <td>79941</td>\n",
       "      <td>0</td>\n",
       "      <td>0.035471</td>\n",
       "      <td>0</td>\n",
       "      <td>2113.000000</td>\n",
       "      <td>NaN</td>\n",
       "      <td>6</td>\n",
       "      <td>0</td>\n",
       "      <td>1</td>\n",
       "      <td>0</td>\n",
       "    </tr>\n",
       "    <tr>\n",
       "      <th>23</th>\n",
       "      <td>61372</td>\n",
       "      <td>0</td>\n",
       "      <td>0.083657</td>\n",
       "      <td>0</td>\n",
       "      <td>0.322436</td>\n",
       "      <td>7126.0</td>\n",
       "      <td>6</td>\n",
       "      <td>0</td>\n",
       "      <td>1</td>\n",
       "      <td>0</td>\n",
       "    </tr>\n",
       "    <tr>\n",
       "      <th>24</th>\n",
       "      <td>65420</td>\n",
       "      <td>0</td>\n",
       "      <td>0.878511</td>\n",
       "      <td>0</td>\n",
       "      <td>0.186163</td>\n",
       "      <td>5000.0</td>\n",
       "      <td>8</td>\n",
       "      <td>0</td>\n",
       "      <td>0</td>\n",
       "      <td>0</td>\n",
       "    </tr>\n",
       "    <tr>\n",
       "      <th>25</th>\n",
       "      <td>121381</td>\n",
       "      <td>0</td>\n",
       "      <td>0.015624</td>\n",
       "      <td>0</td>\n",
       "      <td>0.951605</td>\n",
       "      <td>10000.0</td>\n",
       "      <td>6</td>\n",
       "      <td>0</td>\n",
       "      <td>2</td>\n",
       "      <td>0</td>\n",
       "    </tr>\n",
       "    <tr>\n",
       "      <th>26</th>\n",
       "      <td>141661</td>\n",
       "      <td>0</td>\n",
       "      <td>0.027724</td>\n",
       "      <td>0</td>\n",
       "      <td>463.000000</td>\n",
       "      <td>NaN</td>\n",
       "      <td>6</td>\n",
       "      <td>0</td>\n",
       "      <td>0</td>\n",
       "      <td>0</td>\n",
       "    </tr>\n",
       "    <tr>\n",
       "      <th>27</th>\n",
       "      <td>96743</td>\n",
       "      <td>0</td>\n",
       "      <td>0.233248</td>\n",
       "      <td>0</td>\n",
       "      <td>0.306648</td>\n",
       "      <td>5083.0</td>\n",
       "      <td>21</td>\n",
       "      <td>0</td>\n",
       "      <td>2</td>\n",
       "      <td>0</td>\n",
       "    </tr>\n",
       "    <tr>\n",
       "      <th>28</th>\n",
       "      <td>42706</td>\n",
       "      <td>0</td>\n",
       "      <td>0.051414</td>\n",
       "      <td>0</td>\n",
       "      <td>2817.000000</td>\n",
       "      <td>NaN</td>\n",
       "      <td>7</td>\n",
       "      <td>0</td>\n",
       "      <td>1</td>\n",
       "      <td>0</td>\n",
       "    </tr>\n",
       "    <tr>\n",
       "      <th>29</th>\n",
       "      <td>33180</td>\n",
       "      <td>0</td>\n",
       "      <td>0.801806</td>\n",
       "      <td>0</td>\n",
       "      <td>0.694131</td>\n",
       "      <td>7002.0</td>\n",
       "      <td>15</td>\n",
       "      <td>0</td>\n",
       "      <td>1</td>\n",
       "      <td>0</td>\n",
       "    </tr>\n",
       "    <tr>\n",
       "      <th>...</th>\n",
       "      <td>...</td>\n",
       "      <td>...</td>\n",
       "      <td>...</td>\n",
       "      <td>...</td>\n",
       "      <td>...</td>\n",
       "      <td>...</td>\n",
       "      <td>...</td>\n",
       "      <td>...</td>\n",
       "      <td>...</td>\n",
       "      <td>...</td>\n",
       "    </tr>\n",
       "    <tr>\n",
       "      <th>149872</th>\n",
       "      <td>93458</td>\n",
       "      <td>0</td>\n",
       "      <td>0.357440</td>\n",
       "      <td>0</td>\n",
       "      <td>0.422429</td>\n",
       "      <td>1720.0</td>\n",
       "      <td>4</td>\n",
       "      <td>0</td>\n",
       "      <td>1</td>\n",
       "      <td>0</td>\n",
       "    </tr>\n",
       "    <tr>\n",
       "      <th>149873</th>\n",
       "      <td>86351</td>\n",
       "      <td>0</td>\n",
       "      <td>0.137310</td>\n",
       "      <td>0</td>\n",
       "      <td>2037.000000</td>\n",
       "      <td>NaN</td>\n",
       "      <td>6</td>\n",
       "      <td>0</td>\n",
       "      <td>1</td>\n",
       "      <td>0</td>\n",
       "    </tr>\n",
       "    <tr>\n",
       "      <th>149874</th>\n",
       "      <td>120514</td>\n",
       "      <td>0</td>\n",
       "      <td>0.531432</td>\n",
       "      <td>1</td>\n",
       "      <td>0.035707</td>\n",
       "      <td>4816.0</td>\n",
       "      <td>6</td>\n",
       "      <td>1</td>\n",
       "      <td>0</td>\n",
       "      <td>1</td>\n",
       "    </tr>\n",
       "    <tr>\n",
       "      <th>149875</th>\n",
       "      <td>118623</td>\n",
       "      <td>0</td>\n",
       "      <td>0.000000</td>\n",
       "      <td>1</td>\n",
       "      <td>0.925075</td>\n",
       "      <td>1000.0</td>\n",
       "      <td>3</td>\n",
       "      <td>0</td>\n",
       "      <td>1</td>\n",
       "      <td>0</td>\n",
       "    </tr>\n",
       "    <tr>\n",
       "      <th>149876</th>\n",
       "      <td>42735</td>\n",
       "      <td>0</td>\n",
       "      <td>0.000000</td>\n",
       "      <td>0</td>\n",
       "      <td>872.000000</td>\n",
       "      <td>NaN</td>\n",
       "      <td>10</td>\n",
       "      <td>0</td>\n",
       "      <td>0</td>\n",
       "      <td>0</td>\n",
       "    </tr>\n",
       "    <tr>\n",
       "      <th>149877</th>\n",
       "      <td>95078</td>\n",
       "      <td>0</td>\n",
       "      <td>0.029067</td>\n",
       "      <td>0</td>\n",
       "      <td>29.000000</td>\n",
       "      <td>NaN</td>\n",
       "      <td>6</td>\n",
       "      <td>0</td>\n",
       "      <td>0</td>\n",
       "      <td>0</td>\n",
       "    </tr>\n",
       "    <tr>\n",
       "      <th>149878</th>\n",
       "      <td>149587</td>\n",
       "      <td>0</td>\n",
       "      <td>0.053165</td>\n",
       "      <td>0</td>\n",
       "      <td>0.014398</td>\n",
       "      <td>4583.0</td>\n",
       "      <td>6</td>\n",
       "      <td>0</td>\n",
       "      <td>0</td>\n",
       "      <td>0</td>\n",
       "    </tr>\n",
       "    <tr>\n",
       "      <th>149879</th>\n",
       "      <td>33631</td>\n",
       "      <td>0</td>\n",
       "      <td>0.033751</td>\n",
       "      <td>0</td>\n",
       "      <td>0.441991</td>\n",
       "      <td>4800.0</td>\n",
       "      <td>21</td>\n",
       "      <td>0</td>\n",
       "      <td>1</td>\n",
       "      <td>0</td>\n",
       "    </tr>\n",
       "    <tr>\n",
       "      <th>149880</th>\n",
       "      <td>148621</td>\n",
       "      <td>0</td>\n",
       "      <td>0.090295</td>\n",
       "      <td>0</td>\n",
       "      <td>1766.000000</td>\n",
       "      <td>NaN</td>\n",
       "      <td>5</td>\n",
       "      <td>0</td>\n",
       "      <td>1</td>\n",
       "      <td>0</td>\n",
       "    </tr>\n",
       "    <tr>\n",
       "      <th>149881</th>\n",
       "      <td>101721</td>\n",
       "      <td>0</td>\n",
       "      <td>0.015640</td>\n",
       "      <td>0</td>\n",
       "      <td>0.330250</td>\n",
       "      <td>21083.0</td>\n",
       "      <td>14</td>\n",
       "      <td>0</td>\n",
       "      <td>2</td>\n",
       "      <td>0</td>\n",
       "    </tr>\n",
       "    <tr>\n",
       "      <th>149882</th>\n",
       "      <td>34096</td>\n",
       "      <td>0</td>\n",
       "      <td>0.033188</td>\n",
       "      <td>0</td>\n",
       "      <td>901.000000</td>\n",
       "      <td>NaN</td>\n",
       "      <td>3</td>\n",
       "      <td>0</td>\n",
       "      <td>1</td>\n",
       "      <td>0</td>\n",
       "    </tr>\n",
       "    <tr>\n",
       "      <th>149883</th>\n",
       "      <td>16469</td>\n",
       "      <td>0</td>\n",
       "      <td>0.237958</td>\n",
       "      <td>1</td>\n",
       "      <td>1264.000000</td>\n",
       "      <td>NaN</td>\n",
       "      <td>10</td>\n",
       "      <td>0</td>\n",
       "      <td>1</td>\n",
       "      <td>0</td>\n",
       "    </tr>\n",
       "    <tr>\n",
       "      <th>149884</th>\n",
       "      <td>14811</td>\n",
       "      <td>0</td>\n",
       "      <td>0.244482</td>\n",
       "      <td>0</td>\n",
       "      <td>0.299625</td>\n",
       "      <td>5606.0</td>\n",
       "      <td>12</td>\n",
       "      <td>0</td>\n",
       "      <td>2</td>\n",
       "      <td>0</td>\n",
       "    </tr>\n",
       "    <tr>\n",
       "      <th>149885</th>\n",
       "      <td>70355</td>\n",
       "      <td>0</td>\n",
       "      <td>0.108372</td>\n",
       "      <td>0</td>\n",
       "      <td>0.871026</td>\n",
       "      <td>3333.0</td>\n",
       "      <td>15</td>\n",
       "      <td>0</td>\n",
       "      <td>1</td>\n",
       "      <td>0</td>\n",
       "    </tr>\n",
       "    <tr>\n",
       "      <th>149886</th>\n",
       "      <td>129338</td>\n",
       "      <td>0</td>\n",
       "      <td>0.182157</td>\n",
       "      <td>0</td>\n",
       "      <td>0.221202</td>\n",
       "      <td>9583.0</td>\n",
       "      <td>5</td>\n",
       "      <td>0</td>\n",
       "      <td>1</td>\n",
       "      <td>0</td>\n",
       "    </tr>\n",
       "    <tr>\n",
       "      <th>149887</th>\n",
       "      <td>135236</td>\n",
       "      <td>0</td>\n",
       "      <td>0.100842</td>\n",
       "      <td>0</td>\n",
       "      <td>0.364622</td>\n",
       "      <td>2950.0</td>\n",
       "      <td>11</td>\n",
       "      <td>0</td>\n",
       "      <td>1</td>\n",
       "      <td>0</td>\n",
       "    </tr>\n",
       "    <tr>\n",
       "      <th>149888</th>\n",
       "      <td>4860</td>\n",
       "      <td>1</td>\n",
       "      <td>0.565975</td>\n",
       "      <td>0</td>\n",
       "      <td>0.682341</td>\n",
       "      <td>8165.0</td>\n",
       "      <td>10</td>\n",
       "      <td>1</td>\n",
       "      <td>3</td>\n",
       "      <td>0</td>\n",
       "    </tr>\n",
       "    <tr>\n",
       "      <th>149889</th>\n",
       "      <td>75627</td>\n",
       "      <td>0</td>\n",
       "      <td>0.269197</td>\n",
       "      <td>0</td>\n",
       "      <td>0.517733</td>\n",
       "      <td>5328.0</td>\n",
       "      <td>13</td>\n",
       "      <td>0</td>\n",
       "      <td>2</td>\n",
       "      <td>0</td>\n",
       "    </tr>\n",
       "    <tr>\n",
       "      <th>149890</th>\n",
       "      <td>82896</td>\n",
       "      <td>0</td>\n",
       "      <td>0.033720</td>\n",
       "      <td>0</td>\n",
       "      <td>0.139298</td>\n",
       "      <td>2648.0</td>\n",
       "      <td>6</td>\n",
       "      <td>0</td>\n",
       "      <td>0</td>\n",
       "      <td>0</td>\n",
       "    </tr>\n",
       "    <tr>\n",
       "      <th>149891</th>\n",
       "      <td>57985</td>\n",
       "      <td>0</td>\n",
       "      <td>0.007484</td>\n",
       "      <td>0</td>\n",
       "      <td>0.325743</td>\n",
       "      <td>3600.0</td>\n",
       "      <td>9</td>\n",
       "      <td>0</td>\n",
       "      <td>1</td>\n",
       "      <td>0</td>\n",
       "    </tr>\n",
       "    <tr>\n",
       "      <th>149892</th>\n",
       "      <td>71848</td>\n",
       "      <td>0</td>\n",
       "      <td>0.737660</td>\n",
       "      <td>0</td>\n",
       "      <td>0.552804</td>\n",
       "      <td>10500.0</td>\n",
       "      <td>9</td>\n",
       "      <td>0</td>\n",
       "      <td>1</td>\n",
       "      <td>0</td>\n",
       "    </tr>\n",
       "    <tr>\n",
       "      <th>149893</th>\n",
       "      <td>27711</td>\n",
       "      <td>0</td>\n",
       "      <td>0.159051</td>\n",
       "      <td>0</td>\n",
       "      <td>899.000000</td>\n",
       "      <td>0.0</td>\n",
       "      <td>6</td>\n",
       "      <td>0</td>\n",
       "      <td>1</td>\n",
       "      <td>0</td>\n",
       "    </tr>\n",
       "    <tr>\n",
       "      <th>149894</th>\n",
       "      <td>11855</td>\n",
       "      <td>0</td>\n",
       "      <td>0.000000</td>\n",
       "      <td>0</td>\n",
       "      <td>0.000000</td>\n",
       "      <td>NaN</td>\n",
       "      <td>2</td>\n",
       "      <td>0</td>\n",
       "      <td>0</td>\n",
       "      <td>0</td>\n",
       "    </tr>\n",
       "    <tr>\n",
       "      <th>149895</th>\n",
       "      <td>101446</td>\n",
       "      <td>0</td>\n",
       "      <td>0.113302</td>\n",
       "      <td>0</td>\n",
       "      <td>0.106318</td>\n",
       "      <td>16666.0</td>\n",
       "      <td>6</td>\n",
       "      <td>0</td>\n",
       "      <td>1</td>\n",
       "      <td>0</td>\n",
       "    </tr>\n",
       "    <tr>\n",
       "      <th>149896</th>\n",
       "      <td>132378</td>\n",
       "      <td>0</td>\n",
       "      <td>0.201519</td>\n",
       "      <td>0</td>\n",
       "      <td>0.008121</td>\n",
       "      <td>3693.0</td>\n",
       "      <td>2</td>\n",
       "      <td>0</td>\n",
       "      <td>0</td>\n",
       "      <td>0</td>\n",
       "    </tr>\n",
       "    <tr>\n",
       "      <th>149897</th>\n",
       "      <td>148580</td>\n",
       "      <td>1</td>\n",
       "      <td>1.000000</td>\n",
       "      <td>1</td>\n",
       "      <td>0.021124</td>\n",
       "      <td>2650.0</td>\n",
       "      <td>0</td>\n",
       "      <td>0</td>\n",
       "      <td>0</td>\n",
       "      <td>1</td>\n",
       "    </tr>\n",
       "    <tr>\n",
       "      <th>149898</th>\n",
       "      <td>93517</td>\n",
       "      <td>0</td>\n",
       "      <td>0.163864</td>\n",
       "      <td>0</td>\n",
       "      <td>1.276108</td>\n",
       "      <td>1962.0</td>\n",
       "      <td>9</td>\n",
       "      <td>0</td>\n",
       "      <td>1</td>\n",
       "      <td>0</td>\n",
       "    </tr>\n",
       "    <tr>\n",
       "      <th>149899</th>\n",
       "      <td>15481</td>\n",
       "      <td>0</td>\n",
       "      <td>0.031732</td>\n",
       "      <td>0</td>\n",
       "      <td>0.260058</td>\n",
       "      <td>10016.0</td>\n",
       "      <td>12</td>\n",
       "      <td>0</td>\n",
       "      <td>1</td>\n",
       "      <td>0</td>\n",
       "    </tr>\n",
       "    <tr>\n",
       "      <th>149900</th>\n",
       "      <td>50464</td>\n",
       "      <td>0</td>\n",
       "      <td>0.078050</td>\n",
       "      <td>0</td>\n",
       "      <td>0.569960</td>\n",
       "      <td>1750.0</td>\n",
       "      <td>10</td>\n",
       "      <td>0</td>\n",
       "      <td>2</td>\n",
       "      <td>0</td>\n",
       "    </tr>\n",
       "    <tr>\n",
       "      <th>149901</th>\n",
       "      <td>75766</td>\n",
       "      <td>0</td>\n",
       "      <td>0.075823</td>\n",
       "      <td>0</td>\n",
       "      <td>0.182163</td>\n",
       "      <td>12400.0</td>\n",
       "      <td>3</td>\n",
       "      <td>0</td>\n",
       "      <td>1</td>\n",
       "      <td>0</td>\n",
       "    </tr>\n",
       "  </tbody>\n",
       "</table>\n",
       "<p>149902 rows × 10 columns</p>\n",
       "</div>"
      ],
      "text/plain": [
       "            ID  SeriousDlqin2yrs  RevolvingUtilization  No_of_30_59_DPD  \\\n",
       "0        83236                 0              0.311726                0   \n",
       "1         2503                 0              0.124988                0   \n",
       "2       137013                 0              0.060258                0   \n",
       "3        51306                 0              0.064322                0   \n",
       "4        71937                 0              0.211186                0   \n",
       "5        89149                 0              0.056599                0   \n",
       "6       140279                 0              0.137483                0   \n",
       "7       123541                 0              0.285436                0   \n",
       "8        47756                 0              0.086546                0   \n",
       "9       112237                 0              0.031186                0   \n",
       "10      131169                 0              0.458751                0   \n",
       "11      144324                 0              0.000000                0   \n",
       "12       99371                 0              0.026069                0   \n",
       "13       59161                 0              0.016346                0   \n",
       "14      112957                 0              0.110651                0   \n",
       "15       98354                 0              0.373275                0   \n",
       "16      130663                 0              0.555885                0   \n",
       "17       51766                 0              0.704587                2   \n",
       "18        9220                 0              0.095339                0   \n",
       "19       95035                 0              0.180795                0   \n",
       "20        9176                 0              0.095019                0   \n",
       "21       24776                 0              1.000000                0   \n",
       "22       79941                 0              0.035471                0   \n",
       "23       61372                 0              0.083657                0   \n",
       "24       65420                 0              0.878511                0   \n",
       "25      121381                 0              0.015624                0   \n",
       "26      141661                 0              0.027724                0   \n",
       "27       96743                 0              0.233248                0   \n",
       "28       42706                 0              0.051414                0   \n",
       "29       33180                 0              0.801806                0   \n",
       "...        ...               ...                   ...              ...   \n",
       "149872   93458                 0              0.357440                0   \n",
       "149873   86351                 0              0.137310                0   \n",
       "149874  120514                 0              0.531432                1   \n",
       "149875  118623                 0              0.000000                1   \n",
       "149876   42735                 0              0.000000                0   \n",
       "149877   95078                 0              0.029067                0   \n",
       "149878  149587                 0              0.053165                0   \n",
       "149879   33631                 0              0.033751                0   \n",
       "149880  148621                 0              0.090295                0   \n",
       "149881  101721                 0              0.015640                0   \n",
       "149882   34096                 0              0.033188                0   \n",
       "149883   16469                 0              0.237958                1   \n",
       "149884   14811                 0              0.244482                0   \n",
       "149885   70355                 0              0.108372                0   \n",
       "149886  129338                 0              0.182157                0   \n",
       "149887  135236                 0              0.100842                0   \n",
       "149888    4860                 1              0.565975                0   \n",
       "149889   75627                 0              0.269197                0   \n",
       "149890   82896                 0              0.033720                0   \n",
       "149891   57985                 0              0.007484                0   \n",
       "149892   71848                 0              0.737660                0   \n",
       "149893   27711                 0              0.159051                0   \n",
       "149894   11855                 0              0.000000                0   \n",
       "149895  101446                 0              0.113302                0   \n",
       "149896  132378                 0              0.201519                0   \n",
       "149897  148580                 1              1.000000                1   \n",
       "149898   93517                 0              0.163864                0   \n",
       "149899   15481                 0              0.031732                0   \n",
       "149900   50464                 0              0.078050                0   \n",
       "149901   75766                 0              0.075823                0   \n",
       "\n",
       "          DebtRatio  MonthlyIncome  No_Of_OpenCreditLines  No_of_90_DPD  \\\n",
       "0          0.296409        11500.0                     12             0   \n",
       "1          0.115903        14166.0                     13             0   \n",
       "2          0.515147         6733.0                      7             0   \n",
       "3          0.165127        13316.0                     10             0   \n",
       "4          0.022283         2557.0                      3             0   \n",
       "5       1482.000000            NaN                      5             0   \n",
       "6          0.019196         5000.0                      5             0   \n",
       "7          0.346093         7000.0                     13             0   \n",
       "8          0.316799        11833.0                      3             0   \n",
       "9         84.000000            NaN                     10             0   \n",
       "10         0.193940        20000.0                      8             0   \n",
       "11         0.321899         6150.0                      6             0   \n",
       "12         0.666344         6200.0                     10             0   \n",
       "13         0.318716         5700.0                      9             0   \n",
       "14       104.000000            NaN                      6             0   \n",
       "15         0.265298         7500.0                      9             0   \n",
       "16         0.429633         3900.0                     14             0   \n",
       "17         0.340236         7726.0                     10             0   \n",
       "18      2504.000000            NaN                     11             0   \n",
       "19         0.620613        10400.0                     17             0   \n",
       "20         0.228749        26574.0                     11             0   \n",
       "21         0.343131         1666.0                      1             0   \n",
       "22      2113.000000            NaN                      6             0   \n",
       "23         0.322436         7126.0                      6             0   \n",
       "24         0.186163         5000.0                      8             0   \n",
       "25         0.951605        10000.0                      6             0   \n",
       "26       463.000000            NaN                      6             0   \n",
       "27         0.306648         5083.0                     21             0   \n",
       "28      2817.000000            NaN                      7             0   \n",
       "29         0.694131         7002.0                     15             0   \n",
       "...             ...            ...                    ...           ...   \n",
       "149872     0.422429         1720.0                      4             0   \n",
       "149873  2037.000000            NaN                      6             0   \n",
       "149874     0.035707         4816.0                      6             1   \n",
       "149875     0.925075         1000.0                      3             0   \n",
       "149876   872.000000            NaN                     10             0   \n",
       "149877    29.000000            NaN                      6             0   \n",
       "149878     0.014398         4583.0                      6             0   \n",
       "149879     0.441991         4800.0                     21             0   \n",
       "149880  1766.000000            NaN                      5             0   \n",
       "149881     0.330250        21083.0                     14             0   \n",
       "149882   901.000000            NaN                      3             0   \n",
       "149883  1264.000000            NaN                     10             0   \n",
       "149884     0.299625         5606.0                     12             0   \n",
       "149885     0.871026         3333.0                     15             0   \n",
       "149886     0.221202         9583.0                      5             0   \n",
       "149887     0.364622         2950.0                     11             0   \n",
       "149888     0.682341         8165.0                     10             1   \n",
       "149889     0.517733         5328.0                     13             0   \n",
       "149890     0.139298         2648.0                      6             0   \n",
       "149891     0.325743         3600.0                      9             0   \n",
       "149892     0.552804        10500.0                      9             0   \n",
       "149893   899.000000            0.0                      6             0   \n",
       "149894     0.000000            NaN                      2             0   \n",
       "149895     0.106318        16666.0                      6             0   \n",
       "149896     0.008121         3693.0                      2             0   \n",
       "149897     0.021124         2650.0                      0             0   \n",
       "149898     1.276108         1962.0                      9             0   \n",
       "149899     0.260058        10016.0                     12             0   \n",
       "149900     0.569960         1750.0                     10             0   \n",
       "149901     0.182163        12400.0                      3             0   \n",
       "\n",
       "        No_of_RealEstateLoans  No_of_60_89_DPD  \n",
       "0                           3                0  \n",
       "1                           1                0  \n",
       "2                           3                0  \n",
       "3                           1                0  \n",
       "4                           0                0  \n",
       "5                           1                0  \n",
       "6                           0                0  \n",
       "7                           1                0  \n",
       "8                           1                0  \n",
       "9                           0                0  \n",
       "10                          1                0  \n",
       "11                          2                0  \n",
       "12                          2                0  \n",
       "13                          1                0  \n",
       "14                          0                0  \n",
       "15                          0                0  \n",
       "16                          1                0  \n",
       "17                          1                0  \n",
       "18                          1                0  \n",
       "19                          2                0  \n",
       "20                          2                0  \n",
       "21                          0                0  \n",
       "22                          1                0  \n",
       "23                          1                0  \n",
       "24                          0                0  \n",
       "25                          2                0  \n",
       "26                          0                0  \n",
       "27                          2                0  \n",
       "28                          1                0  \n",
       "29                          1                0  \n",
       "...                       ...              ...  \n",
       "149872                      1                0  \n",
       "149873                      1                0  \n",
       "149874                      0                1  \n",
       "149875                      1                0  \n",
       "149876                      0                0  \n",
       "149877                      0                0  \n",
       "149878                      0                0  \n",
       "149879                      1                0  \n",
       "149880                      1                0  \n",
       "149881                      2                0  \n",
       "149882                      1                0  \n",
       "149883                      1                0  \n",
       "149884                      2                0  \n",
       "149885                      1                0  \n",
       "149886                      1                0  \n",
       "149887                      1                0  \n",
       "149888                      3                0  \n",
       "149889                      2                0  \n",
       "149890                      0                0  \n",
       "149891                      1                0  \n",
       "149892                      1                0  \n",
       "149893                      1                0  \n",
       "149894                      0                0  \n",
       "149895                      1                0  \n",
       "149896                      0                0  \n",
       "149897                      0                1  \n",
       "149898                      1                0  \n",
       "149899                      1                0  \n",
       "149900                      2                0  \n",
       "149901                      1                0  \n",
       "\n",
       "[149902 rows x 10 columns]"
      ]
     },
     "execution_count": 13,
     "metadata": {},
     "output_type": "execute_result"
    }
   ],
   "source": [
    "cust_data.drop('#30plusDPD',axis=1)"
   ]
  },
  {
   "cell_type": "code",
   "execution_count": 5,
   "metadata": {},
   "outputs": [
    {
     "name": "stderr",
     "output_type": "stream",
     "text": [
      "C:\\Users\\Ritesh Agarwal\\Anaconda2\\lib\\site-packages\\ipykernel_launcher.py:1: SettingWithCopyWarning: \n",
      "A value is trying to be set on a copy of a slice from a DataFrame.\n",
      "Try using .loc[row_indexer,col_indexer] = value instead\n",
      "\n",
      "See the caveats in the documentation: http://pandas.pydata.org/pandas-docs/stable/indexing.html#indexing-view-versus-copy\n",
      "  \"\"\"Entry point for launching an IPython kernel.\n"
     ]
    }
   ],
   "source": [
    "cust_data[cust_data.ID==59161]['No_of_30plusDPD']=10"
   ]
  },
  {
   "cell_type": "code",
   "execution_count": 6,
   "metadata": {},
   "outputs": [
    {
     "data": {
      "text/html": [
       "<div>\n",
       "<style scoped>\n",
       "    .dataframe tbody tr th:only-of-type {\n",
       "        vertical-align: middle;\n",
       "    }\n",
       "\n",
       "    .dataframe tbody tr th {\n",
       "        vertical-align: top;\n",
       "    }\n",
       "\n",
       "    .dataframe thead th {\n",
       "        text-align: right;\n",
       "    }\n",
       "</style>\n",
       "<table border=\"1\" class=\"dataframe\">\n",
       "  <thead>\n",
       "    <tr style=\"text-align: right;\">\n",
       "      <th></th>\n",
       "      <th>ID</th>\n",
       "      <th>SeriousDlqin2yrs</th>\n",
       "      <th>RevolvingUtilization</th>\n",
       "      <th>No_of_30_59_DPD</th>\n",
       "      <th>DebtRatio</th>\n",
       "      <th>MonthlyIncome</th>\n",
       "      <th>No_Of_OpenCreditLines</th>\n",
       "      <th>No_of_90_DPD</th>\n",
       "      <th>No_of_RealEstateLoans</th>\n",
       "      <th>No_of_60_89_DPD</th>\n",
       "      <th>No_of_30plusDPD</th>\n",
       "    </tr>\n",
       "  </thead>\n",
       "  <tbody>\n",
       "    <tr>\n",
       "      <th>13</th>\n",
       "      <td>59161</td>\n",
       "      <td>0</td>\n",
       "      <td>0.016346</td>\n",
       "      <td>0</td>\n",
       "      <td>0.318716</td>\n",
       "      <td>5700.0</td>\n",
       "      <td>9</td>\n",
       "      <td>0</td>\n",
       "      <td>1</td>\n",
       "      <td>0</td>\n",
       "      <td>0</td>\n",
       "    </tr>\n",
       "  </tbody>\n",
       "</table>\n",
       "</div>"
      ],
      "text/plain": [
       "       ID  SeriousDlqin2yrs  RevolvingUtilization  No_of_30_59_DPD  DebtRatio  \\\n",
       "13  59161                 0              0.016346                0   0.318716   \n",
       "\n",
       "    MonthlyIncome  No_Of_OpenCreditLines  No_of_90_DPD  No_of_RealEstateLoans  \\\n",
       "13         5700.0                      9             0                      1   \n",
       "\n",
       "    No_of_60_89_DPD  No_of_30plusDPD  \n",
       "13                0                0  "
      ]
     },
     "execution_count": 6,
     "metadata": {},
     "output_type": "execute_result"
    }
   ],
   "source": [
    "cust_data[cust_data.ID==59161]"
   ]
  },
  {
   "cell_type": "code",
   "execution_count": 8,
   "metadata": {},
   "outputs": [
    {
     "data": {
      "text/html": [
       "<div>\n",
       "<style scoped>\n",
       "    .dataframe tbody tr th:only-of-type {\n",
       "        vertical-align: middle;\n",
       "    }\n",
       "\n",
       "    .dataframe tbody tr th {\n",
       "        vertical-align: top;\n",
       "    }\n",
       "\n",
       "    .dataframe thead th {\n",
       "        text-align: right;\n",
       "    }\n",
       "</style>\n",
       "<table border=\"1\" class=\"dataframe\">\n",
       "  <thead>\n",
       "    <tr style=\"text-align: right;\">\n",
       "      <th></th>\n",
       "      <th>ID</th>\n",
       "      <th>SeriousDlqin</th>\n",
       "      <th>RevolvingUtilization</th>\n",
       "      <th>No_of_30_59_DPD</th>\n",
       "      <th>DebtRatio</th>\n",
       "      <th>MonthlyIncome</th>\n",
       "      <th>No_Of_OpenCreditLines</th>\n",
       "      <th>No_of_90_DPD</th>\n",
       "      <th>No_of_RealEstateLoans</th>\n",
       "      <th>No_of_60_89_DPD</th>\n",
       "      <th>No_of_30plusDPD</th>\n",
       "    </tr>\n",
       "  </thead>\n",
       "  <tbody>\n",
       "    <tr>\n",
       "      <th>0</th>\n",
       "      <td>83236</td>\n",
       "      <td>0</td>\n",
       "      <td>0.311726</td>\n",
       "      <td>0</td>\n",
       "      <td>0.296409</td>\n",
       "      <td>11500.0</td>\n",
       "      <td>12</td>\n",
       "      <td>0</td>\n",
       "      <td>3</td>\n",
       "      <td>0</td>\n",
       "      <td>0</td>\n",
       "    </tr>\n",
       "    <tr>\n",
       "      <th>1</th>\n",
       "      <td>2503</td>\n",
       "      <td>0</td>\n",
       "      <td>0.124988</td>\n",
       "      <td>0</td>\n",
       "      <td>0.115903</td>\n",
       "      <td>14166.0</td>\n",
       "      <td>13</td>\n",
       "      <td>0</td>\n",
       "      <td>1</td>\n",
       "      <td>0</td>\n",
       "      <td>0</td>\n",
       "    </tr>\n",
       "    <tr>\n",
       "      <th>2</th>\n",
       "      <td>137013</td>\n",
       "      <td>0</td>\n",
       "      <td>0.060258</td>\n",
       "      <td>0</td>\n",
       "      <td>0.515147</td>\n",
       "      <td>6733.0</td>\n",
       "      <td>7</td>\n",
       "      <td>0</td>\n",
       "      <td>3</td>\n",
       "      <td>0</td>\n",
       "      <td>0</td>\n",
       "    </tr>\n",
       "    <tr>\n",
       "      <th>3</th>\n",
       "      <td>51306</td>\n",
       "      <td>0</td>\n",
       "      <td>0.064322</td>\n",
       "      <td>0</td>\n",
       "      <td>0.165127</td>\n",
       "      <td>13316.0</td>\n",
       "      <td>10</td>\n",
       "      <td>0</td>\n",
       "      <td>1</td>\n",
       "      <td>0</td>\n",
       "      <td>0</td>\n",
       "    </tr>\n",
       "  </tbody>\n",
       "</table>\n",
       "</div>"
      ],
      "text/plain": [
       "       ID  SeriousDlqin  RevolvingUtilization  No_of_30_59_DPD  DebtRatio  \\\n",
       "0   83236             0              0.311726                0   0.296409   \n",
       "1    2503             0              0.124988                0   0.115903   \n",
       "2  137013             0              0.060258                0   0.515147   \n",
       "3   51306             0              0.064322                0   0.165127   \n",
       "\n",
       "   MonthlyIncome  No_Of_OpenCreditLines  No_of_90_DPD  No_of_RealEstateLoans  \\\n",
       "0        11500.0                     12             0                      3   \n",
       "1        14166.0                     13             0                      1   \n",
       "2         6733.0                      7             0                      3   \n",
       "3        13316.0                     10             0                      1   \n",
       "\n",
       "   No_of_60_89_DPD  No_of_30plusDPD  \n",
       "0                0                0  \n",
       "1                0                0  \n",
       "2                0                0  \n",
       "3                0                0  "
      ]
     },
     "execution_count": 8,
     "metadata": {},
     "output_type": "execute_result"
    }
   ],
   "source": [
    "cust_data.rename(columns={'SeriousDlqin2yrs':'SeriousDlqin'}).head(4)"
   ]
  },
  {
   "cell_type": "code",
   "execution_count": 9,
   "metadata": {},
   "outputs": [
    {
     "name": "stderr",
     "output_type": "stream",
     "text": [
      "C:\\Users\\Ritesh Agarwal\\Anaconda2\\lib\\site-packages\\ipykernel_launcher.py:1: SettingWithCopyWarning: \n",
      "A value is trying to be set on a copy of a slice from a DataFrame.\n",
      "Try using .loc[row_indexer,col_indexer] = value instead\n",
      "\n",
      "See the caveats in the documentation: http://pandas.pydata.org/pandas-docs/stable/indexing.html#indexing-view-versus-copy\n",
      "  \"\"\"Entry point for launching an IPython kernel.\n"
     ]
    }
   ],
   "source": [
    "cust_demo[cust_demo.Gender==0]['Gender2']='Male'"
   ]
  },
  {
   "cell_type": "code",
   "execution_count": 30,
   "metadata": {},
   "outputs": [],
   "source": [
    "cust_demo['Gender2']=np.where(cust_demo.Gender==0,'Male','Female')"
   ]
  },
  {
   "cell_type": "code",
   "execution_count": 32,
   "metadata": {},
   "outputs": [
    {
     "data": {
      "text/html": [
       "<div>\n",
       "<style scoped>\n",
       "    .dataframe tbody tr th:only-of-type {\n",
       "        vertical-align: middle;\n",
       "    }\n",
       "\n",
       "    .dataframe tbody tr th {\n",
       "        vertical-align: top;\n",
       "    }\n",
       "\n",
       "    .dataframe thead th {\n",
       "        text-align: right;\n",
       "    }\n",
       "</style>\n",
       "<table border=\"1\" class=\"dataframe\">\n",
       "  <thead>\n",
       "    <tr style=\"text-align: right;\">\n",
       "      <th></th>\n",
       "      <th>ID</th>\n",
       "      <th>Location</th>\n",
       "      <th>Gender</th>\n",
       "      <th>age</th>\n",
       "      <th>Martial_Status</th>\n",
       "      <th>NumberOfDependents</th>\n",
       "      <th>Own_House</th>\n",
       "      <th>No_Years_address</th>\n",
       "      <th>Gender2</th>\n",
       "    </tr>\n",
       "  </thead>\n",
       "  <tbody>\n",
       "    <tr>\n",
       "      <th>7</th>\n",
       "      <td>87969</td>\n",
       "      <td>Kohima,Nagaland</td>\n",
       "      <td>1</td>\n",
       "      <td>63</td>\n",
       "      <td>Married</td>\n",
       "      <td>1.0</td>\n",
       "      <td>0</td>\n",
       "      <td>2</td>\n",
       "      <td>Female</td>\n",
       "    </tr>\n",
       "    <tr>\n",
       "      <th>9</th>\n",
       "      <td>77997</td>\n",
       "      <td>Srinagar,JK</td>\n",
       "      <td>1</td>\n",
       "      <td>55</td>\n",
       "      <td>Single</td>\n",
       "      <td>0.0</td>\n",
       "      <td>1</td>\n",
       "      <td>3</td>\n",
       "      <td>Female</td>\n",
       "    </tr>\n",
       "    <tr>\n",
       "      <th>12</th>\n",
       "      <td>603</td>\n",
       "      <td>Raipur,Chhattisgarh</td>\n",
       "      <td>1</td>\n",
       "      <td>39</td>\n",
       "      <td>Single</td>\n",
       "      <td>1.0</td>\n",
       "      <td>0</td>\n",
       "      <td>3</td>\n",
       "      <td>Female</td>\n",
       "    </tr>\n",
       "  </tbody>\n",
       "</table>\n",
       "</div>"
      ],
      "text/plain": [
       "       ID             Location  Gender  age Martial_Status  \\\n",
       "7   87969      Kohima,Nagaland       1   63        Married   \n",
       "9   77997          Srinagar,JK       1   55         Single   \n",
       "12    603  Raipur,Chhattisgarh       1   39         Single   \n",
       "\n",
       "    NumberOfDependents  Own_House  No_Years_address Gender2  \n",
       "7                  1.0          0                 2  Female  \n",
       "9                  0.0          1                 3  Female  \n",
       "12                 1.0          0                 3  Female  "
      ]
     },
     "execution_count": 32,
     "metadata": {},
     "output_type": "execute_result"
    }
   ],
   "source": [
    "cust_demo.loc[cust_demo['Gender']==1].head(3)"
   ]
  },
  {
   "cell_type": "code",
   "execution_count": 16,
   "metadata": {
    "scrolled": true
   },
   "outputs": [
    {
     "data": {
      "text/html": [
       "<div>\n",
       "<style scoped>\n",
       "    .dataframe tbody tr th:only-of-type {\n",
       "        vertical-align: middle;\n",
       "    }\n",
       "\n",
       "    .dataframe tbody tr th {\n",
       "        vertical-align: top;\n",
       "    }\n",
       "\n",
       "    .dataframe thead th {\n",
       "        text-align: right;\n",
       "    }\n",
       "</style>\n",
       "<table border=\"1\" class=\"dataframe\">\n",
       "  <thead>\n",
       "    <tr style=\"text-align: right;\">\n",
       "      <th></th>\n",
       "      <th>ID</th>\n",
       "      <th>Location</th>\n",
       "      <th>Gender</th>\n",
       "      <th>age</th>\n",
       "      <th>Martial_Status</th>\n",
       "      <th>NumberOfDependents</th>\n",
       "      <th>Own_House</th>\n",
       "      <th>No_Years_address</th>\n",
       "      <th>Gender2</th>\n",
       "    </tr>\n",
       "  </thead>\n",
       "  <tbody>\n",
       "    <tr>\n",
       "      <th>0</th>\n",
       "      <td>4532</td>\n",
       "      <td>Gandhinagar,Gujarat</td>\n",
       "      <td>0</td>\n",
       "      <td>39</td>\n",
       "      <td>Single</td>\n",
       "      <td>1.0</td>\n",
       "      <td>1</td>\n",
       "      <td>3</td>\n",
       "      <td>Male</td>\n",
       "    </tr>\n",
       "    <tr>\n",
       "      <th>1</th>\n",
       "      <td>148736</td>\n",
       "      <td>Hyderabad,Andhra Pradesh</td>\n",
       "      <td>0</td>\n",
       "      <td>52</td>\n",
       "      <td>Married</td>\n",
       "      <td>0.0</td>\n",
       "      <td>0</td>\n",
       "      <td>3</td>\n",
       "      <td>Male</td>\n",
       "    </tr>\n",
       "    <tr>\n",
       "      <th>2</th>\n",
       "      <td>95965</td>\n",
       "      <td>Shimla,Himachal Pradesh</td>\n",
       "      <td>0</td>\n",
       "      <td>62</td>\n",
       "      <td>Married</td>\n",
       "      <td>0.0</td>\n",
       "      <td>0</td>\n",
       "      <td>2</td>\n",
       "      <td>Male</td>\n",
       "    </tr>\n",
       "    <tr>\n",
       "      <th>3</th>\n",
       "      <td>61759</td>\n",
       "      <td>Srinagar,JK</td>\n",
       "      <td>0</td>\n",
       "      <td>42</td>\n",
       "      <td>Single</td>\n",
       "      <td>1.0</td>\n",
       "      <td>1</td>\n",
       "      <td>1</td>\n",
       "      <td>Male</td>\n",
       "    </tr>\n",
       "    <tr>\n",
       "      <th>4</th>\n",
       "      <td>49806</td>\n",
       "      <td>Imphal,Manipur</td>\n",
       "      <td>0</td>\n",
       "      <td>41</td>\n",
       "      <td>Single</td>\n",
       "      <td>1.0</td>\n",
       "      <td>0</td>\n",
       "      <td>3</td>\n",
       "      <td>Male</td>\n",
       "    </tr>\n",
       "  </tbody>\n",
       "</table>\n",
       "</div>"
      ],
      "text/plain": [
       "       ID                  Location  Gender  age Martial_Status  \\\n",
       "0    4532       Gandhinagar,Gujarat       0   39         Single   \n",
       "1  148736  Hyderabad,Andhra Pradesh       0   52        Married   \n",
       "2   95965   Shimla,Himachal Pradesh       0   62        Married   \n",
       "3   61759               Srinagar,JK       0   42         Single   \n",
       "4   49806            Imphal,Manipur       0   41         Single   \n",
       "\n",
       "   NumberOfDependents  Own_House  No_Years_address Gender2  \n",
       "0                 1.0          1                 3    Male  \n",
       "1                 0.0          0                 3    Male  \n",
       "2                 0.0          0                 2    Male  \n",
       "3                 1.0          1                 1    Male  \n",
       "4                 1.0          0                 3    Male  "
      ]
     },
     "execution_count": 16,
     "metadata": {},
     "output_type": "execute_result"
    }
   ],
   "source": [
    "cust_demo.head(5)"
   ]
  },
  {
   "cell_type": "code",
   "execution_count": 33,
   "metadata": {},
   "outputs": [
    {
     "data": {
      "text/html": [
       "<div>\n",
       "<style scoped>\n",
       "    .dataframe tbody tr th:only-of-type {\n",
       "        vertical-align: middle;\n",
       "    }\n",
       "\n",
       "    .dataframe tbody tr th {\n",
       "        vertical-align: top;\n",
       "    }\n",
       "\n",
       "    .dataframe thead th {\n",
       "        text-align: right;\n",
       "    }\n",
       "</style>\n",
       "<table border=\"1\" class=\"dataframe\">\n",
       "  <thead>\n",
       "    <tr style=\"text-align: right;\">\n",
       "      <th></th>\n",
       "      <th>ID</th>\n",
       "      <th>SeriousDlqin2yrs</th>\n",
       "      <th>RevolvingUtilization</th>\n",
       "      <th>No_of_30_59_DPD</th>\n",
       "      <th>DebtRatio</th>\n",
       "      <th>MonthlyIncome</th>\n",
       "      <th>No_Of_OpenCreditLines</th>\n",
       "      <th>No_of_90_DPD</th>\n",
       "      <th>No_of_RealEstateLoans</th>\n",
       "      <th>No_of_60_89_DPD</th>\n",
       "      <th>No_of_30plusDPD</th>\n",
       "    </tr>\n",
       "  </thead>\n",
       "  <tbody>\n",
       "    <tr>\n",
       "      <th>0</th>\n",
       "      <td>83236</td>\n",
       "      <td>0</td>\n",
       "      <td>0.311726</td>\n",
       "      <td>0</td>\n",
       "      <td>0.296409</td>\n",
       "      <td>11500.0</td>\n",
       "      <td>12</td>\n",
       "      <td>0</td>\n",
       "      <td>3</td>\n",
       "      <td>0</td>\n",
       "      <td>0</td>\n",
       "    </tr>\n",
       "    <tr>\n",
       "      <th>1</th>\n",
       "      <td>2503</td>\n",
       "      <td>0</td>\n",
       "      <td>0.124988</td>\n",
       "      <td>0</td>\n",
       "      <td>0.115903</td>\n",
       "      <td>14166.0</td>\n",
       "      <td>13</td>\n",
       "      <td>0</td>\n",
       "      <td>1</td>\n",
       "      <td>0</td>\n",
       "      <td>0</td>\n",
       "    </tr>\n",
       "    <tr>\n",
       "      <th>2</th>\n",
       "      <td>137013</td>\n",
       "      <td>0</td>\n",
       "      <td>0.060258</td>\n",
       "      <td>0</td>\n",
       "      <td>0.515147</td>\n",
       "      <td>6733.0</td>\n",
       "      <td>7</td>\n",
       "      <td>0</td>\n",
       "      <td>3</td>\n",
       "      <td>0</td>\n",
       "      <td>0</td>\n",
       "    </tr>\n",
       "    <tr>\n",
       "      <th>3</th>\n",
       "      <td>51306</td>\n",
       "      <td>0</td>\n",
       "      <td>0.064322</td>\n",
       "      <td>0</td>\n",
       "      <td>0.165127</td>\n",
       "      <td>13316.0</td>\n",
       "      <td>10</td>\n",
       "      <td>0</td>\n",
       "      <td>1</td>\n",
       "      <td>0</td>\n",
       "      <td>0</td>\n",
       "    </tr>\n",
       "    <tr>\n",
       "      <th>4</th>\n",
       "      <td>71937</td>\n",
       "      <td>0</td>\n",
       "      <td>0.211186</td>\n",
       "      <td>0</td>\n",
       "      <td>0.022283</td>\n",
       "      <td>2557.0</td>\n",
       "      <td>3</td>\n",
       "      <td>0</td>\n",
       "      <td>0</td>\n",
       "      <td>0</td>\n",
       "      <td>0</td>\n",
       "    </tr>\n",
       "  </tbody>\n",
       "</table>\n",
       "</div>"
      ],
      "text/plain": [
       "       ID  SeriousDlqin2yrs  RevolvingUtilization  No_of_30_59_DPD  DebtRatio  \\\n",
       "0   83236                 0              0.311726                0   0.296409   \n",
       "1    2503                 0              0.124988                0   0.115903   \n",
       "2  137013                 0              0.060258                0   0.515147   \n",
       "3   51306                 0              0.064322                0   0.165127   \n",
       "4   71937                 0              0.211186                0   0.022283   \n",
       "\n",
       "   MonthlyIncome  No_Of_OpenCreditLines  No_of_90_DPD  No_of_RealEstateLoans  \\\n",
       "0        11500.0                     12             0                      3   \n",
       "1        14166.0                     13             0                      1   \n",
       "2         6733.0                      7             0                      3   \n",
       "3        13316.0                     10             0                      1   \n",
       "4         2557.0                      3             0                      0   \n",
       "\n",
       "   No_of_60_89_DPD  No_of_30plusDPD  \n",
       "0                0                0  \n",
       "1                0                0  \n",
       "2                0                0  \n",
       "3                0                0  \n",
       "4                0                0  "
      ]
     },
     "execution_count": 33,
     "metadata": {},
     "output_type": "execute_result"
    }
   ],
   "source": [
    " cust_data.head(5)"
   ]
  },
  {
   "cell_type": "code",
   "execution_count": 35,
   "metadata": {},
   "outputs": [
    {
     "data": {
      "text/html": [
       "<div>\n",
       "<style scoped>\n",
       "    .dataframe tbody tr th:only-of-type {\n",
       "        vertical-align: middle;\n",
       "    }\n",
       "\n",
       "    .dataframe tbody tr th {\n",
       "        vertical-align: top;\n",
       "    }\n",
       "\n",
       "    .dataframe thead th {\n",
       "        text-align: right;\n",
       "    }\n",
       "</style>\n",
       "<table border=\"1\" class=\"dataframe\">\n",
       "  <thead>\n",
       "    <tr style=\"text-align: right;\">\n",
       "      <th></th>\n",
       "      <th>count</th>\n",
       "      <th>mean</th>\n",
       "      <th>std</th>\n",
       "      <th>min</th>\n",
       "      <th>25%</th>\n",
       "      <th>50%</th>\n",
       "      <th>75%</th>\n",
       "      <th>max</th>\n",
       "    </tr>\n",
       "  </thead>\n",
       "  <tbody>\n",
       "    <tr>\n",
       "      <th>ID</th>\n",
       "      <td>149902.0</td>\n",
       "      <td>74997.338901</td>\n",
       "      <td>43299.681645</td>\n",
       "      <td>1.0</td>\n",
       "      <td>37502.250000</td>\n",
       "      <td>74996.500000</td>\n",
       "      <td>112489.750000</td>\n",
       "      <td>150000.0</td>\n",
       "    </tr>\n",
       "    <tr>\n",
       "      <th>SeriousDlqin2yrs</th>\n",
       "      <td>149902.0</td>\n",
       "      <td>0.066830</td>\n",
       "      <td>0.249729</td>\n",
       "      <td>0.0</td>\n",
       "      <td>0.000000</td>\n",
       "      <td>0.000000</td>\n",
       "      <td>0.000000</td>\n",
       "      <td>1.0</td>\n",
       "    </tr>\n",
       "    <tr>\n",
       "      <th>RevolvingUtilization</th>\n",
       "      <td>149902.0</td>\n",
       "      <td>6.052146</td>\n",
       "      <td>249.836956</td>\n",
       "      <td>0.0</td>\n",
       "      <td>0.029861</td>\n",
       "      <td>0.154141</td>\n",
       "      <td>0.558978</td>\n",
       "      <td>50708.0</td>\n",
       "    </tr>\n",
       "    <tr>\n",
       "      <th>No_of_30_59_DPD</th>\n",
       "      <td>149902.0</td>\n",
       "      <td>0.421035</td>\n",
       "      <td>4.194063</td>\n",
       "      <td>0.0</td>\n",
       "      <td>0.000000</td>\n",
       "      <td>0.000000</td>\n",
       "      <td>0.000000</td>\n",
       "      <td>98.0</td>\n",
       "    </tr>\n",
       "    <tr>\n",
       "      <th>DebtRatio</th>\n",
       "      <td>149902.0</td>\n",
       "      <td>353.061246</td>\n",
       "      <td>2038.409681</td>\n",
       "      <td>0.0</td>\n",
       "      <td>0.175075</td>\n",
       "      <td>0.366516</td>\n",
       "      <td>0.868260</td>\n",
       "      <td>329664.0</td>\n",
       "    </tr>\n",
       "    <tr>\n",
       "      <th>MonthlyIncome</th>\n",
       "      <td>120191.0</td>\n",
       "      <td>6670.205356</td>\n",
       "      <td>14389.018567</td>\n",
       "      <td>0.0</td>\n",
       "      <td>3400.000000</td>\n",
       "      <td>5400.000000</td>\n",
       "      <td>8249.000000</td>\n",
       "      <td>3008750.0</td>\n",
       "    </tr>\n",
       "    <tr>\n",
       "      <th>No_Of_OpenCreditLines</th>\n",
       "      <td>149902.0</td>\n",
       "      <td>8.452689</td>\n",
       "      <td>5.145851</td>\n",
       "      <td>0.0</td>\n",
       "      <td>5.000000</td>\n",
       "      <td>8.000000</td>\n",
       "      <td>11.000000</td>\n",
       "      <td>58.0</td>\n",
       "    </tr>\n",
       "    <tr>\n",
       "      <th>No_of_90_DPD</th>\n",
       "      <td>149902.0</td>\n",
       "      <td>0.266074</td>\n",
       "      <td>4.170649</td>\n",
       "      <td>0.0</td>\n",
       "      <td>0.000000</td>\n",
       "      <td>0.000000</td>\n",
       "      <td>0.000000</td>\n",
       "      <td>98.0</td>\n",
       "    </tr>\n",
       "    <tr>\n",
       "      <th>No_of_RealEstateLoans</th>\n",
       "      <td>149902.0</td>\n",
       "      <td>1.018279</td>\n",
       "      <td>1.129839</td>\n",
       "      <td>0.0</td>\n",
       "      <td>0.000000</td>\n",
       "      <td>1.000000</td>\n",
       "      <td>2.000000</td>\n",
       "      <td>54.0</td>\n",
       "    </tr>\n",
       "    <tr>\n",
       "      <th>No_of_60_89_DPD</th>\n",
       "      <td>149902.0</td>\n",
       "      <td>0.240470</td>\n",
       "      <td>4.156528</td>\n",
       "      <td>0.0</td>\n",
       "      <td>0.000000</td>\n",
       "      <td>0.000000</td>\n",
       "      <td>0.000000</td>\n",
       "      <td>98.0</td>\n",
       "    </tr>\n",
       "    <tr>\n",
       "      <th>No_of_30plusDPD</th>\n",
       "      <td>149902.0</td>\n",
       "      <td>0.927579</td>\n",
       "      <td>12.470230</td>\n",
       "      <td>0.0</td>\n",
       "      <td>0.000000</td>\n",
       "      <td>0.000000</td>\n",
       "      <td>0.000000</td>\n",
       "      <td>294.0</td>\n",
       "    </tr>\n",
       "  </tbody>\n",
       "</table>\n",
       "</div>"
      ],
      "text/plain": [
       "                          count          mean           std  min  \\\n",
       "ID                     149902.0  74997.338901  43299.681645  1.0   \n",
       "SeriousDlqin2yrs       149902.0      0.066830      0.249729  0.0   \n",
       "RevolvingUtilization   149902.0      6.052146    249.836956  0.0   \n",
       "No_of_30_59_DPD        149902.0      0.421035      4.194063  0.0   \n",
       "DebtRatio              149902.0    353.061246   2038.409681  0.0   \n",
       "MonthlyIncome          120191.0   6670.205356  14389.018567  0.0   \n",
       "No_Of_OpenCreditLines  149902.0      8.452689      5.145851  0.0   \n",
       "No_of_90_DPD           149902.0      0.266074      4.170649  0.0   \n",
       "No_of_RealEstateLoans  149902.0      1.018279      1.129839  0.0   \n",
       "No_of_60_89_DPD        149902.0      0.240470      4.156528  0.0   \n",
       "No_of_30plusDPD        149902.0      0.927579     12.470230  0.0   \n",
       "\n",
       "                                25%           50%            75%        max  \n",
       "ID                     37502.250000  74996.500000  112489.750000   150000.0  \n",
       "SeriousDlqin2yrs           0.000000      0.000000       0.000000        1.0  \n",
       "RevolvingUtilization       0.029861      0.154141       0.558978    50708.0  \n",
       "No_of_30_59_DPD            0.000000      0.000000       0.000000       98.0  \n",
       "DebtRatio                  0.175075      0.366516       0.868260   329664.0  \n",
       "MonthlyIncome           3400.000000   5400.000000    8249.000000  3008750.0  \n",
       "No_Of_OpenCreditLines      5.000000      8.000000      11.000000       58.0  \n",
       "No_of_90_DPD               0.000000      0.000000       0.000000       98.0  \n",
       "No_of_RealEstateLoans      0.000000      1.000000       2.000000       54.0  \n",
       "No_of_60_89_DPD            0.000000      0.000000       0.000000       98.0  \n",
       "No_of_30plusDPD            0.000000      0.000000       0.000000      294.0  "
      ]
     },
     "execution_count": 35,
     "metadata": {},
     "output_type": "execute_result"
    }
   ],
   "source": [
    "cust_data.describe().T"
   ]
  },
  {
   "cell_type": "code",
   "execution_count": 39,
   "metadata": {},
   "outputs": [
    {
     "data": {
      "text/plain": [
       "0         Group1\n",
       "1         Group1\n",
       "2         Group1\n",
       "3         Group1\n",
       "4         Group1\n",
       "5            NaN\n",
       "6         Group1\n",
       "7         Group1\n",
       "8         Group1\n",
       "9            NaN\n",
       "10        Group1\n",
       "11        Group1\n",
       "12        Group1\n",
       "13        Group1\n",
       "14           NaN\n",
       "15        Group1\n",
       "16        Group1\n",
       "17        Group1\n",
       "18           NaN\n",
       "19        Group1\n",
       "20        Group1\n",
       "21        Group1\n",
       "22           NaN\n",
       "23        Group1\n",
       "24        Group1\n",
       "25        Group1\n",
       "26           NaN\n",
       "27        Group1\n",
       "28           NaN\n",
       "29        Group1\n",
       "           ...  \n",
       "149872    Group1\n",
       "149873       NaN\n",
       "149874    Group1\n",
       "149875    Group1\n",
       "149876       NaN\n",
       "149877       NaN\n",
       "149878    Group1\n",
       "149879    Group1\n",
       "149880       NaN\n",
       "149881    Group1\n",
       "149882       NaN\n",
       "149883       NaN\n",
       "149884    Group1\n",
       "149885    Group1\n",
       "149886    Group1\n",
       "149887    Group1\n",
       "149888    Group1\n",
       "149889    Group1\n",
       "149890    Group1\n",
       "149891    Group1\n",
       "149892    Group1\n",
       "149893    Group1\n",
       "149894       NaN\n",
       "149895    Group1\n",
       "149896    Group1\n",
       "149897    Group1\n",
       "149898    Group1\n",
       "149899    Group1\n",
       "149900    Group1\n",
       "149901    Group1\n",
       "Name: MonthlyIncome, Length: 149902, dtype: category\n",
       "Categories (3, object): [Group1 < Group2 < Group3]"
      ]
     },
     "execution_count": 39,
     "metadata": {},
     "output_type": "execute_result"
    }
   ],
   "source": [
    "pd.cut(cust_data['MonthlyIncome'],3,labels=['Group1','Group2','Group3'])"
   ]
  },
  {
   "cell_type": "code",
   "execution_count": 40,
   "metadata": {},
   "outputs": [
    {
     "data": {
      "text/plain": [
       "0           (27.25, 54.5]\n",
       "1           (27.25, 54.5]\n",
       "2           (54.5, 81.75]\n",
       "3           (27.25, 54.5]\n",
       "4           (27.25, 54.5]\n",
       "5           (54.5, 81.75]\n",
       "6           (27.25, 54.5]\n",
       "7           (54.5, 81.75]\n",
       "8           (54.5, 81.75]\n",
       "9           (54.5, 81.75]\n",
       "10          (27.25, 54.5]\n",
       "11          (54.5, 81.75]\n",
       "12          (27.25, 54.5]\n",
       "13          (54.5, 81.75]\n",
       "14          (54.5, 81.75]\n",
       "15          (54.5, 81.75]\n",
       "16          (27.25, 54.5]\n",
       "17          (27.25, 54.5]\n",
       "18          (27.25, 54.5]\n",
       "19        (-0.109, 27.25]\n",
       "20          (27.25, 54.5]\n",
       "21          (54.5, 81.75]\n",
       "22        (-0.109, 27.25]\n",
       "23          (54.5, 81.75]\n",
       "24          (54.5, 81.75]\n",
       "25          (27.25, 54.5]\n",
       "26          (27.25, 54.5]\n",
       "27          (27.25, 54.5]\n",
       "28          (27.25, 54.5]\n",
       "29          (54.5, 81.75]\n",
       "               ...       \n",
       "149942      (54.5, 81.75]\n",
       "149943      (27.25, 54.5]\n",
       "149944      (27.25, 54.5]\n",
       "149945      (27.25, 54.5]\n",
       "149946      (27.25, 54.5]\n",
       "149947    (-0.109, 27.25]\n",
       "149948      (27.25, 54.5]\n",
       "149949      (27.25, 54.5]\n",
       "149950      (54.5, 81.75]\n",
       "149951      (27.25, 54.5]\n",
       "149952      (27.25, 54.5]\n",
       "149953      (27.25, 54.5]\n",
       "149954      (27.25, 54.5]\n",
       "149955      (54.5, 81.75]\n",
       "149956      (54.5, 81.75]\n",
       "149957      (27.25, 54.5]\n",
       "149958      (54.5, 81.75]\n",
       "149959      (27.25, 54.5]\n",
       "149960      (27.25, 54.5]\n",
       "149961      (27.25, 54.5]\n",
       "149962      (27.25, 54.5]\n",
       "149963    (-0.109, 27.25]\n",
       "149964      (27.25, 54.5]\n",
       "149965      (27.25, 54.5]\n",
       "149966      (54.5, 81.75]\n",
       "149967      (27.25, 54.5]\n",
       "149968      (27.25, 54.5]\n",
       "149969      (27.25, 54.5]\n",
       "149970      (27.25, 54.5]\n",
       "149971      (54.5, 81.75]\n",
       "Name: age, Length: 149972, dtype: category\n",
       "Categories (4, interval[float64]): [(-0.109, 27.25] < (27.25, 54.5] < (54.5, 81.75] < (81.75, 109.0]]"
      ]
     },
     "execution_count": 40,
     "metadata": {},
     "output_type": "execute_result"
    }
   ],
   "source": [
    "pd.cut(cust_demo.age,4)"
   ]
  },
  {
   "cell_type": "code",
   "execution_count": 43,
   "metadata": {},
   "outputs": [
    {
     "data": {
      "text/plain": [
       "0         Medium\n",
       "1         Medium\n",
       "2            Low\n",
       "3         Medium\n",
       "4            Low\n",
       "5            NaN\n",
       "6            Low\n",
       "7            Low\n",
       "8         Medium\n",
       "9            NaN\n",
       "10        Medium\n",
       "11           Low\n",
       "12           Low\n",
       "13           Low\n",
       "14           NaN\n",
       "15           Low\n",
       "16           Low\n",
       "17           Low\n",
       "18           NaN\n",
       "19        Medium\n",
       "20          High\n",
       "21           Low\n",
       "22           NaN\n",
       "23           Low\n",
       "24           Low\n",
       "25           Low\n",
       "26           NaN\n",
       "27           Low\n",
       "28           NaN\n",
       "29           Low\n",
       "           ...  \n",
       "149872       Low\n",
       "149873       NaN\n",
       "149874       Low\n",
       "149875       Low\n",
       "149876       NaN\n",
       "149877       NaN\n",
       "149878       Low\n",
       "149879       Low\n",
       "149880       NaN\n",
       "149881      High\n",
       "149882       NaN\n",
       "149883       NaN\n",
       "149884       Low\n",
       "149885       Low\n",
       "149886       Low\n",
       "149887       Low\n",
       "149888       Low\n",
       "149889       Low\n",
       "149890       Low\n",
       "149891       Low\n",
       "149892    Medium\n",
       "149893       NaN\n",
       "149894       NaN\n",
       "149895    Medium\n",
       "149896       Low\n",
       "149897       Low\n",
       "149898       Low\n",
       "149899    Medium\n",
       "149900       Low\n",
       "149901    Medium\n",
       "Name: MonthlyIncome, Length: 149902, dtype: category\n",
       "Categories (3, object): [Low < Medium < High]"
      ]
     },
     "execution_count": 43,
     "metadata": {},
     "output_type": "execute_result"
    }
   ],
   "source": [
    "pd.cut(cust_data.MonthlyIncome,bins=[0,10000,20000,30000],labels=['Low','Medium','High'])"
   ]
  },
  {
   "cell_type": "code",
   "execution_count": 44,
   "metadata": {},
   "outputs": [],
   "source": [
    "cust_data['IncomeBuckets']=pd.cut(cust_data['MonthlyIncome'], 3, labels=['0to33', '34to66', '67to99'])[:10]"
   ]
  },
  {
   "cell_type": "code",
   "execution_count": 55,
   "metadata": {},
   "outputs": [
    {
     "data": {
      "text/html": [
       "<div>\n",
       "<style scoped>\n",
       "    .dataframe tbody tr th:only-of-type {\n",
       "        vertical-align: middle;\n",
       "    }\n",
       "\n",
       "    .dataframe tbody tr th {\n",
       "        vertical-align: top;\n",
       "    }\n",
       "\n",
       "    .dataframe thead th {\n",
       "        text-align: right;\n",
       "    }\n",
       "</style>\n",
       "<table border=\"1\" class=\"dataframe\">\n",
       "  <thead>\n",
       "    <tr style=\"text-align: right;\">\n",
       "      <th></th>\n",
       "      <th>ID</th>\n",
       "      <th>SeriousDlqin2yrs</th>\n",
       "      <th>RevolvingUtilization</th>\n",
       "      <th>No_of_30_59_DPD</th>\n",
       "      <th>DebtRatio</th>\n",
       "      <th>MonthlyIncome</th>\n",
       "      <th>No_Of_OpenCreditLines</th>\n",
       "      <th>No_of_90_DPD</th>\n",
       "      <th>No_of_RealEstateLoans</th>\n",
       "      <th>No_of_60_89_DPD</th>\n",
       "      <th>No_of_30plusDPD</th>\n",
       "      <th>Income_Bucket</th>\n",
       "    </tr>\n",
       "  </thead>\n",
       "  <tbody>\n",
       "    <tr>\n",
       "      <th>0</th>\n",
       "      <td>83236</td>\n",
       "      <td>0</td>\n",
       "      <td>0.311726</td>\n",
       "      <td>0</td>\n",
       "      <td>0.296409</td>\n",
       "      <td>11500.0</td>\n",
       "      <td>12</td>\n",
       "      <td>0</td>\n",
       "      <td>3</td>\n",
       "      <td>0</td>\n",
       "      <td>0</td>\n",
       "      <td>(10000, 20000]</td>\n",
       "    </tr>\n",
       "    <tr>\n",
       "      <th>1</th>\n",
       "      <td>2503</td>\n",
       "      <td>0</td>\n",
       "      <td>0.124988</td>\n",
       "      <td>0</td>\n",
       "      <td>0.115903</td>\n",
       "      <td>14166.0</td>\n",
       "      <td>13</td>\n",
       "      <td>0</td>\n",
       "      <td>1</td>\n",
       "      <td>0</td>\n",
       "      <td>0</td>\n",
       "      <td>(10000, 20000]</td>\n",
       "    </tr>\n",
       "    <tr>\n",
       "      <th>2</th>\n",
       "      <td>137013</td>\n",
       "      <td>0</td>\n",
       "      <td>0.060258</td>\n",
       "      <td>0</td>\n",
       "      <td>0.515147</td>\n",
       "      <td>6733.0</td>\n",
       "      <td>7</td>\n",
       "      <td>0</td>\n",
       "      <td>3</td>\n",
       "      <td>0</td>\n",
       "      <td>0</td>\n",
       "      <td>(0, 10000]</td>\n",
       "    </tr>\n",
       "    <tr>\n",
       "      <th>3</th>\n",
       "      <td>51306</td>\n",
       "      <td>0</td>\n",
       "      <td>0.064322</td>\n",
       "      <td>0</td>\n",
       "      <td>0.165127</td>\n",
       "      <td>13316.0</td>\n",
       "      <td>10</td>\n",
       "      <td>0</td>\n",
       "      <td>1</td>\n",
       "      <td>0</td>\n",
       "      <td>0</td>\n",
       "      <td>(10000, 20000]</td>\n",
       "    </tr>\n",
       "    <tr>\n",
       "      <th>4</th>\n",
       "      <td>71937</td>\n",
       "      <td>0</td>\n",
       "      <td>0.211186</td>\n",
       "      <td>0</td>\n",
       "      <td>0.022283</td>\n",
       "      <td>2557.0</td>\n",
       "      <td>3</td>\n",
       "      <td>0</td>\n",
       "      <td>0</td>\n",
       "      <td>0</td>\n",
       "      <td>0</td>\n",
       "      <td>(0, 10000]</td>\n",
       "    </tr>\n",
       "    <tr>\n",
       "      <th>5</th>\n",
       "      <td>89149</td>\n",
       "      <td>0</td>\n",
       "      <td>0.056599</td>\n",
       "      <td>0</td>\n",
       "      <td>1482.000000</td>\n",
       "      <td>NaN</td>\n",
       "      <td>5</td>\n",
       "      <td>0</td>\n",
       "      <td>1</td>\n",
       "      <td>0</td>\n",
       "      <td>0</td>\n",
       "      <td>NaN</td>\n",
       "    </tr>\n",
       "    <tr>\n",
       "      <th>6</th>\n",
       "      <td>140279</td>\n",
       "      <td>0</td>\n",
       "      <td>0.137483</td>\n",
       "      <td>0</td>\n",
       "      <td>0.019196</td>\n",
       "      <td>5000.0</td>\n",
       "      <td>5</td>\n",
       "      <td>0</td>\n",
       "      <td>0</td>\n",
       "      <td>0</td>\n",
       "      <td>0</td>\n",
       "      <td>(0, 10000]</td>\n",
       "    </tr>\n",
       "    <tr>\n",
       "      <th>7</th>\n",
       "      <td>123541</td>\n",
       "      <td>0</td>\n",
       "      <td>0.285436</td>\n",
       "      <td>0</td>\n",
       "      <td>0.346093</td>\n",
       "      <td>7000.0</td>\n",
       "      <td>13</td>\n",
       "      <td>0</td>\n",
       "      <td>1</td>\n",
       "      <td>0</td>\n",
       "      <td>0</td>\n",
       "      <td>(0, 10000]</td>\n",
       "    </tr>\n",
       "    <tr>\n",
       "      <th>8</th>\n",
       "      <td>47756</td>\n",
       "      <td>0</td>\n",
       "      <td>0.086546</td>\n",
       "      <td>0</td>\n",
       "      <td>0.316799</td>\n",
       "      <td>11833.0</td>\n",
       "      <td>3</td>\n",
       "      <td>0</td>\n",
       "      <td>1</td>\n",
       "      <td>0</td>\n",
       "      <td>0</td>\n",
       "      <td>(10000, 20000]</td>\n",
       "    </tr>\n",
       "    <tr>\n",
       "      <th>9</th>\n",
       "      <td>112237</td>\n",
       "      <td>0</td>\n",
       "      <td>0.031186</td>\n",
       "      <td>0</td>\n",
       "      <td>84.000000</td>\n",
       "      <td>NaN</td>\n",
       "      <td>10</td>\n",
       "      <td>0</td>\n",
       "      <td>0</td>\n",
       "      <td>0</td>\n",
       "      <td>0</td>\n",
       "      <td>NaN</td>\n",
       "    </tr>\n",
       "  </tbody>\n",
       "</table>\n",
       "</div>"
      ],
      "text/plain": [
       "       ID  SeriousDlqin2yrs  RevolvingUtilization  No_of_30_59_DPD  \\\n",
       "0   83236                 0              0.311726                0   \n",
       "1    2503                 0              0.124988                0   \n",
       "2  137013                 0              0.060258                0   \n",
       "3   51306                 0              0.064322                0   \n",
       "4   71937                 0              0.211186                0   \n",
       "5   89149                 0              0.056599                0   \n",
       "6  140279                 0              0.137483                0   \n",
       "7  123541                 0              0.285436                0   \n",
       "8   47756                 0              0.086546                0   \n",
       "9  112237                 0              0.031186                0   \n",
       "\n",
       "     DebtRatio  MonthlyIncome  No_Of_OpenCreditLines  No_of_90_DPD  \\\n",
       "0     0.296409        11500.0                     12             0   \n",
       "1     0.115903        14166.0                     13             0   \n",
       "2     0.515147         6733.0                      7             0   \n",
       "3     0.165127        13316.0                     10             0   \n",
       "4     0.022283         2557.0                      3             0   \n",
       "5  1482.000000            NaN                      5             0   \n",
       "6     0.019196         5000.0                      5             0   \n",
       "7     0.346093         7000.0                     13             0   \n",
       "8     0.316799        11833.0                      3             0   \n",
       "9    84.000000            NaN                     10             0   \n",
       "\n",
       "   No_of_RealEstateLoans  No_of_60_89_DPD  No_of_30plusDPD   Income_Bucket  \n",
       "0                      3                0                0  (10000, 20000]  \n",
       "1                      1                0                0  (10000, 20000]  \n",
       "2                      3                0                0      (0, 10000]  \n",
       "3                      1                0                0  (10000, 20000]  \n",
       "4                      0                0                0      (0, 10000]  \n",
       "5                      1                0                0             NaN  \n",
       "6                      0                0                0      (0, 10000]  \n",
       "7                      1                0                0      (0, 10000]  \n",
       "8                      1                0                0  (10000, 20000]  \n",
       "9                      0                0                0             NaN  "
      ]
     },
     "execution_count": 55,
     "metadata": {},
     "output_type": "execute_result"
    }
   ],
   "source": [
    "cust_data.head(10)"
   ]
  },
  {
   "cell_type": "code",
   "execution_count": 50,
   "metadata": {},
   "outputs": [
    {
     "data": {
      "text/plain": [
       "count    1.201910e+05\n",
       "mean     6.670205e+03\n",
       "std      1.438902e+04\n",
       "min      0.000000e+00\n",
       "25%      3.400000e+03\n",
       "50%      5.400000e+03\n",
       "75%      8.249000e+03\n",
       "max      3.008750e+06\n",
       "Name: MonthlyIncome, dtype: float64"
      ]
     },
     "execution_count": 50,
     "metadata": {},
     "output_type": "execute_result"
    }
   ],
   "source": [
    "cust_data['MonthlyIncome'].describe()"
   ]
  },
  {
   "cell_type": "code",
   "execution_count": 51,
   "metadata": {},
   "outputs": [],
   "source": [
    "cust_data['Income_Bucket']=pd.cut(cust_data.MonthlyIncome,range(0,1000000,10000))"
   ]
  },
  {
   "cell_type": "code",
   "execution_count": 54,
   "metadata": {},
   "outputs": [],
   "source": [
    "cust_data.drop('IncomeBuckets',inplace=True,axis=1)"
   ]
  },
  {
   "cell_type": "code",
   "execution_count": 57,
   "metadata": {},
   "outputs": [
    {
     "data": {
      "text/plain": [
       "(0, 10000]          100254\n",
       "(10000, 20000]       16202\n",
       "(20000, 30000]        1311\n",
       "(30000, 40000]         343\n",
       "(40000, 50000]         148\n",
       "(50000, 60000]          80\n",
       "(60000, 70000]          61\n",
       "(70000, 80000]          44\n",
       "(80000, 90000]          31\n",
       "(90000, 100000]         15\n",
       "(110000, 120000]         8\n",
       "(120000, 130000]         8\n",
       "(100000, 110000]         7\n",
       "(140000, 150000]         6\n",
       "(150000, 160000]         4\n",
       "(230000, 240000]         4\n",
       "(130000, 140000]         4\n",
       "(160000, 170000]         2\n",
       "(200000, 210000]         2\n",
       "(240000, 250000]         2\n",
       "(830000, 840000]         1\n",
       "(260000, 270000]         1\n",
       "(420000, 430000]         1\n",
       "(400000, 410000]         1\n",
       "(560000, 570000]         1\n",
       "(580000, 590000]         1\n",
       "(320000, 330000]         1\n",
       "(300000, 310000]         1\n",
       "(620000, 630000]         1\n",
       "(280000, 290000]         1\n",
       "                     ...  \n",
       "(910000, 920000]         0\n",
       "(920000, 930000]         0\n",
       "(930000, 940000]         0\n",
       "(940000, 950000]         0\n",
       "(950000, 960000]         0\n",
       "(960000, 970000]         0\n",
       "(760000, 770000]         0\n",
       "(740000, 750000]         0\n",
       "(460000, 470000]         0\n",
       "(720000, 730000]         0\n",
       "(470000, 480000]         0\n",
       "(480000, 490000]         0\n",
       "(970000, 980000]         0\n",
       "(500000, 510000]         0\n",
       "(510000, 520000]         0\n",
       "(520000, 530000]         0\n",
       "(530000, 540000]         0\n",
       "(540000, 550000]         0\n",
       "(550000, 560000]         0\n",
       "(570000, 580000]         0\n",
       "(590000, 600000]         0\n",
       "(600000, 610000]         0\n",
       "(610000, 620000]         0\n",
       "(630000, 640000]         0\n",
       "(650000, 660000]         0\n",
       "(660000, 670000]         0\n",
       "(670000, 680000]         0\n",
       "(680000, 690000]         0\n",
       "(710000, 720000]         0\n",
       "(490000, 500000]         0\n",
       "Name: Income_Bucket, Length: 99, dtype: int64"
      ]
     },
     "execution_count": 57,
     "metadata": {},
     "output_type": "execute_result"
    }
   ],
   "source": [
    "cust_data['Income_Bucket'].value_counts()"
   ]
  },
  {
   "cell_type": "code",
   "execution_count": 58,
   "metadata": {},
   "outputs": [],
   "source": [
    "cust_data['Deciles']=pd.qcut(cust_data['MonthlyIncome'],10,labels=range(1,11,1))"
   ]
  },
  {
   "cell_type": "code",
   "execution_count": 59,
   "metadata": {},
   "outputs": [
    {
     "data": {
      "text/html": [
       "<div>\n",
       "<style scoped>\n",
       "    .dataframe tbody tr th:only-of-type {\n",
       "        vertical-align: middle;\n",
       "    }\n",
       "\n",
       "    .dataframe tbody tr th {\n",
       "        vertical-align: top;\n",
       "    }\n",
       "\n",
       "    .dataframe thead th {\n",
       "        text-align: right;\n",
       "    }\n",
       "</style>\n",
       "<table border=\"1\" class=\"dataframe\">\n",
       "  <thead>\n",
       "    <tr style=\"text-align: right;\">\n",
       "      <th></th>\n",
       "      <th>ID</th>\n",
       "      <th>SeriousDlqin2yrs</th>\n",
       "      <th>RevolvingUtilization</th>\n",
       "      <th>No_of_30_59_DPD</th>\n",
       "      <th>DebtRatio</th>\n",
       "      <th>MonthlyIncome</th>\n",
       "      <th>No_Of_OpenCreditLines</th>\n",
       "      <th>No_of_90_DPD</th>\n",
       "      <th>No_of_RealEstateLoans</th>\n",
       "      <th>No_of_60_89_DPD</th>\n",
       "      <th>No_of_30plusDPD</th>\n",
       "      <th>Income_Bucket</th>\n",
       "      <th>Deciles</th>\n",
       "    </tr>\n",
       "  </thead>\n",
       "  <tbody>\n",
       "    <tr>\n",
       "      <th>0</th>\n",
       "      <td>83236</td>\n",
       "      <td>0</td>\n",
       "      <td>0.311726</td>\n",
       "      <td>0</td>\n",
       "      <td>0.296409</td>\n",
       "      <td>11500.0</td>\n",
       "      <td>12</td>\n",
       "      <td>0</td>\n",
       "      <td>3</td>\n",
       "      <td>0</td>\n",
       "      <td>0</td>\n",
       "      <td>(10000, 20000]</td>\n",
       "      <td>9.0</td>\n",
       "    </tr>\n",
       "    <tr>\n",
       "      <th>1</th>\n",
       "      <td>2503</td>\n",
       "      <td>0</td>\n",
       "      <td>0.124988</td>\n",
       "      <td>0</td>\n",
       "      <td>0.115903</td>\n",
       "      <td>14166.0</td>\n",
       "      <td>13</td>\n",
       "      <td>0</td>\n",
       "      <td>1</td>\n",
       "      <td>0</td>\n",
       "      <td>0</td>\n",
       "      <td>(10000, 20000]</td>\n",
       "      <td>10.0</td>\n",
       "    </tr>\n",
       "    <tr>\n",
       "      <th>2</th>\n",
       "      <td>137013</td>\n",
       "      <td>0</td>\n",
       "      <td>0.060258</td>\n",
       "      <td>0</td>\n",
       "      <td>0.515147</td>\n",
       "      <td>6733.0</td>\n",
       "      <td>7</td>\n",
       "      <td>0</td>\n",
       "      <td>3</td>\n",
       "      <td>0</td>\n",
       "      <td>0</td>\n",
       "      <td>(0, 10000]</td>\n",
       "      <td>7.0</td>\n",
       "    </tr>\n",
       "    <tr>\n",
       "      <th>3</th>\n",
       "      <td>51306</td>\n",
       "      <td>0</td>\n",
       "      <td>0.064322</td>\n",
       "      <td>0</td>\n",
       "      <td>0.165127</td>\n",
       "      <td>13316.0</td>\n",
       "      <td>10</td>\n",
       "      <td>0</td>\n",
       "      <td>1</td>\n",
       "      <td>0</td>\n",
       "      <td>0</td>\n",
       "      <td>(10000, 20000]</td>\n",
       "      <td>10.0</td>\n",
       "    </tr>\n",
       "    <tr>\n",
       "      <th>4</th>\n",
       "      <td>71937</td>\n",
       "      <td>0</td>\n",
       "      <td>0.211186</td>\n",
       "      <td>0</td>\n",
       "      <td>0.022283</td>\n",
       "      <td>2557.0</td>\n",
       "      <td>3</td>\n",
       "      <td>0</td>\n",
       "      <td>0</td>\n",
       "      <td>0</td>\n",
       "      <td>0</td>\n",
       "      <td>(0, 10000]</td>\n",
       "      <td>2.0</td>\n",
       "    </tr>\n",
       "    <tr>\n",
       "      <th>5</th>\n",
       "      <td>89149</td>\n",
       "      <td>0</td>\n",
       "      <td>0.056599</td>\n",
       "      <td>0</td>\n",
       "      <td>1482.000000</td>\n",
       "      <td>NaN</td>\n",
       "      <td>5</td>\n",
       "      <td>0</td>\n",
       "      <td>1</td>\n",
       "      <td>0</td>\n",
       "      <td>0</td>\n",
       "      <td>NaN</td>\n",
       "      <td>NaN</td>\n",
       "    </tr>\n",
       "    <tr>\n",
       "      <th>6</th>\n",
       "      <td>140279</td>\n",
       "      <td>0</td>\n",
       "      <td>0.137483</td>\n",
       "      <td>0</td>\n",
       "      <td>0.019196</td>\n",
       "      <td>5000.0</td>\n",
       "      <td>5</td>\n",
       "      <td>0</td>\n",
       "      <td>0</td>\n",
       "      <td>0</td>\n",
       "      <td>0</td>\n",
       "      <td>(0, 10000]</td>\n",
       "      <td>5.0</td>\n",
       "    </tr>\n",
       "    <tr>\n",
       "      <th>7</th>\n",
       "      <td>123541</td>\n",
       "      <td>0</td>\n",
       "      <td>0.285436</td>\n",
       "      <td>0</td>\n",
       "      <td>0.346093</td>\n",
       "      <td>7000.0</td>\n",
       "      <td>13</td>\n",
       "      <td>0</td>\n",
       "      <td>1</td>\n",
       "      <td>0</td>\n",
       "      <td>0</td>\n",
       "      <td>(0, 10000]</td>\n",
       "      <td>7.0</td>\n",
       "    </tr>\n",
       "    <tr>\n",
       "      <th>8</th>\n",
       "      <td>47756</td>\n",
       "      <td>0</td>\n",
       "      <td>0.086546</td>\n",
       "      <td>0</td>\n",
       "      <td>0.316799</td>\n",
       "      <td>11833.0</td>\n",
       "      <td>3</td>\n",
       "      <td>0</td>\n",
       "      <td>1</td>\n",
       "      <td>0</td>\n",
       "      <td>0</td>\n",
       "      <td>(10000, 20000]</td>\n",
       "      <td>10.0</td>\n",
       "    </tr>\n",
       "    <tr>\n",
       "      <th>9</th>\n",
       "      <td>112237</td>\n",
       "      <td>0</td>\n",
       "      <td>0.031186</td>\n",
       "      <td>0</td>\n",
       "      <td>84.000000</td>\n",
       "      <td>NaN</td>\n",
       "      <td>10</td>\n",
       "      <td>0</td>\n",
       "      <td>0</td>\n",
       "      <td>0</td>\n",
       "      <td>0</td>\n",
       "      <td>NaN</td>\n",
       "      <td>NaN</td>\n",
       "    </tr>\n",
       "  </tbody>\n",
       "</table>\n",
       "</div>"
      ],
      "text/plain": [
       "       ID  SeriousDlqin2yrs  RevolvingUtilization  No_of_30_59_DPD  \\\n",
       "0   83236                 0              0.311726                0   \n",
       "1    2503                 0              0.124988                0   \n",
       "2  137013                 0              0.060258                0   \n",
       "3   51306                 0              0.064322                0   \n",
       "4   71937                 0              0.211186                0   \n",
       "5   89149                 0              0.056599                0   \n",
       "6  140279                 0              0.137483                0   \n",
       "7  123541                 0              0.285436                0   \n",
       "8   47756                 0              0.086546                0   \n",
       "9  112237                 0              0.031186                0   \n",
       "\n",
       "     DebtRatio  MonthlyIncome  No_Of_OpenCreditLines  No_of_90_DPD  \\\n",
       "0     0.296409        11500.0                     12             0   \n",
       "1     0.115903        14166.0                     13             0   \n",
       "2     0.515147         6733.0                      7             0   \n",
       "3     0.165127        13316.0                     10             0   \n",
       "4     0.022283         2557.0                      3             0   \n",
       "5  1482.000000            NaN                      5             0   \n",
       "6     0.019196         5000.0                      5             0   \n",
       "7     0.346093         7000.0                     13             0   \n",
       "8     0.316799        11833.0                      3             0   \n",
       "9    84.000000            NaN                     10             0   \n",
       "\n",
       "   No_of_RealEstateLoans  No_of_60_89_DPD  No_of_30plusDPD   Income_Bucket  \\\n",
       "0                      3                0                0  (10000, 20000]   \n",
       "1                      1                0                0  (10000, 20000]   \n",
       "2                      3                0                0      (0, 10000]   \n",
       "3                      1                0                0  (10000, 20000]   \n",
       "4                      0                0                0      (0, 10000]   \n",
       "5                      1                0                0             NaN   \n",
       "6                      0                0                0      (0, 10000]   \n",
       "7                      1                0                0      (0, 10000]   \n",
       "8                      1                0                0  (10000, 20000]   \n",
       "9                      0                0                0             NaN   \n",
       "\n",
       "  Deciles  \n",
       "0     9.0  \n",
       "1    10.0  \n",
       "2     7.0  \n",
       "3    10.0  \n",
       "4     2.0  \n",
       "5     NaN  \n",
       "6     5.0  \n",
       "7     7.0  \n",
       "8    10.0  \n",
       "9     NaN  "
      ]
     },
     "execution_count": 59,
     "metadata": {},
     "output_type": "execute_result"
    }
   ],
   "source": [
    "cust_data.head(10)"
   ]
  },
  {
   "cell_type": "code",
   "execution_count": 60,
   "metadata": {},
   "outputs": [
    {
     "data": {
      "text/html": [
       "<div>\n",
       "<style scoped>\n",
       "    .dataframe tbody tr th:only-of-type {\n",
       "        vertical-align: middle;\n",
       "    }\n",
       "\n",
       "    .dataframe tbody tr th {\n",
       "        vertical-align: top;\n",
       "    }\n",
       "\n",
       "    .dataframe thead th {\n",
       "        text-align: right;\n",
       "    }\n",
       "</style>\n",
       "<table border=\"1\" class=\"dataframe\">\n",
       "  <thead>\n",
       "    <tr style=\"text-align: right;\">\n",
       "      <th></th>\n",
       "      <th>ID</th>\n",
       "      <th>SeriousDlqin2yrs</th>\n",
       "      <th>RevolvingUtilization</th>\n",
       "      <th>No_of_30_59_DPD</th>\n",
       "      <th>DebtRatio</th>\n",
       "      <th>MonthlyIncome</th>\n",
       "      <th>No_Of_OpenCreditLines</th>\n",
       "      <th>No_of_90_DPD</th>\n",
       "      <th>No_of_RealEstateLoans</th>\n",
       "      <th>No_of_60_89_DPD</th>\n",
       "      <th>No_of_30plusDPD</th>\n",
       "      <th>Income_Bucket</th>\n",
       "      <th>Deciles</th>\n",
       "    </tr>\n",
       "  </thead>\n",
       "  <tbody>\n",
       "    <tr>\n",
       "      <th>110853</th>\n",
       "      <td>112187</td>\n",
       "      <td>0</td>\n",
       "      <td>1.116628</td>\n",
       "      <td>2</td>\n",
       "      <td>1160.0</td>\n",
       "      <td>0.0</td>\n",
       "      <td>5</td>\n",
       "      <td>0</td>\n",
       "      <td>0</td>\n",
       "      <td>0</td>\n",
       "      <td>2</td>\n",
       "      <td>NaN</td>\n",
       "      <td>1</td>\n",
       "    </tr>\n",
       "    <tr>\n",
       "      <th>118714</th>\n",
       "      <td>55220</td>\n",
       "      <td>0</td>\n",
       "      <td>0.676640</td>\n",
       "      <td>0</td>\n",
       "      <td>723.0</td>\n",
       "      <td>0.0</td>\n",
       "      <td>6</td>\n",
       "      <td>0</td>\n",
       "      <td>0</td>\n",
       "      <td>0</td>\n",
       "      <td>0</td>\n",
       "      <td>NaN</td>\n",
       "      <td>1</td>\n",
       "    </tr>\n",
       "    <tr>\n",
       "      <th>118679</th>\n",
       "      <td>130454</td>\n",
       "      <td>0</td>\n",
       "      <td>0.293505</td>\n",
       "      <td>0</td>\n",
       "      <td>1271.0</td>\n",
       "      <td>0.0</td>\n",
       "      <td>10</td>\n",
       "      <td>0</td>\n",
       "      <td>0</td>\n",
       "      <td>0</td>\n",
       "      <td>0</td>\n",
       "      <td>NaN</td>\n",
       "      <td>1</td>\n",
       "    </tr>\n",
       "    <tr>\n",
       "      <th>118610</th>\n",
       "      <td>113489</td>\n",
       "      <td>0</td>\n",
       "      <td>1.000000</td>\n",
       "      <td>0</td>\n",
       "      <td>0.0</td>\n",
       "      <td>0.0</td>\n",
       "      <td>0</td>\n",
       "      <td>0</td>\n",
       "      <td>0</td>\n",
       "      <td>0</td>\n",
       "      <td>0</td>\n",
       "      <td>NaN</td>\n",
       "      <td>1</td>\n",
       "    </tr>\n",
       "    <tr>\n",
       "      <th>118566</th>\n",
       "      <td>10294</td>\n",
       "      <td>0</td>\n",
       "      <td>0.063612</td>\n",
       "      <td>0</td>\n",
       "      <td>3523.0</td>\n",
       "      <td>0.0</td>\n",
       "      <td>11</td>\n",
       "      <td>0</td>\n",
       "      <td>1</td>\n",
       "      <td>0</td>\n",
       "      <td>0</td>\n",
       "      <td>NaN</td>\n",
       "      <td>1</td>\n",
       "    </tr>\n",
       "  </tbody>\n",
       "</table>\n",
       "</div>"
      ],
      "text/plain": [
       "            ID  SeriousDlqin2yrs  RevolvingUtilization  No_of_30_59_DPD  \\\n",
       "110853  112187                 0              1.116628                2   \n",
       "118714   55220                 0              0.676640                0   \n",
       "118679  130454                 0              0.293505                0   \n",
       "118610  113489                 0              1.000000                0   \n",
       "118566   10294                 0              0.063612                0   \n",
       "\n",
       "        DebtRatio  MonthlyIncome  No_Of_OpenCreditLines  No_of_90_DPD  \\\n",
       "110853     1160.0            0.0                      5             0   \n",
       "118714      723.0            0.0                      6             0   \n",
       "118679     1271.0            0.0                     10             0   \n",
       "118610        0.0            0.0                      0             0   \n",
       "118566     3523.0            0.0                     11             0   \n",
       "\n",
       "        No_of_RealEstateLoans  No_of_60_89_DPD  No_of_30plusDPD Income_Bucket  \\\n",
       "110853                      0                0                2           NaN   \n",
       "118714                      0                0                0           NaN   \n",
       "118679                      0                0                0           NaN   \n",
       "118610                      0                0                0           NaN   \n",
       "118566                      1                0                0           NaN   \n",
       "\n",
       "       Deciles  \n",
       "110853       1  \n",
       "118714       1  \n",
       "118679       1  \n",
       "118610       1  \n",
       "118566       1  "
      ]
     },
     "execution_count": 60,
     "metadata": {},
     "output_type": "execute_result"
    }
   ],
   "source": [
    "cust_data.sort_values(by='MonthlyIncome',ascending=True).head(5)"
   ]
  },
  {
   "cell_type": "code",
   "execution_count": 62,
   "metadata": {},
   "outputs": [
    {
     "data": {
      "text/html": [
       "<div>\n",
       "<style scoped>\n",
       "    .dataframe tbody tr th:only-of-type {\n",
       "        vertical-align: middle;\n",
       "    }\n",
       "\n",
       "    .dataframe tbody tr th {\n",
       "        vertical-align: top;\n",
       "    }\n",
       "\n",
       "    .dataframe thead th {\n",
       "        text-align: right;\n",
       "    }\n",
       "</style>\n",
       "<table border=\"1\" class=\"dataframe\">\n",
       "  <thead>\n",
       "    <tr style=\"text-align: right;\">\n",
       "      <th></th>\n",
       "      <th>ID</th>\n",
       "      <th>SeriousDlqin2yrs</th>\n",
       "      <th>RevolvingUtilization</th>\n",
       "      <th>No_of_30_59_DPD</th>\n",
       "      <th>DebtRatio</th>\n",
       "      <th>MonthlyIncome</th>\n",
       "      <th>No_Of_OpenCreditLines</th>\n",
       "      <th>No_of_90_DPD</th>\n",
       "      <th>No_of_RealEstateLoans</th>\n",
       "      <th>No_of_60_89_DPD</th>\n",
       "      <th>No_of_30plusDPD</th>\n",
       "      <th>Income_Bucket</th>\n",
       "      <th>Deciles</th>\n",
       "    </tr>\n",
       "  </thead>\n",
       "  <tbody>\n",
       "    <tr>\n",
       "      <th>99668</th>\n",
       "      <td>73764</td>\n",
       "      <td>0</td>\n",
       "      <td>0.007328</td>\n",
       "      <td>0</td>\n",
       "      <td>0.001470</td>\n",
       "      <td>3008750.0</td>\n",
       "      <td>10</td>\n",
       "      <td>0</td>\n",
       "      <td>1</td>\n",
       "      <td>0</td>\n",
       "      <td>0</td>\n",
       "      <td>NaN</td>\n",
       "      <td>10</td>\n",
       "    </tr>\n",
       "    <tr>\n",
       "      <th>142534</th>\n",
       "      <td>137141</td>\n",
       "      <td>0</td>\n",
       "      <td>0.000000</td>\n",
       "      <td>0</td>\n",
       "      <td>0.002776</td>\n",
       "      <td>1794060.0</td>\n",
       "      <td>15</td>\n",
       "      <td>0</td>\n",
       "      <td>1</td>\n",
       "      <td>0</td>\n",
       "      <td>0</td>\n",
       "      <td>NaN</td>\n",
       "      <td>10</td>\n",
       "    </tr>\n",
       "    <tr>\n",
       "      <th>113405</th>\n",
       "      <td>111366</td>\n",
       "      <td>0</td>\n",
       "      <td>0.163856</td>\n",
       "      <td>0</td>\n",
       "      <td>0.004013</td>\n",
       "      <td>1560100.0</td>\n",
       "      <td>12</td>\n",
       "      <td>0</td>\n",
       "      <td>4</td>\n",
       "      <td>0</td>\n",
       "      <td>0</td>\n",
       "      <td>NaN</td>\n",
       "      <td>10</td>\n",
       "    </tr>\n",
       "    <tr>\n",
       "      <th>115031</th>\n",
       "      <td>50641</td>\n",
       "      <td>0</td>\n",
       "      <td>0.469025</td>\n",
       "      <td>1</td>\n",
       "      <td>0.004537</td>\n",
       "      <td>1072500.0</td>\n",
       "      <td>9</td>\n",
       "      <td>0</td>\n",
       "      <td>2</td>\n",
       "      <td>0</td>\n",
       "      <td>1</td>\n",
       "      <td>NaN</td>\n",
       "      <td>10</td>\n",
       "    </tr>\n",
       "    <tr>\n",
       "      <th>139394</th>\n",
       "      <td>122544</td>\n",
       "      <td>0</td>\n",
       "      <td>0.041599</td>\n",
       "      <td>0</td>\n",
       "      <td>0.000147</td>\n",
       "      <td>835040.0</td>\n",
       "      <td>8</td>\n",
       "      <td>0</td>\n",
       "      <td>0</td>\n",
       "      <td>0</td>\n",
       "      <td>0</td>\n",
       "      <td>(830000, 840000]</td>\n",
       "      <td>10</td>\n",
       "    </tr>\n",
       "    <tr>\n",
       "      <th>129123</th>\n",
       "      <td>123292</td>\n",
       "      <td>0</td>\n",
       "      <td>0.226333</td>\n",
       "      <td>1</td>\n",
       "      <td>0.005570</td>\n",
       "      <td>730483.0</td>\n",
       "      <td>23</td>\n",
       "      <td>0</td>\n",
       "      <td>1</td>\n",
       "      <td>0</td>\n",
       "      <td>1</td>\n",
       "      <td>(730000, 740000]</td>\n",
       "      <td>10</td>\n",
       "    </tr>\n",
       "    <tr>\n",
       "      <th>21064</th>\n",
       "      <td>93565</td>\n",
       "      <td>0</td>\n",
       "      <td>0.071628</td>\n",
       "      <td>0</td>\n",
       "      <td>0.008268</td>\n",
       "      <td>702500.0</td>\n",
       "      <td>12</td>\n",
       "      <td>0</td>\n",
       "      <td>4</td>\n",
       "      <td>0</td>\n",
       "      <td>0</td>\n",
       "      <td>(700000, 710000]</td>\n",
       "      <td>10</td>\n",
       "    </tr>\n",
       "    <tr>\n",
       "      <th>96933</th>\n",
       "      <td>96550</td>\n",
       "      <td>0</td>\n",
       "      <td>0.064155</td>\n",
       "      <td>0</td>\n",
       "      <td>0.003698</td>\n",
       "      <td>699530.0</td>\n",
       "      <td>11</td>\n",
       "      <td>0</td>\n",
       "      <td>2</td>\n",
       "      <td>0</td>\n",
       "      <td>0</td>\n",
       "      <td>(690000, 700000]</td>\n",
       "      <td>10</td>\n",
       "    </tr>\n",
       "    <tr>\n",
       "      <th>2397</th>\n",
       "      <td>119137</td>\n",
       "      <td>0</td>\n",
       "      <td>0.151329</td>\n",
       "      <td>0</td>\n",
       "      <td>0.001313</td>\n",
       "      <td>649587.0</td>\n",
       "      <td>8</td>\n",
       "      <td>0</td>\n",
       "      <td>0</td>\n",
       "      <td>1</td>\n",
       "      <td>1</td>\n",
       "      <td>(640000, 650000]</td>\n",
       "      <td>10</td>\n",
       "    </tr>\n",
       "    <tr>\n",
       "      <th>86923</th>\n",
       "      <td>37079</td>\n",
       "      <td>0</td>\n",
       "      <td>0.000000</td>\n",
       "      <td>0</td>\n",
       "      <td>0.000000</td>\n",
       "      <td>629000.0</td>\n",
       "      <td>3</td>\n",
       "      <td>0</td>\n",
       "      <td>0</td>\n",
       "      <td>0</td>\n",
       "      <td>0</td>\n",
       "      <td>(620000, 630000]</td>\n",
       "      <td>10</td>\n",
       "    </tr>\n",
       "  </tbody>\n",
       "</table>\n",
       "</div>"
      ],
      "text/plain": [
       "            ID  SeriousDlqin2yrs  RevolvingUtilization  No_of_30_59_DPD  \\\n",
       "99668    73764                 0              0.007328                0   \n",
       "142534  137141                 0              0.000000                0   \n",
       "113405  111366                 0              0.163856                0   \n",
       "115031   50641                 0              0.469025                1   \n",
       "139394  122544                 0              0.041599                0   \n",
       "129123  123292                 0              0.226333                1   \n",
       "21064    93565                 0              0.071628                0   \n",
       "96933    96550                 0              0.064155                0   \n",
       "2397    119137                 0              0.151329                0   \n",
       "86923    37079                 0              0.000000                0   \n",
       "\n",
       "        DebtRatio  MonthlyIncome  No_Of_OpenCreditLines  No_of_90_DPD  \\\n",
       "99668    0.001470      3008750.0                     10             0   \n",
       "142534   0.002776      1794060.0                     15             0   \n",
       "113405   0.004013      1560100.0                     12             0   \n",
       "115031   0.004537      1072500.0                      9             0   \n",
       "139394   0.000147       835040.0                      8             0   \n",
       "129123   0.005570       730483.0                     23             0   \n",
       "21064    0.008268       702500.0                     12             0   \n",
       "96933    0.003698       699530.0                     11             0   \n",
       "2397     0.001313       649587.0                      8             0   \n",
       "86923    0.000000       629000.0                      3             0   \n",
       "\n",
       "        No_of_RealEstateLoans  No_of_60_89_DPD  No_of_30plusDPD  \\\n",
       "99668                       1                0                0   \n",
       "142534                      1                0                0   \n",
       "113405                      4                0                0   \n",
       "115031                      2                0                1   \n",
       "139394                      0                0                0   \n",
       "129123                      1                0                1   \n",
       "21064                       4                0                0   \n",
       "96933                       2                0                0   \n",
       "2397                        0                1                1   \n",
       "86923                       0                0                0   \n",
       "\n",
       "           Income_Bucket Deciles  \n",
       "99668                NaN      10  \n",
       "142534               NaN      10  \n",
       "113405               NaN      10  \n",
       "115031               NaN      10  \n",
       "139394  (830000, 840000]      10  \n",
       "129123  (730000, 740000]      10  \n",
       "21064   (700000, 710000]      10  \n",
       "96933   (690000, 700000]      10  \n",
       "2397    (640000, 650000]      10  \n",
       "86923   (620000, 630000]      10  "
      ]
     },
     "execution_count": 62,
     "metadata": {},
     "output_type": "execute_result"
    }
   ],
   "source": [
    "cust_data.sort_values(by=['MonthlyIncome','DebtRatio'],ascending=[False,True]).head(10)"
   ]
  },
  {
   "cell_type": "code",
   "execution_count": 63,
   "metadata": {},
   "outputs": [
    {
     "data": {
      "text/plain": [
       "pandas.core.series.Series"
      ]
     },
     "execution_count": 63,
     "metadata": {},
     "output_type": "execute_result"
    }
   ],
   "source": [
    "type(cust_data['No_of_30_59_DPD'])"
   ]
  },
  {
   "cell_type": "code",
   "execution_count": 66,
   "metadata": {},
   "outputs": [],
   "source": [
    "cust_data['No_of_30_59_DPD']=cust_data['No_of_30_59_DPD'].astype=('int64')"
   ]
  },
  {
   "cell_type": "code",
   "execution_count": 67,
   "metadata": {},
   "outputs": [
    {
     "data": {
      "text/html": [
       "<div>\n",
       "<style scoped>\n",
       "    .dataframe tbody tr th:only-of-type {\n",
       "        vertical-align: middle;\n",
       "    }\n",
       "\n",
       "    .dataframe tbody tr th {\n",
       "        vertical-align: top;\n",
       "    }\n",
       "\n",
       "    .dataframe thead th {\n",
       "        text-align: right;\n",
       "    }\n",
       "</style>\n",
       "<table border=\"1\" class=\"dataframe\">\n",
       "  <thead>\n",
       "    <tr style=\"text-align: right;\">\n",
       "      <th></th>\n",
       "      <th>ID</th>\n",
       "      <th>SeriousDlqin2yrs</th>\n",
       "      <th>RevolvingUtilization</th>\n",
       "      <th>No_of_30_59_DPD</th>\n",
       "      <th>DebtRatio</th>\n",
       "      <th>MonthlyIncome</th>\n",
       "      <th>No_Of_OpenCreditLines</th>\n",
       "      <th>No_of_90_DPD</th>\n",
       "      <th>No_of_RealEstateLoans</th>\n",
       "      <th>No_of_60_89_DPD</th>\n",
       "      <th>No_of_30plusDPD</th>\n",
       "      <th>Income_Bucket</th>\n",
       "      <th>Deciles</th>\n",
       "    </tr>\n",
       "  </thead>\n",
       "  <tbody>\n",
       "    <tr>\n",
       "      <th>0</th>\n",
       "      <td>83236</td>\n",
       "      <td>0</td>\n",
       "      <td>0.311726</td>\n",
       "      <td>int64</td>\n",
       "      <td>0.296409</td>\n",
       "      <td>11500.0</td>\n",
       "      <td>12</td>\n",
       "      <td>0</td>\n",
       "      <td>3</td>\n",
       "      <td>0</td>\n",
       "      <td>0</td>\n",
       "      <td>(10000, 20000]</td>\n",
       "      <td>9</td>\n",
       "    </tr>\n",
       "    <tr>\n",
       "      <th>1</th>\n",
       "      <td>2503</td>\n",
       "      <td>0</td>\n",
       "      <td>0.124988</td>\n",
       "      <td>int64</td>\n",
       "      <td>0.115903</td>\n",
       "      <td>14166.0</td>\n",
       "      <td>13</td>\n",
       "      <td>0</td>\n",
       "      <td>1</td>\n",
       "      <td>0</td>\n",
       "      <td>0</td>\n",
       "      <td>(10000, 20000]</td>\n",
       "      <td>10</td>\n",
       "    </tr>\n",
       "    <tr>\n",
       "      <th>2</th>\n",
       "      <td>137013</td>\n",
       "      <td>0</td>\n",
       "      <td>0.060258</td>\n",
       "      <td>int64</td>\n",
       "      <td>0.515147</td>\n",
       "      <td>6733.0</td>\n",
       "      <td>7</td>\n",
       "      <td>0</td>\n",
       "      <td>3</td>\n",
       "      <td>0</td>\n",
       "      <td>0</td>\n",
       "      <td>(0, 10000]</td>\n",
       "      <td>7</td>\n",
       "    </tr>\n",
       "    <tr>\n",
       "      <th>3</th>\n",
       "      <td>51306</td>\n",
       "      <td>0</td>\n",
       "      <td>0.064322</td>\n",
       "      <td>int64</td>\n",
       "      <td>0.165127</td>\n",
       "      <td>13316.0</td>\n",
       "      <td>10</td>\n",
       "      <td>0</td>\n",
       "      <td>1</td>\n",
       "      <td>0</td>\n",
       "      <td>0</td>\n",
       "      <td>(10000, 20000]</td>\n",
       "      <td>10</td>\n",
       "    </tr>\n",
       "    <tr>\n",
       "      <th>4</th>\n",
       "      <td>71937</td>\n",
       "      <td>0</td>\n",
       "      <td>0.211186</td>\n",
       "      <td>int64</td>\n",
       "      <td>0.022283</td>\n",
       "      <td>2557.0</td>\n",
       "      <td>3</td>\n",
       "      <td>0</td>\n",
       "      <td>0</td>\n",
       "      <td>0</td>\n",
       "      <td>0</td>\n",
       "      <td>(0, 10000]</td>\n",
       "      <td>2</td>\n",
       "    </tr>\n",
       "  </tbody>\n",
       "</table>\n",
       "</div>"
      ],
      "text/plain": [
       "       ID  SeriousDlqin2yrs  RevolvingUtilization No_of_30_59_DPD  DebtRatio  \\\n",
       "0   83236                 0              0.311726           int64   0.296409   \n",
       "1    2503                 0              0.124988           int64   0.115903   \n",
       "2  137013                 0              0.060258           int64   0.515147   \n",
       "3   51306                 0              0.064322           int64   0.165127   \n",
       "4   71937                 0              0.211186           int64   0.022283   \n",
       "\n",
       "   MonthlyIncome  No_Of_OpenCreditLines  No_of_90_DPD  No_of_RealEstateLoans  \\\n",
       "0        11500.0                     12             0                      3   \n",
       "1        14166.0                     13             0                      1   \n",
       "2         6733.0                      7             0                      3   \n",
       "3        13316.0                     10             0                      1   \n",
       "4         2557.0                      3             0                      0   \n",
       "\n",
       "   No_of_60_89_DPD  No_of_30plusDPD   Income_Bucket Deciles  \n",
       "0                0                0  (10000, 20000]       9  \n",
       "1                0                0  (10000, 20000]      10  \n",
       "2                0                0      (0, 10000]       7  \n",
       "3                0                0  (10000, 20000]      10  \n",
       "4                0                0      (0, 10000]       2  "
      ]
     },
     "execution_count": 67,
     "metadata": {},
     "output_type": "execute_result"
    }
   ],
   "source": [
    "cust_data.head(5)"
   ]
  },
  {
   "cell_type": "code",
   "execution_count": null,
   "metadata": {},
   "outputs": [],
   "source": []
  }
 ],
 "metadata": {
  "kernelspec": {
   "display_name": "Python 2",
   "language": "python",
   "name": "python2"
  },
  "language_info": {
   "codemirror_mode": {
    "name": "ipython",
    "version": 2
   },
   "file_extension": ".py",
   "mimetype": "text/x-python",
   "name": "python",
   "nbconvert_exporter": "python",
   "pygments_lexer": "ipython2",
   "version": "2.7.15"
  }
 },
 "nbformat": 4,
 "nbformat_minor": 2
}
